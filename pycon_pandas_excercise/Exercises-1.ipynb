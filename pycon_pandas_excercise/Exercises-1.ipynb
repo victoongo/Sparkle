{
 "cells": [
  {
   "cell_type": "code",
   "execution_count": 1,
   "metadata": {
    "collapsed": false
   },
   "outputs": [],
   "source": [
    "%matplotlib inline\n",
    "import pandas as pd"
   ]
  },
  {
   "cell_type": "code",
   "execution_count": 2,
   "metadata": {
    "collapsed": false
   },
   "outputs": [
    {
     "name": "stdout",
     "output_type": "stream",
     "text": [
      "Installed autotime.py. To use it, type:\n",
      "  %load_ext autotime\n"
     ]
    },
    {
     "name": "stderr",
     "output_type": "stream",
     "text": [
      "/home/victor/miniconda/lib/python2.7/site-packages/IPython/core/magics/extension.py:47: UserWarning: %install_ext` is deprecated, please distribute your extension as a python package.\n",
      "  \"as a python package.\", UserWarning)\n"
     ]
    }
   ],
   "source": [
    "%install_ext https://raw.github.com/cpcloud/ipython-autotime/master/autotime.py\n",
    "%load_ext autotime\n",
    "from pyspark import SQLContext\n",
    "sqlContext = SQLContext(sc)"
   ]
  },
  {
   "cell_type": "code",
   "execution_count": 1,
   "metadata": {
    "collapsed": false
   },
   "outputs": [
    {
     "data": {
      "text/html": [
       "<style>body {\n",
       "    margin: 0;\n",
       "    font-family: Helvetica;\n",
       "}\n",
       "table.dataframe {\n",
       "    border-collapse: collapse;\n",
       "    border: none;\n",
       "}\n",
       "table.dataframe tr {\n",
       "    border: none;\n",
       "}\n",
       "table.dataframe td, table.dataframe th {\n",
       "    margin: 0;\n",
       "    border: 1px solid white;\n",
       "    padding-left: 0.25em;\n",
       "    padding-right: 0.25em;\n",
       "}\n",
       "table.dataframe th:not(:empty) {\n",
       "    background-color: #fec;\n",
       "    text-align: left;\n",
       "    font-weight: normal;\n",
       "}\n",
       "table.dataframe tr:nth-child(2) th:empty {\n",
       "    border-left: none;\n",
       "    border-right: 1px dashed #888;\n",
       "}\n",
       "table.dataframe td {\n",
       "    border: 2px solid #ccf;\n",
       "    background-color: #f4f4ff;\n",
       "}\n",
       "h3 {\n",
       "    color: white;\n",
       "    background-color: black;\n",
       "    padding: 0.5em;\n",
       "}\n",
       "</style>"
      ],
      "text/plain": [
       "<IPython.core.display.HTML object>"
      ]
     },
     "execution_count": 1,
     "metadata": {},
     "output_type": "execute_result"
    }
   ],
   "source": [
    "from IPython.core.display import HTML\n",
    "css = open('style-table.css').read() + open('style-notebook.css').read()\n",
    "HTML('<style>{}</style>'.format(css))"
   ]
  },
  {
   "cell_type": "code",
   "execution_count": 5,
   "metadata": {
    "collapsed": false
   },
   "outputs": [
    {
     "name": "stdout",
     "output_type": "stream",
     "text": [
      "time: 2.68 s\n"
     ]
    }
   ],
   "source": [
    "sqlContext.read.format('com.databricks.spark.csv').options(header='true', inferSchema='true')\\\n",
    "    .load('/home/victor/Dropbox/Projects/TreeBoa/pandas/pycon/data/titles.csv')\\\n",
    "    .write.mode('overwrite').parquet('/home/victor/Dropbox/Projects/data/movielens_p/titles')"
   ]
  },
  {
   "cell_type": "code",
   "execution_count": 2,
   "metadata": {
    "collapsed": false
   },
   "outputs": [
    {
     "data": {
      "text/plain": [
       "DataFrame[title: string, year: int]"
      ]
     },
     "execution_count": 2,
     "metadata": {},
     "output_type": "execute_result"
    }
   ],
   "source": [
    "titles = sqlContext.read.parquet(os.path.expanduser('~/Dropbox/Projects/data/movielens_p/titles'))\n",
    "titles.cache()\n",
    "cast = sqlContext.read.parquet(os.path.expanduser('~/Dropbox/Projects/data/movielens_p/cast'))\n",
    "cast.cache()"
   ]
  },
  {
   "cell_type": "code",
   "execution_count": 4,
   "metadata": {
    "collapsed": false
   },
   "outputs": [
    {
     "data": {
      "text/plain": [
       "Row(title=u'The Rising Son', year=1990)"
      ]
     },
     "execution_count": 4,
     "metadata": {},
     "output_type": "execute_result"
    }
   ],
   "source": [
    "# titles = pd.DataFrame.from_csv('data/titles.csv', index_col=None)\n",
    "titles.head()"
   ]
  },
  {
   "cell_type": "code",
   "execution_count": 5,
   "metadata": {
    "collapsed": false
   },
   "outputs": [
    {
     "data": {
      "text/plain": [
       "Row(title=u'Video Diary of a Lost Girl', year=2012, name=u'Crispin Rosenkranz', type=u'actor', character=u'Nice Guy', n=None)"
      ]
     },
     "execution_count": 5,
     "metadata": {},
     "output_type": "execute_result"
    }
   ],
   "source": [
    "# cast = pd.DataFrame.from_csv('data/cast.csv', index_col=None)\n",
    "cast.head()"
   ]
  },
  {
   "cell_type": "markdown",
   "metadata": {
    "collapsed": true
   },
   "source": [
    "### How many movies are listed in the titles dataframe?"
   ]
  },
  {
   "cell_type": "code",
   "execution_count": 10,
   "metadata": {
    "collapsed": false
   },
   "outputs": [
    {
     "data": {
      "text/plain": [
       "212790"
      ]
     },
     "execution_count": 10,
     "metadata": {},
     "output_type": "execute_result"
    },
    {
     "name": "stdout",
     "output_type": "stream",
     "text": [
      "time: 597 ms\n"
     ]
    }
   ],
   "source": [
    "titles.count()"
   ]
  },
  {
   "cell_type": "code",
   "execution_count": 11,
   "metadata": {
    "collapsed": false
   },
   "outputs": [
    {
     "data": {
      "text/plain": [
       "194784"
      ]
     },
     "execution_count": 11,
     "metadata": {},
     "output_type": "execute_result"
    },
    {
     "name": "stdout",
     "output_type": "stream",
     "text": [
      "time: 3.24 s\n"
     ]
    }
   ],
   "source": [
    "titles.select('title').distinct().count()"
   ]
  },
  {
   "cell_type": "markdown",
   "metadata": {
    "collapsed": true
   },
   "source": [
    "### What are the earliest two films listed in the titles dataframe?"
   ]
  },
  {
   "cell_type": "code",
   "execution_count": 13,
   "metadata": {
    "collapsed": false
   },
   "outputs": [
    {
     "name": "stdout",
     "output_type": "stream",
     "text": [
      "+----+\n",
      "|year|\n",
      "+----+\n",
      "|1894|\n",
      "|1897|\n",
      "+----+\n",
      "only showing top 2 rows\n",
      "\n",
      "time: 219 ms\n"
     ]
    }
   ],
   "source": [
    "titles.select('year').sort('year').show(2)"
   ]
  },
  {
   "cell_type": "code",
   "execution_count": null,
   "metadata": {
    "collapsed": true
   },
   "outputs": [],
   "source": []
  },
  {
   "cell_type": "markdown",
   "metadata": {
    "collapsed": true
   },
   "source": [
    "### How many movies have the title \"Hamlet\"?"
   ]
  },
  {
   "cell_type": "code",
   "execution_count": 18,
   "metadata": {
    "collapsed": false
   },
   "outputs": [
    {
     "name": "stdout",
     "output_type": "stream",
     "text": [
      "+------+----+\n",
      "| title|year|\n",
      "+------+----+\n",
      "|Hamlet|1948|\n",
      "|Hamlet|2015|\n",
      "|Hamlet|1990|\n",
      "|Hamlet|1910|\n",
      "|Hamlet|1954|\n",
      "|Hamlet|1913|\n",
      "|Hamlet|1976|\n",
      "|Hamlet|1987|\n",
      "|Hamlet|2000|\n",
      "|Hamlet|1921|\n",
      "|Hamlet|1969|\n",
      "|Hamlet|2009|\n",
      "|Hamlet|2016|\n",
      "|Hamlet|1964|\n",
      "|Hamlet|1996|\n",
      "|Hamlet|2011|\n",
      "|Hamlet|1911|\n",
      "|Hamlet|1973|\n",
      "|Hamlet|2014|\n",
      "+------+----+\n",
      "\n",
      "time: 293 ms\n"
     ]
    }
   ],
   "source": [
    "titles[titles.title == 'Hamlet'].show()"
   ]
  },
  {
   "cell_type": "code",
   "execution_count": null,
   "metadata": {
    "collapsed": true
   },
   "outputs": [],
   "source": []
  },
  {
   "cell_type": "markdown",
   "metadata": {
    "collapsed": true
   },
   "source": [
    "### How many movies are titled \"North by Northwest\"?"
   ]
  },
  {
   "cell_type": "code",
   "execution_count": 19,
   "metadata": {
    "collapsed": false
   },
   "outputs": [
    {
     "name": "stdout",
     "output_type": "stream",
     "text": [
      "+------------------+----+\n",
      "|             title|year|\n",
      "+------------------+----+\n",
      "|North by Northwest|1959|\n",
      "+------------------+----+\n",
      "\n",
      "time: 123 ms\n"
     ]
    }
   ],
   "source": [
    "titles[titles.title == 'North by Northwest'].show()"
   ]
  },
  {
   "cell_type": "code",
   "execution_count": null,
   "metadata": {
    "collapsed": true
   },
   "outputs": [],
   "source": []
  },
  {
   "cell_type": "markdown",
   "metadata": {
    "collapsed": true
   },
   "source": [
    "### When was the first movie titled \"Hamlet\" made?"
   ]
  },
  {
   "cell_type": "code",
   "execution_count": 20,
   "metadata": {
    "collapsed": false
   },
   "outputs": [
    {
     "name": "stdout",
     "output_type": "stream",
     "text": [
      "+------+----+\n",
      "| title|year|\n",
      "+------+----+\n",
      "|Hamlet|1910|\n",
      "+------+----+\n",
      "only showing top 1 row\n",
      "\n",
      "time: 72.6 ms\n"
     ]
    }
   ],
   "source": [
    "titles[titles.title == 'Hamlet'].sort('year').show(1)"
   ]
  },
  {
   "cell_type": "code",
   "execution_count": null,
   "metadata": {
    "collapsed": true
   },
   "outputs": [],
   "source": []
  },
  {
   "cell_type": "markdown",
   "metadata": {
    "collapsed": true
   },
   "source": [
    "### List all of the \"Treasure Island\" movies from earliest to most recent."
   ]
  },
  {
   "cell_type": "code",
   "execution_count": 21,
   "metadata": {
    "collapsed": false
   },
   "outputs": [
    {
     "name": "stdout",
     "output_type": "stream",
     "text": [
      "+---------------+----+\n",
      "|          title|year|\n",
      "+---------------+----+\n",
      "|Treasure Island|1918|\n",
      "|Treasure Island|1920|\n",
      "|Treasure Island|1934|\n",
      "|Treasure Island|1950|\n",
      "|Treasure Island|1972|\n",
      "|Treasure Island|1973|\n",
      "|Treasure Island|1985|\n",
      "|Treasure Island|1999|\n",
      "+---------------+----+\n",
      "\n",
      "time: 115 ms\n"
     ]
    }
   ],
   "source": [
    "titles[titles.title == 'Treasure Island'].sort('year').show()"
   ]
  },
  {
   "cell_type": "code",
   "execution_count": null,
   "metadata": {
    "collapsed": true
   },
   "outputs": [],
   "source": []
  },
  {
   "cell_type": "markdown",
   "metadata": {
    "collapsed": true
   },
   "source": [
    "### How many movies were made in the year 1950?"
   ]
  },
  {
   "cell_type": "code",
   "execution_count": 22,
   "metadata": {
    "collapsed": false
   },
   "outputs": [
    {
     "data": {
      "text/plain": [
       "1033"
      ]
     },
     "execution_count": 22,
     "metadata": {},
     "output_type": "execute_result"
    },
    {
     "name": "stdout",
     "output_type": "stream",
     "text": [
      "time: 133 ms\n"
     ]
    }
   ],
   "source": [
    "titles[titles.year == 1950].count()"
   ]
  },
  {
   "cell_type": "code",
   "execution_count": null,
   "metadata": {
    "collapsed": true
   },
   "outputs": [],
   "source": []
  },
  {
   "cell_type": "markdown",
   "metadata": {
    "collapsed": true
   },
   "source": [
    "### How many movies were made in the year 1960?"
   ]
  },
  {
   "cell_type": "code",
   "execution_count": 23,
   "metadata": {
    "collapsed": false
   },
   "outputs": [
    {
     "data": {
      "text/plain": [
       "1033"
      ]
     },
     "execution_count": 23,
     "metadata": {},
     "output_type": "execute_result"
    },
    {
     "name": "stdout",
     "output_type": "stream",
     "text": [
      "time: 108 ms\n"
     ]
    }
   ],
   "source": [
    "titles[titles.year == 1950].count()"
   ]
  },
  {
   "cell_type": "code",
   "execution_count": null,
   "metadata": {
    "collapsed": true
   },
   "outputs": [],
   "source": []
  },
  {
   "cell_type": "markdown",
   "metadata": {
    "collapsed": true
   },
   "source": [
    "### How many movies were made from 1950 through 1959?"
   ]
  },
  {
   "cell_type": "code",
   "execution_count": 26,
   "metadata": {
    "collapsed": false
   },
   "outputs": [
    {
     "data": {
      "text/plain": [
       "12051"
      ]
     },
     "execution_count": 26,
     "metadata": {},
     "output_type": "execute_result"
    },
    {
     "name": "stdout",
     "output_type": "stream",
     "text": [
      "time: 120 ms\n"
     ]
    }
   ],
   "source": [
    "titles[(titles.year >= 1950) & (titles.year <= 1959)].count()"
   ]
  },
  {
   "cell_type": "code",
   "execution_count": null,
   "metadata": {
    "collapsed": true
   },
   "outputs": [],
   "source": []
  },
  {
   "cell_type": "markdown",
   "metadata": {
    "collapsed": true
   },
   "source": [
    "### In what years has a movie titled \"Batman\" been released?"
   ]
  },
  {
   "cell_type": "code",
   "execution_count": 29,
   "metadata": {
    "collapsed": false
   },
   "outputs": [
    {
     "name": "stdout",
     "output_type": "stream",
     "text": [
      "+----+\n",
      "|year|\n",
      "+----+\n",
      "|1989|\n",
      "|1943|\n",
      "+----+\n",
      "\n",
      "time: 150 ms\n"
     ]
    }
   ],
   "source": [
    "titles[titles.title == \"Batman\"].select('year').show()"
   ]
  },
  {
   "cell_type": "code",
   "execution_count": null,
   "metadata": {
    "collapsed": true
   },
   "outputs": [],
   "source": []
  },
  {
   "cell_type": "markdown",
   "metadata": {
    "collapsed": true
   },
   "source": [
    "### How many roles were there in the movie \"Inception\"?"
   ]
  },
  {
   "cell_type": "code",
   "execution_count": 32,
   "metadata": {
    "collapsed": false
   },
   "outputs": [
    {
     "data": {
      "text/plain": [
       "72"
      ]
     },
     "execution_count": 32,
     "metadata": {},
     "output_type": "execute_result"
    },
    {
     "name": "stdout",
     "output_type": "stream",
     "text": [
      "time: 4.92 s\n"
     ]
    }
   ],
   "source": [
    "cast[cast.title == 'Inception'].count()"
   ]
  },
  {
   "cell_type": "code",
   "execution_count": 33,
   "metadata": {
    "collapsed": false
   },
   "outputs": [
    {
     "name": "stdout",
     "output_type": "stream",
     "text": [
      "+--------------------+----+--------------------+-----+---------------+----+\n",
      "|               title|year|                name| type|      character|   n|\n",
      "+--------------------+----+--------------------+-----+---------------+----+\n",
      "|Video Diary of a ...|2012|  Crispin Rosenkranz|actor|       Nice Guy|null|\n",
      "|       The Ramrodder|1969|    David Rosenkranz|actor|Bo - Rick's Pal|   5|\n",
      "|           Freistatt|2015|   Justus Rosenkranz|actor|         Mattis|  10|\n",
      "|   Corporate Affairs|2008|Alexander Rosenkreuz|actor|            Jay|  12|\n",
      "|              Herman|1990|Morten A. Rosenkvist|actor|        Bj?rnar|  13|\n",
      "|        Opstandelsen|2010|Peter Gabriel Ros...|actor|     Bengnasker|  12|\n",
      "|    Turlis Abenteuer|1967|Gerrhard Rosenlocher|actor|      Trumpeter|  21|\n",
      "|Carl Gustav, gjen...|1982|     Jarle Rosenlund|actor|         Henrik|   5|\n",
      "|  Det tause flertall|1977|     Stein Rosenlund|actor|     Discjockey|null|\n",
      "|   Hvem har bestemt?|1978|     Stein Rosenlund|actor|          Runar|   4|\n",
      "|        Jos rakastat|2010|      Yrj? Rosenlund|actor|Laulava potilas|  41|\n",
      "|      Coming & Going|2011|     Howard Rosenman|actor|        Creator|null|\n",
      "|                Milk|2008|     Howard Rosenman|actor|David Goodstein|  13|\n",
      "|Should've Been Romeo|2012|     Howard Rosenman|actor|          Henry|   8|\n",
      "|             Sparkle|2012|     Howard Rosenman|actor|       Landlord|  24|\n",
      "|           Fairfield|2014|    Grant Rosenmeyer|actor| Tucker Donovan|null|\n",
      "|               Fugue|2008|    Grant Rosenmeyer|actor|     Hal Gordon|null|\n",
      "|      I Do & I Don't|2007|    Grant Rosenmeyer|actor|  Mark, The Son|  12|\n",
      "|       Money Monster|2015|    Grant Rosenmeyer|actor|           Dave|null|\n",
      "|          Temps (II)|2015|    Grant Rosenmeyer|actor|      Jefferson|null|\n",
      "+--------------------+----+--------------------+-----+---------------+----+\n",
      "only showing top 20 rows\n",
      "\n",
      "time: 37.2 ms\n"
     ]
    }
   ],
   "source": [
    "cast.show()"
   ]
  },
  {
   "cell_type": "markdown",
   "metadata": {
    "collapsed": true
   },
   "source": [
    "### How many roles in the movie \"Inception\" are NOT ranked by an \"n\" value?"
   ]
  },
  {
   "cell_type": "code",
   "execution_count": 10,
   "metadata": {
    "collapsed": false
   },
   "outputs": [
    {
     "data": {
      "text/plain": [
       "21"
      ]
     },
     "execution_count": 10,
     "metadata": {},
     "output_type": "execute_result"
    }
   ],
   "source": [
    "# cast[(cast.title == 'Inception') & (cast.n == np.non)].count()\n",
    "# cast[(cast.title == 'Inception') & (cast.select('n').isNull())].count()\n",
    "cast[(cast.title == 'Inception') & (cast.n.isNull())].count()"
   ]
  },
  {
   "cell_type": "code",
   "execution_count": 8,
   "metadata": {
    "collapsed": false
   },
   "outputs": [
    {
     "name": "stdout",
     "output_type": "stream",
     "text": [
      "+--------------------+----+--------------------+-----+--------------------+----+\n",
      "|               title|year|                name| type|           character|   n|\n",
      "+--------------------+----+--------------------+-----+--------------------+----+\n",
      "|Video Diary of a ...|2012|  Crispin Rosenkranz|actor|            Nice Guy|null|\n",
      "|  Det tause flertall|1977|     Stein Rosenlund|actor|          Discjockey|null|\n",
      "|      Coming & Going|2011|     Howard Rosenman|actor|             Creator|null|\n",
      "|           Fairfield|2014|    Grant Rosenmeyer|actor|      Tucker Donovan|null|\n",
      "|               Fugue|2008|    Grant Rosenmeyer|actor|          Hal Gordon|null|\n",
      "|       Money Monster|2015|    Grant Rosenmeyer|actor|                Dave|null|\n",
      "|          Temps (II)|2015|    Grant Rosenmeyer|actor|           Jefferson|null|\n",
      "|               06/05|2004|    Paul Rosenm?ller|actor|             Himself|null|\n",
      "|      Absolute Quiet|1936|   Jessie Rosenquist|actor|     Radio Announcer|null|\n",
      "|           Tough Guy|1936|   Jessie Rosenquist|actor|    Jesse Rosenquist|null|\n",
      "|       Hammered (II)|2015|     John Rosenquist|actor|                Todd|null|\n",
      "|     In a Goodly Way|2013|     Matt Rosenquist|actor|      Dwight DeGroot|null|\n",
      "|Styrman Karlssons...|1938|   Holger Rosenqvist|actor|              Dancer|null|\n",
      "|            Ihmemies|1979|   P?ivi? Rosenqvist|actor|   Knifed bootlegger|null|\n",
      "|In the Good Old S...|1949|   Arthur Rosenstein|actor|Louise's Accompanist|null|\n",
      "|     Maurice Richard|2005|Howard (II) Rosen...|actor|         Ken Reardon|null|\n",
      "|     Ghostbusters II|1989|   Ira S. Rosenstein|actor|       Stage Manager|null|\n",
      "|           King Kong|1976|   Ira S. Rosenstein|actor|               Logan|null|\n",
      "|     The Ice Pirates|1984|   Ira S. Rosenstein|actor|            The Monk|null|\n",
      "|        Ghosthunter!|2000|      Tim Rosenstein|actor|        Isaac Farley|null|\n",
      "+--------------------+----+--------------------+-----+--------------------+----+\n",
      "only showing top 20 rows\n",
      "\n"
     ]
    }
   ],
   "source": [
    "cast[cast.n.isNull()].show()"
   ]
  },
  {
   "cell_type": "code",
   "execution_count": 36,
   "metadata": {
    "collapsed": false
   },
   "outputs": [
    {
     "name": "stdout",
     "output_type": "stream",
     "text": [
      "root\n",
      " |-- title: string (nullable = true)\n",
      " |-- year: integer (nullable = true)\n",
      " |-- name: string (nullable = true)\n",
      " |-- type: string (nullable = true)\n",
      " |-- character: string (nullable = true)\n",
      " |-- n: integer (nullable = true)\n",
      "\n",
      "time: 9.43 ms\n"
     ]
    }
   ],
   "source": [
    "cast.printSchema()"
   ]
  },
  {
   "cell_type": "markdown",
   "metadata": {
    "collapsed": true
   },
   "source": [
    "### But how many roles in the movie \"Inception\" did receive an \"n\" value?"
   ]
  },
  {
   "cell_type": "code",
   "execution_count": 12,
   "metadata": {
    "collapsed": false
   },
   "outputs": [
    {
     "data": {
      "text/plain": [
       "51"
      ]
     },
     "execution_count": 12,
     "metadata": {},
     "output_type": "execute_result"
    }
   ],
   "source": [
    "cast[(cast.title == 'Inception') & (cast.n.isNotNull())].count()"
   ]
  },
  {
   "cell_type": "code",
   "execution_count": null,
   "metadata": {
    "collapsed": true
   },
   "outputs": [],
   "source": []
  },
  {
   "cell_type": "markdown",
   "metadata": {
    "collapsed": true
   },
   "source": [
    "### Display the cast of \"North by Northwest\" in their correct \"n\"-value order, ignoring roles that did not earn a numeric \"n\" value."
   ]
  },
  {
   "cell_type": "code",
   "execution_count": 18,
   "metadata": {
    "collapsed": false
   },
   "outputs": [
    {
     "name": "stdout",
     "output_type": "stream",
     "text": [
      "+--------------------+\n",
      "|                name|\n",
      "+--------------------+\n",
      "|          Cary Grant|\n",
      "|     Eva Marie Saint|\n",
      "|         James Mason|\n",
      "| Jessie Royce Landis|\n",
      "|      Leo G. Carroll|\n",
      "|Josephine Hutchinson|\n",
      "|         Philip Ober|\n",
      "|       Martin Landau|\n",
      "|       Adam Williams|\n",
      "|        Edward Platt|\n",
      "|   Robert Ellenstein|\n",
      "|        Les Tremayne|\n",
      "|     Philip Coolidge|\n",
      "|       Patrick McVey|\n",
      "|        Edward Binns|\n",
      "|           Ken Lynch|\n",
      "+--------------------+\n",
      "\n"
     ]
    }
   ],
   "source": [
    "cast[(cast.title == 'North by Northwest') & (cast.n.isNotNull())].sort('n').select('name').show()"
   ]
  },
  {
   "cell_type": "code",
   "execution_count": null,
   "metadata": {
    "collapsed": true
   },
   "outputs": [],
   "source": []
  },
  {
   "cell_type": "markdown",
   "metadata": {
    "collapsed": true
   },
   "source": [
    "### Display the entire cast, in \"n\"-order, of the 1972 film \"Sleuth\"."
   ]
  },
  {
   "cell_type": "code",
   "execution_count": 15,
   "metadata": {
    "collapsed": false
   },
   "outputs": [
    {
     "name": "stdout",
     "output_type": "stream",
     "text": [
      "+------------------+\n",
      "|              name|\n",
      "+------------------+\n",
      "|  Laurence Olivier|\n",
      "|     Michael Caine|\n",
      "|    Alec Cawthorne|\n",
      "|John (II) Matthews|\n",
      "|Eve (III) Channing|\n",
      "|      Teddy Martin|\n",
      "+------------------+\n",
      "\n"
     ]
    }
   ],
   "source": [
    "cast[(cast.year == 1972) & (cast.title == 'Sleuth')].sort('n', ascending=True).select('name').show()"
   ]
  },
  {
   "cell_type": "code",
   "execution_count": null,
   "metadata": {
    "collapsed": true
   },
   "outputs": [],
   "source": []
  },
  {
   "cell_type": "markdown",
   "metadata": {
    "collapsed": true
   },
   "source": [
    "### Now display the entire cast, in \"n\"-order, of the 2007 version of \"Sleuth\"."
   ]
  },
  {
   "cell_type": "code",
   "execution_count": 16,
   "metadata": {
    "collapsed": false
   },
   "outputs": [
    {
     "name": "stdout",
     "output_type": "stream",
     "text": [
      "+-------------------+\n",
      "|               name|\n",
      "+-------------------+\n",
      "|  Eve (II) Channing|\n",
      "|  Carmel O'Sullivan|\n",
      "|Alec (II) Cawthorne|\n",
      "|    Kenneth Branagh|\n",
      "|      Michael Caine|\n",
      "|           Jude Law|\n",
      "|      Harold Pinter|\n",
      "+-------------------+\n",
      "\n"
     ]
    }
   ],
   "source": [
    "cast[(cast.year == 2007) & (cast.title == 'Sleuth')].sort('n', ascending=True).select('name').show()"
   ]
  },
  {
   "cell_type": "code",
   "execution_count": null,
   "metadata": {
    "collapsed": true
   },
   "outputs": [],
   "source": []
  },
  {
   "cell_type": "markdown",
   "metadata": {
    "collapsed": true
   },
   "source": [
    "### How many roles were credited in the silent 1921 version of Hamlet?"
   ]
  },
  {
   "cell_type": "code",
   "execution_count": 20,
   "metadata": {
    "collapsed": false
   },
   "outputs": [
    {
     "name": "stdout",
     "output_type": "stream",
     "text": [
      "+------+----+--------------------+-------+----------------+---+\n",
      "| title|year|                name|   type|       character|  n|\n",
      "+------+----+--------------------+-------+----------------+---+\n",
      "|Hamlet|1921|        Heinz Stieda|  actor|         Horatio|  5|\n",
      "|Hamlet|1921|Eduard von Winter...|  actor|        Claudius|  4|\n",
      "|Hamlet|1921|        Asta Nielsen|actress|          Hamlet|  1|\n",
      "|Hamlet|1921|     Hans Junkermann|  actor|        Polonius|  6|\n",
      "|Hamlet|1921|     Mathilde Brandt|actress|K?nigin Gertrude|  3|\n",
      "|Hamlet|1921|      Lilly Jacobson|actress|         Ophelia|  8|\n",
      "|Hamlet|1921|    Fritz Achterberg|  actor|     Fortinbras,|  9|\n",
      "|Hamlet|1921|        Paul Conradi|  actor|    K?nig Hamlet|  2|\n",
      "|Hamlet|1921|    Anton De Verdier|  actor|         Laertes|  7|\n",
      "+------+----+--------------------+-------+----------------+---+\n",
      "\n"
     ]
    }
   ],
   "source": [
    "cast[(cast.year == 1921) & (cast.title == 'Hamlet')].show()"
   ]
  },
  {
   "cell_type": "code",
   "execution_count": null,
   "metadata": {
    "collapsed": true
   },
   "outputs": [],
   "source": []
  },
  {
   "cell_type": "markdown",
   "metadata": {
    "collapsed": true
   },
   "source": [
    "### How many roles were credited in Branagh’s 1996 Hamlet?"
   ]
  },
  {
   "cell_type": "code",
   "execution_count": 21,
   "metadata": {
    "collapsed": false
   },
   "outputs": [
    {
     "name": "stdout",
     "output_type": "stream",
     "text": [
      "+------+----+--------------------+-------+--------------------+----+\n",
      "| title|year|                name|   type|           character|   n|\n",
      "+------+----+--------------------+-------+--------------------+----+\n",
      "|Hamlet|1996|    Andrew Schofield|  actor|          Young Lord|  38|\n",
      "|Hamlet|1996|       Orlando Seale|  actor|             Boatman|null|\n",
      "|Hamlet|1996|        Rufus Sewell|  actor|          Fortinbras|  39|\n",
      "|Hamlet|1996|       Timothy Spall|  actor|         Rosencrantz|  40|\n",
      "|Hamlet|1996|John Spencer-Chur...|  actor|Fortinbras's Captain|  32|\n",
      "|Hamlet|1996|     Thomas Szekeres|  actor|        Young Hamlet|  41|\n",
      "|Hamlet|1996|            Ben Thom|  actor|        First Player|  42|\n",
      "|Hamlet|1996|      Don Warrington|  actor|           Voltimand|  43|\n",
      "|Hamlet|1996|      Robin Williams|  actor|               Osric|  45|\n",
      "|Hamlet|1996|           David Yip|  actor|          Sailor One|  47|\n",
      "|Hamlet|1996|         Jimmy Yuill|  actor|           Alexander|null|\n",
      "|Hamlet|1996|       Sian Radinger|actress|            Prologue|  35|\n",
      "|Hamlet|1996|      Melanie Ramsay|actress|          Prostitute|null|\n",
      "|Hamlet|1996|      Melanie Ramsey|actress|          Prostitute|  36|\n",
      "|Hamlet|1996|       Perdita Weeks|actress|       Second Player|  44|\n",
      "|Hamlet|1996|        Kate Winslet|actress|             Ophelia|  46|\n",
      "|Hamlet|1996|         Jack Lemmon|  actor|           Marcellus|  29|\n",
      "|Hamlet|1996|   Anthony Maddalena|  actor|   Elsinore Courtier|null|\n",
      "|Hamlet|1996|     Michael Maloney|  actor|             Laertes|  31|\n",
      "|Hamlet|1996|      Ian McElhinney|  actor|            Barnardo|  30|\n",
      "+------+----+--------------------+-------+--------------------+----+\n",
      "only showing top 20 rows\n",
      "\n"
     ]
    }
   ],
   "source": [
    "cast[(cast.year == 1996) & (cast.title == 'Hamlet')].show()"
   ]
  },
  {
   "cell_type": "code",
   "execution_count": null,
   "metadata": {
    "collapsed": true
   },
   "outputs": [],
   "source": []
  },
  {
   "cell_type": "markdown",
   "metadata": {
    "collapsed": true
   },
   "source": [
    "### How many \"Hamlet\" roles have been listed in all film credits through history?"
   ]
  },
  {
   "cell_type": "code",
   "execution_count": 25,
   "metadata": {
    "collapsed": false
   },
   "outputs": [
    {
     "data": {
      "text/plain": [
       "105"
      ]
     },
     "execution_count": 25,
     "metadata": {},
     "output_type": "execute_result"
    }
   ],
   "source": [
    "cast[cast.title == 'Hamlet'].select('character').distinct().count()"
   ]
  },
  {
   "cell_type": "code",
   "execution_count": null,
   "metadata": {
    "collapsed": true
   },
   "outputs": [],
   "source": []
  },
  {
   "cell_type": "markdown",
   "metadata": {
    "collapsed": true
   },
   "source": [
    "### How many people have played an \"Ophelia\"?"
   ]
  },
  {
   "cell_type": "code",
   "execution_count": 28,
   "metadata": {
    "collapsed": false
   },
   "outputs": [
    {
     "data": {
      "text/plain": [
       "94"
      ]
     },
     "execution_count": 28,
     "metadata": {},
     "output_type": "execute_result"
    }
   ],
   "source": [
    "cast[cast.character == 'Ophelia'].select('name').distinct().count()"
   ]
  },
  {
   "cell_type": "code",
   "execution_count": null,
   "metadata": {
    "collapsed": true
   },
   "outputs": [],
   "source": []
  },
  {
   "cell_type": "markdown",
   "metadata": {
    "collapsed": true
   },
   "source": [
    "### How many people have played a role called \"The Dude\"?"
   ]
  },
  {
   "cell_type": "code",
   "execution_count": 29,
   "metadata": {
    "collapsed": false
   },
   "outputs": [
    {
     "data": {
      "text/plain": [
       "16"
      ]
     },
     "execution_count": 29,
     "metadata": {},
     "output_type": "execute_result"
    }
   ],
   "source": [
    "cast[cast.character == 'The Dude'].select('name').distinct().count()"
   ]
  },
  {
   "cell_type": "code",
   "execution_count": null,
   "metadata": {
    "collapsed": true
   },
   "outputs": [],
   "source": []
  },
  {
   "cell_type": "markdown",
   "metadata": {
    "collapsed": true
   },
   "source": [
    "### How many people have played a role called \"The Stranger\"?"
   ]
  },
  {
   "cell_type": "code",
   "execution_count": 31,
   "metadata": {
    "collapsed": false
   },
   "outputs": [
    {
     "data": {
      "text/plain": [
       "183"
      ]
     },
     "execution_count": 31,
     "metadata": {},
     "output_type": "execute_result"
    }
   ],
   "source": [
    "cast[cast.character == 'The Stranger'].select('name').distinct().count()"
   ]
  },
  {
   "cell_type": "code",
   "execution_count": null,
   "metadata": {
    "collapsed": true
   },
   "outputs": [],
   "source": []
  },
  {
   "cell_type": "markdown",
   "metadata": {
    "collapsed": true
   },
   "source": [
    "### How many roles has Sidney Poitier played throughout his career?"
   ]
  },
  {
   "cell_type": "code",
   "execution_count": 32,
   "metadata": {
    "collapsed": false
   },
   "outputs": [
    {
     "data": {
      "text/plain": [
       "41"
      ]
     },
     "execution_count": 32,
     "metadata": {},
     "output_type": "execute_result"
    }
   ],
   "source": [
    "cast[cast.name == 'Sidney Poitier'].select('character').distinct().count()"
   ]
  },
  {
   "cell_type": "code",
   "execution_count": null,
   "metadata": {
    "collapsed": true
   },
   "outputs": [],
   "source": []
  },
  {
   "cell_type": "markdown",
   "metadata": {
    "collapsed": true
   },
   "source": [
    "### How many roles has Judi Dench played?"
   ]
  },
  {
   "cell_type": "code",
   "execution_count": 33,
   "metadata": {
    "collapsed": false
   },
   "outputs": [
    {
     "data": {
      "text/plain": [
       "43"
      ]
     },
     "execution_count": 33,
     "metadata": {},
     "output_type": "execute_result"
    }
   ],
   "source": [
    "cast[cast.name == 'Judi Dench'].select('character').distinct().count()"
   ]
  },
  {
   "cell_type": "code",
   "execution_count": null,
   "metadata": {
    "collapsed": true
   },
   "outputs": [],
   "source": []
  },
  {
   "cell_type": "markdown",
   "metadata": {
    "collapsed": true
   },
   "source": [
    "### List the supporting roles (having n=2) played by Cary Grant in the 1940s, in order by year."
   ]
  },
  {
   "cell_type": "code",
   "execution_count": 35,
   "metadata": {
    "collapsed": false
   },
   "outputs": [
    {
     "name": "stdout",
     "output_type": "stream",
     "text": [
      "+-----------+\n",
      "|  character|\n",
      "+-----------+\n",
      "|       Nick|\n",
      "|Roger Adams|\n",
      "+-----------+\n",
      "\n"
     ]
    }
   ],
   "source": [
    "cast[(cast.name == 'Cary Grant') & (cast.n == 2) & (cast.year >= 1940) & (cast.year <= 1949)]\\\n",
    "    .sort('year').select('character').show(50)"
   ]
  },
  {
   "cell_type": "code",
   "execution_count": null,
   "metadata": {
    "collapsed": true
   },
   "outputs": [],
   "source": []
  },
  {
   "cell_type": "markdown",
   "metadata": {
    "collapsed": true
   },
   "source": [
    "### List the leading roles that Cary Grant played in the 1940s in order by year."
   ]
  },
  {
   "cell_type": "code",
   "execution_count": 36,
   "metadata": {
    "collapsed": false
   },
   "outputs": [
    {
     "name": "stdout",
     "output_type": "stream",
     "text": [
      "+--------------------+\n",
      "|           character|\n",
      "+--------------------+\n",
      "|        Walter Burns|\n",
      "|  C. K. Dexter Haven|\n",
      "|         Matt Howard|\n",
      "|             Johnnie|\n",
      "|Patrick 'Pat' O'T...|\n",
      "|        Leopold Dilg|\n",
      "|       Capt. Cassidy|\n",
      "|           Joe Adams|\n",
      "|     Joe Bascopolous|\n",
      "|         Jerry Flynn|\n",
      "|          Ernie Mott|\n",
      "|   Mortimer Brewster|\n",
      "|         Cole Porter|\n",
      "|              Devlin|\n",
      "|                Dick|\n",
      "|              Dudley|\n",
      "|   Dr. Madison Brown|\n",
      "|       Jim Blandings|\n",
      "| Capt. Henri Rochard|\n",
      "+--------------------+\n",
      "\n"
     ]
    }
   ],
   "source": [
    "cast[(cast.name == 'Cary Grant') & (cast.n == 1) & (cast.year >= 1940) & (cast.year <= 1949)]\\\n",
    "    .sort('year').select('character').show(50)"
   ]
  },
  {
   "cell_type": "code",
   "execution_count": null,
   "metadata": {
    "collapsed": true
   },
   "outputs": [],
   "source": []
  },
  {
   "cell_type": "markdown",
   "metadata": {
    "collapsed": true
   },
   "source": [
    "### How many roles were available for actors in the 1950s?"
   ]
  },
  {
   "cell_type": "code",
   "execution_count": 39,
   "metadata": {
    "collapsed": false
   },
   "outputs": [
    {
     "data": {
      "text/plain": [
       "147404"
      ]
     },
     "execution_count": 39,
     "metadata": {},
     "output_type": "execute_result"
    }
   ],
   "source": [
    "cast[(cast.type == 'actor') & (cast.year >= 1950) & (cast.year <= 1959)].count()"
   ]
  },
  {
   "cell_type": "code",
   "execution_count": null,
   "metadata": {
    "collapsed": true
   },
   "outputs": [],
   "source": []
  },
  {
   "cell_type": "markdown",
   "metadata": {
    "collapsed": true
   },
   "source": [
    "### How many roles were avilable for actresses in the 1950s?"
   ]
  },
  {
   "cell_type": "code",
   "execution_count": 40,
   "metadata": {
    "collapsed": false
   },
   "outputs": [
    {
     "data": {
      "text/plain": [
       "53793"
      ]
     },
     "execution_count": 40,
     "metadata": {},
     "output_type": "execute_result"
    }
   ],
   "source": [
    "cast[~(cast.type == 'actor') & (cast.year >= 1950) & (cast.year <= 1959)].count()"
   ]
  },
  {
   "cell_type": "code",
   "execution_count": 41,
   "metadata": {
    "collapsed": false
   },
   "outputs": [
    {
     "data": {
      "text/plain": [
       "53793"
      ]
     },
     "execution_count": 41,
     "metadata": {},
     "output_type": "execute_result"
    }
   ],
   "source": [
    "cast[(cast.type == 'actress') & (cast.year >= 1950) & (cast.year <= 1959)].count()"
   ]
  },
  {
   "cell_type": "markdown",
   "metadata": {
    "collapsed": true
   },
   "source": [
    "### How many leading roles (n=1) were available from the beginning of film history through 1980?"
   ]
  },
  {
   "cell_type": "code",
   "execution_count": 42,
   "metadata": {
    "collapsed": false
   },
   "outputs": [
    {
     "data": {
      "text/plain": [
       "72478"
      ]
     },
     "execution_count": 42,
     "metadata": {},
     "output_type": "execute_result"
    }
   ],
   "source": [
    "cast[(cast.n == 1) & (cast.year <= 1989)].count()"
   ]
  },
  {
   "cell_type": "code",
   "execution_count": null,
   "metadata": {
    "collapsed": true
   },
   "outputs": [],
   "source": []
  },
  {
   "cell_type": "markdown",
   "metadata": {
    "collapsed": true
   },
   "source": [
    "### How many non-leading roles were available through from the beginning of film history through 1980?"
   ]
  },
  {
   "cell_type": "code",
   "execution_count": 43,
   "metadata": {
    "collapsed": false
   },
   "outputs": [
    {
     "data": {
      "text/plain": [
       "824763"
      ]
     },
     "execution_count": 43,
     "metadata": {},
     "output_type": "execute_result"
    }
   ],
   "source": [
    "cast[~(cast.n == 1) & (cast.year <= 1989)].count()"
   ]
  },
  {
   "cell_type": "code",
   "execution_count": null,
   "metadata": {
    "collapsed": true
   },
   "outputs": [],
   "source": []
  },
  {
   "cell_type": "markdown",
   "metadata": {
    "collapsed": true
   },
   "source": [
    "### How many roles through 1980 were minor enough that they did not warrant a numeric \"n\" rank?"
   ]
  },
  {
   "cell_type": "code",
   "execution_count": 44,
   "metadata": {
    "collapsed": false
   },
   "outputs": [
    {
     "data": {
      "text/plain": [
       "455696"
      ]
     },
     "execution_count": 44,
     "metadata": {},
     "output_type": "execute_result"
    }
   ],
   "source": [
    "cast[cast.n.isNull() & (cast.year <= 1989)].count()"
   ]
  },
  {
   "cell_type": "code",
   "execution_count": null,
   "metadata": {
    "collapsed": true
   },
   "outputs": [],
   "source": []
  }
 ],
 "metadata": {
  "kernelspec": {
   "display_name": "Python 2",
   "language": "python",
   "name": "python2"
  },
  "language_info": {
   "codemirror_mode": {
    "name": "ipython",
    "version": 2
   },
   "file_extension": ".py",
   "mimetype": "text/x-python",
   "name": "python",
   "nbconvert_exporter": "python",
   "pygments_lexer": "ipython2",
   "version": "2.7.11"
  }
 },
 "nbformat": 4,
 "nbformat_minor": 0
}
