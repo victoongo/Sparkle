{
 "cells": [
  {
   "cell_type": "code",
   "execution_count": 1,
   "metadata": {
    "collapsed": false
   },
   "outputs": [],
   "source": [
    "%matplotlib inline\n",
    "import pandas as pd"
   ]
  },
  {
   "cell_type": "code",
   "execution_count": 2,
   "metadata": {
    "collapsed": false
   },
   "outputs": [
    {
     "name": "stdout",
     "output_type": "stream",
     "text": [
      "Installed autotime.py. To use it, type:\n",
      "  %load_ext autotime\n"
     ]
    },
    {
     "name": "stderr",
     "output_type": "stream",
     "text": [
      "/home/victor/miniconda/lib/python2.7/site-packages/IPython/core/magics/extension.py:47: UserWarning: %install_ext` is deprecated, please distribute your extension as a python package.\n",
      "  \"as a python package.\", UserWarning)\n"
     ]
    }
   ],
   "source": [
    "%install_ext https://raw.github.com/cpcloud/ipython-autotime/master/autotime.py\n",
    "%load_ext autotime\n",
    "from pyspark import SQLContext\n",
    "sqlContext = SQLContext(sc)\n",
    "\n",
    "import pyspark.sql.functions as F\n",
    "import numpy as np\n",
    "\n",
    "%matplotlib inline\n",
    "import matplotlib\n",
    "matplotlib.use('Agg')\n",
    "#import matplotlib.pyplot\n",
    "import matplotlib.pyplot as plt"
   ]
  },
  {
   "cell_type": "code",
   "execution_count": 2,
   "metadata": {
    "collapsed": false
   },
   "outputs": [
    {
     "data": {
      "text/html": [
       "<style>body {\n",
       "    margin: 0;\n",
       "    font-family: Helvetica;\n",
       "}\n",
       "table.dataframe {\n",
       "    border-collapse: collapse;\n",
       "    border: none;\n",
       "}\n",
       "table.dataframe tr {\n",
       "    border: none;\n",
       "}\n",
       "table.dataframe td, table.dataframe th {\n",
       "    margin: 0;\n",
       "    border: 1px solid white;\n",
       "    padding-left: 0.25em;\n",
       "    padding-right: 0.25em;\n",
       "}\n",
       "table.dataframe th:not(:empty) {\n",
       "    background-color: #fec;\n",
       "    text-align: left;\n",
       "    font-weight: normal;\n",
       "}\n",
       "table.dataframe tr:nth-child(2) th:empty {\n",
       "    border-left: none;\n",
       "    border-right: 1px dashed #888;\n",
       "}\n",
       "table.dataframe td {\n",
       "    border: 2px solid #ccf;\n",
       "    background-color: #f4f4ff;\n",
       "}\n",
       "h3 {\n",
       "    color: white;\n",
       "    background-color: black;\n",
       "    padding: 0.5em;\n",
       "}\n",
       "</style>"
      ],
      "text/plain": [
       "<IPython.core.display.HTML object>"
      ]
     },
     "execution_count": 2,
     "metadata": {},
     "output_type": "execute_result"
    }
   ],
   "source": [
    "from IPython.core.display import HTML\n",
    "css = open('style-table.css').read() + open('style-notebook.css').read()\n",
    "HTML('<style>{}</style>'.format(css))"
   ]
  },
  {
   "cell_type": "code",
   "execution_count": null,
   "metadata": {
    "collapsed": true
   },
   "outputs": [],
   "source": [
    "titles = pd.DataFrame.from_csv('data/titles.csv', index_col=None)\n",
    "titles.head()"
   ]
  },
  {
   "cell_type": "code",
   "execution_count": 3,
   "metadata": {
    "collapsed": false
   },
   "outputs": [
    {
     "ename": "NameError",
     "evalue": "name 'pd' is not defined",
     "output_type": "error",
     "traceback": [
      "\u001b[1;31m---------------------------------------------------------------------------\u001b[0m",
      "\u001b[1;31mNameError\u001b[0m                                 Traceback (most recent call last)",
      "\u001b[1;32m<ipython-input-3-ed502e05db0e>\u001b[0m in \u001b[0;36m<module>\u001b[1;34m()\u001b[0m\n\u001b[1;32m----> 1\u001b[1;33m \u001b[0mtitles\u001b[0m \u001b[1;33m=\u001b[0m \u001b[0mpd\u001b[0m\u001b[1;33m.\u001b[0m\u001b[0mDataFrame\u001b[0m\u001b[1;33m.\u001b[0m\u001b[0mfrom_csv\u001b[0m\u001b[1;33m(\u001b[0m\u001b[1;34m'data/titles.csv'\u001b[0m\u001b[1;33m,\u001b[0m \u001b[0mindex_col\u001b[0m\u001b[1;33m=\u001b[0m\u001b[0mNone\u001b[0m\u001b[1;33m)\u001b[0m\u001b[1;33m\u001b[0m\u001b[0m\n\u001b[0m\u001b[0;32m      2\u001b[0m \u001b[0mtitles\u001b[0m\u001b[1;33m.\u001b[0m\u001b[0mhead\u001b[0m\u001b[1;33m(\u001b[0m\u001b[1;33m)\u001b[0m\u001b[1;33m\u001b[0m\u001b[0m\n",
      "\u001b[1;31mNameError\u001b[0m: name 'pd' is not defined"
     ]
    }
   ],
   "source": [
    "cast = pd.DataFrame.from_csv('data/cast.csv', index_col=None)\n",
    "cast.head()"
   ]
  },
  {
   "cell_type": "code",
   "execution_count": 4,
   "metadata": {
    "collapsed": false
   },
   "outputs": [
    {
     "data": {
      "text/plain": [
       "DataFrame[title: string, year: int, name: string, type: string, character: string, n: int]"
      ]
     },
     "execution_count": 4,
     "metadata": {},
     "output_type": "execute_result"
    }
   ],
   "source": [
    "titles = sqlContext.read.parquet(os.path.expanduser('~/Dropbox/Projects/data/movielens_p/titles'))\n",
    "titles.cache()\n",
    "cast = sqlContext.read.parquet(os.path.expanduser('~/Dropbox/Projects/data/movielens_p/cast'))\n",
    "cast.cache()"
   ]
  },
  {
   "cell_type": "markdown",
   "metadata": {
    "collapsed": true
   },
   "source": [
    "### What are the ten most common movie names of all time?"
   ]
  },
  {
   "cell_type": "code",
   "execution_count": 5,
   "metadata": {
    "collapsed": false
   },
   "outputs": [
    {
     "name": "stdout",
     "output_type": "stream",
     "text": [
      "+--------------------+-----+\n",
      "|               title|count|\n",
      "+--------------------+-----+\n",
      "|              Hamlet|   19|\n",
      "|             Macbeth|   14|\n",
      "|              Carmen|   14|\n",
      "|The Three Musketeers|   12|\n",
      "|        The Outsider|   11|\n",
      "|                 She|   11|\n",
      "|                Maya|   11|\n",
      "|         Blood Money|   11|\n",
      "|              Kismet|   10|\n",
      "|         The Promise|   10|\n",
      "|         Underground|   10|\n",
      "|             Victory|   10|\n",
      "|          Borderline|   10|\n",
      "|       Anna Karenina|   10|\n",
      "|          Temptation|   10|\n",
      "|                 Eva|   10|\n",
      "|               Karma|   10|\n",
      "|                Love|   10|\n",
      "|             Othello|   10|\n",
      "|            Paradise|    9|\n",
      "+--------------------+-----+\n",
      "only showing top 20 rows\n",
      "\n"
     ]
    }
   ],
   "source": [
    "titles.groupby('title').count().sort('count', ascending=False).show()"
   ]
  },
  {
   "cell_type": "code",
   "execution_count": null,
   "metadata": {
    "collapsed": true
   },
   "outputs": [],
   "source": []
  },
  {
   "cell_type": "markdown",
   "metadata": {
    "collapsed": true
   },
   "source": [
    "### Which three years of the 1930s saw the most films released?"
   ]
  },
  {
   "cell_type": "code",
   "execution_count": 9,
   "metadata": {
    "collapsed": false
   },
   "outputs": [
    {
     "name": "stdout",
     "output_type": "stream",
     "text": [
      "+----+-----+\n",
      "|year|count|\n",
      "+----+-----+\n",
      "|1937| 1184|\n",
      "|1936| 1121|\n",
      "|1938| 1117|\n",
      "+----+-----+\n",
      "only showing top 3 rows\n",
      "\n",
      "time: 1.32 s\n"
     ]
    }
   ],
   "source": [
    "titles[(titles.year >= 1930) & (titles.year <= 1939)].groupby('year').count().sort('count', ascending=False).show(3)"
   ]
  },
  {
   "cell_type": "code",
   "execution_count": null,
   "metadata": {
    "collapsed": true
   },
   "outputs": [],
   "source": []
  },
  {
   "cell_type": "markdown",
   "metadata": {
    "collapsed": true
   },
   "source": [
    "### Plot the number of films that have been released each decade over the history of cinema."
   ]
  },
  {
   "cell_type": "code",
   "execution_count": 29,
   "metadata": {
    "collapsed": false
   },
   "outputs": [
    {
     "name": "stdout",
     "output_type": "stream",
     "text": [
      "time: 1.46 s\n"
     ]
    }
   ],
   "source": [
    "# looks like there is not a good way to plot directly using Spark DataFrame yet. Needs databricks' display() as of now. \n",
    "decades = titles.select((F.floor(titles.year / 10) * 10).alias('decade')).toPandas()"
   ]
  },
  {
   "cell_type": "code",
   "execution_count": 30,
   "metadata": {
    "collapsed": false
   },
   "outputs": [
    {
     "data": {
      "image/png": "[encoded data removed]",
      "text/plain": [
       "<matplotlib.figure.Figure at 0x7fcf2d8aba10>"
      ]
     },
     "metadata": {},
     "output_type": "display_data"
    },
    {
     "name": "stdout",
     "output_type": "stream",
     "text": [
      "time: 196 ms\n"
     ]
    }
   ],
   "source": [
    "plt.style.use('bmh')\n",
    "d = np.array(decades)\n",
    "plt.hist(d, histtype=\"stepfilled\", bins=25, alpha=0.8)\n",
    "plt.show()"
   ]
  },
  {
   "cell_type": "markdown",
   "metadata": {
    "collapsed": true
   },
   "source": [
    "### Plot the number of \"Hamlet\" films made each decade."
   ]
  },
  {
   "cell_type": "code",
   "execution_count": 31,
   "metadata": {
    "collapsed": false
   },
   "outputs": [
    {
     "name": "stdout",
     "output_type": "stream",
     "text": [
      "time: 219 ms\n"
     ]
    }
   ],
   "source": [
    "decades = titles[titles.title == 'Hamlet'].select((F.floor(titles.year / 10) * 10).alias('decade')).toPandas()"
   ]
  },
  {
   "cell_type": "code",
   "execution_count": 32,
   "metadata": {
    "collapsed": false
   },
   "outputs": [
    {
     "data": {
      "image/png": "[encoded data removed]",
      "text/plain": [
       "<matplotlib.figure.Figure at 0x7fcf2d5baed0>"
      ]
     },
     "metadata": {},
     "output_type": "display_data"
    },
    {
     "name": "stdout",
     "output_type": "stream",
     "text": [
      "time: 178 ms\n"
     ]
    }
   ],
   "source": [
    "plt.style.use('bmh')\n",
    "d = np.array(decades)\n",
    "plt.hist(d, histtype=\"stepfilled\", bins=25, alpha=0.8)\n",
    "plt.show()"
   ]
  },
  {
   "cell_type": "markdown",
   "metadata": {
    "collapsed": true
   },
   "source": [
    "### Plot the number of \"Rustler\" characters in each decade of the history of film."
   ]
  },
  {
   "cell_type": "code",
   "execution_count": 34,
   "metadata": {
    "collapsed": false
   },
   "outputs": [
    {
     "name": "stdout",
     "output_type": "stream",
     "text": [
      "time: 6.47 s\n"
     ]
    }
   ],
   "source": [
    "decades = cast[cast.character == 'Rustler'].select((F.floor(cast.year / 10) * 10).alias('decade')).toPandas()"
   ]
  },
  {
   "cell_type": "code",
   "execution_count": 35,
   "metadata": {
    "collapsed": false
   },
   "outputs": [
    {
     "data": {
      "image/png": "[encoded data removed]",
      "text/plain": [
       "<matplotlib.figure.Figure at 0x7fcf34e52850>"
      ]
     },
     "metadata": {},
     "output_type": "display_data"
    },
    {
     "name": "stdout",
     "output_type": "stream",
     "text": [
      "time: 171 ms\n"
     ]
    }
   ],
   "source": [
    "plt.style.use('bmh')\n",
    "d = np.array(decades)\n",
    "plt.hist(d, histtype=\"stepfilled\", bins=25, alpha=0.8)\n",
    "plt.show()"
   ]
  },
  {
   "cell_type": "markdown",
   "metadata": {
    "collapsed": true
   },
   "source": [
    "### Plot the number of \"Batman\" characters each decade."
   ]
  },
  {
   "cell_type": "code",
   "execution_count": 9,
   "metadata": {
    "collapsed": false
   },
   "outputs": [],
   "source": [
    "decades = cast[cast.character == 'Batman'].select((F.floor(cast.year / 10) * 10).alias('decade')).toPandas()"
   ]
  },
  {
   "cell_type": "code",
   "execution_count": 10,
   "metadata": {
    "collapsed": false
   },
   "outputs": [
    {
     "data": {
      "image/png": "[encoded data removed]",
      "text/plain": [
       "<matplotlib.figure.Figure at 0x7f767f02db50>"
      ]
     },
     "metadata": {},
     "output_type": "display_data"
    }
   ],
   "source": [
    "plt.style.use('bmh')\n",
    "d = np.array(decades)\n",
    "plt.hist(d, histtype=\"stepfilled\", bins=25, alpha=0.8)\n",
    "plt.show()"
   ]
  },
  {
   "cell_type": "markdown",
   "metadata": {
    "collapsed": true
   },
   "source": [
    "### What are the 11 most common character names in movie history?"
   ]
  },
  {
   "cell_type": "code",
   "execution_count": 38,
   "metadata": {
    "collapsed": false
   },
   "outputs": [
    {
     "name": "stdout",
     "output_type": "stream",
     "text": [
      "+----------+-----+\n",
      "| character|count|\n",
      "+----------+-----+\n",
      "|   Himself|18819|\n",
      "|    Dancer|10952|\n",
      "|     Extra| 8684|\n",
      "|  Reporter| 7558|\n",
      "|    Doctor| 6749|\n",
      "| Policeman| 6443|\n",
      "|   Student| 6339|\n",
      "|     Nurse| 6108|\n",
      "| Bartender| 6082|\n",
      "|Minor Role| 5793|\n",
      "+----------+-----+\n",
      "only showing top 10 rows\n",
      "\n",
      "time: 3.65 s\n"
     ]
    }
   ],
   "source": [
    "cast.groupby('character').count().sort('count', ascending=False).show(10)"
   ]
  },
  {
   "cell_type": "code",
   "execution_count": null,
   "metadata": {
    "collapsed": true
   },
   "outputs": [],
   "source": []
  },
  {
   "cell_type": "markdown",
   "metadata": {
    "collapsed": true
   },
   "source": [
    "### Who are the 10 people most often credited as \"Herself\" in film history?"
   ]
  },
  {
   "cell_type": "code",
   "execution_count": 39,
   "metadata": {
    "collapsed": false
   },
   "outputs": [
    {
     "name": "stdout",
     "output_type": "stream",
     "text": [
      "+-------------------+-----+\n",
      "|               name|count|\n",
      "+-------------------+-----+\n",
      "|     Joyce Brothers|   14|\n",
      "| Queen Elizabeth II|   11|\n",
      "|  Margaret Thatcher|    8|\n",
      "|        Joan Rivers|    7|\n",
      "|       Mary Jo Pehl|    7|\n",
      "|        Juhi Chawla|    5|\n",
      "|Sally Jessy Raphael|    5|\n",
      "|      Caroline Rhea|    5|\n",
      "|     Marilyn Monroe|    5|\n",
      "|     Kareena Kapoor|    5|\n",
      "+-------------------+-----+\n",
      "only showing top 10 rows\n",
      "\n",
      "time: 1.16 s\n"
     ]
    }
   ],
   "source": [
    "cast[cast.character == 'Herself'].groupby('name').count().sort('count', ascending=False).show(10)"
   ]
  },
  {
   "cell_type": "code",
   "execution_count": null,
   "metadata": {
    "collapsed": true
   },
   "outputs": [],
   "source": []
  },
  {
   "cell_type": "markdown",
   "metadata": {
    "collapsed": true
   },
   "source": [
    "### Who are the 10 people most often credited as \"Himself\" in film history?"
   ]
  },
  {
   "cell_type": "code",
   "execution_count": 40,
   "metadata": {
    "collapsed": false
   },
   "outputs": [
    {
     "name": "stdout",
     "output_type": "stream",
     "text": [
      "+--------------------+-----+\n",
      "|                name|count|\n",
      "+--------------------+-----+\n",
      "|        Adolf Hitler|   92|\n",
      "|       Richard Nixon|   38|\n",
      "|       Ronald Reagan|   30|\n",
      "|     John F. Kennedy|   26|\n",
      "|          Ron Jeremy|   23|\n",
      "|   Winston Churchill|   21|\n",
      "|Franklin D. Roose...|   20|\n",
      "|      George W. Bush|   20|\n",
      "|        Bill Clinton|   20|\n",
      "|  Martin Luther King|   19|\n",
      "+--------------------+-----+\n",
      "only showing top 10 rows\n",
      "\n",
      "time: 1.11 s\n"
     ]
    }
   ],
   "source": [
    "cast[cast.character == 'Himself'].groupby('name').count().sort('count', ascending=False).show(10)"
   ]
  },
  {
   "cell_type": "code",
   "execution_count": null,
   "metadata": {
    "collapsed": true
   },
   "outputs": [],
   "source": []
  },
  {
   "cell_type": "markdown",
   "metadata": {
    "collapsed": true
   },
   "source": [
    "### Which actors or actresses appeared in the most movies in the year 1945?"
   ]
  },
  {
   "cell_type": "code",
   "execution_count": 41,
   "metadata": {
    "collapsed": false
   },
   "outputs": [
    {
     "data": {
      "text/plain": [
       "Row(name=u'Emmett Vogan', count=39)"
      ]
     },
     "execution_count": 41,
     "metadata": {},
     "output_type": "execute_result"
    },
    {
     "name": "stdout",
     "output_type": "stream",
     "text": [
      "time: 5.6 s\n"
     ]
    }
   ],
   "source": [
    "cast[cast.year == 1945].groupby('name').count().sort('count', ascending=False).first()"
   ]
  },
  {
   "cell_type": "code",
   "execution_count": 44,
   "metadata": {
    "collapsed": false
   },
   "outputs": [
    {
     "name": "stdout",
     "output_type": "stream",
     "text": [
      "+------------+-----+\n",
      "|        name|count|\n",
      "+------------+-----+\n",
      "|Emmett Vogan|   39|\n",
      "+------------+-----+\n",
      "only showing top 1 row\n",
      "\n",
      "time: 3.26 s\n"
     ]
    }
   ],
   "source": [
    "# in case someone as more characters in one movie\n",
    "cast[cast.year == 1945].select('title', 'name').distinct().groupby('name').count().sort('count', ascending=False).show(1)"
   ]
  },
  {
   "cell_type": "markdown",
   "metadata": {
    "collapsed": true
   },
   "source": [
    "### Which actors or actresses appeared in the most movies in the year 1985?"
   ]
  },
  {
   "cell_type": "code",
   "execution_count": 45,
   "metadata": {
    "collapsed": false
   },
   "outputs": [
    {
     "name": "stdout",
     "output_type": "stream",
     "text": [
      "+---------+-----+\n",
      "|     name|count|\n",
      "+---------+-----+\n",
      "|Mammootty|   17|\n",
      "+---------+-----+\n",
      "only showing top 1 row\n",
      "\n",
      "time: 3.45 s\n"
     ]
    }
   ],
   "source": [
    "cast[cast.year == 1985].select('title', 'name').distinct().groupby('name').count().sort('count', ascending=False).show(1)"
   ]
  },
  {
   "cell_type": "code",
   "execution_count": null,
   "metadata": {
    "collapsed": true
   },
   "outputs": [],
   "source": []
  },
  {
   "cell_type": "markdown",
   "metadata": {
    "collapsed": true
   },
   "source": [
    "### Plot how many roles Mammootty has played in each year of his career."
   ]
  },
  {
   "cell_type": "code",
   "execution_count": 48,
   "metadata": {
    "collapsed": false,
    "scrolled": true
   },
   "outputs": [
    {
     "name": "stdout",
     "output_type": "stream",
     "text": [
      "+----+-----+\n",
      "|year|count|\n",
      "+----+-----+\n",
      "|2015|    1|\n",
      "|2014|    6|\n",
      "|2013|    5|\n",
      "|2012|    7|\n",
      "|2011|    7|\n",
      "|2010|    9|\n",
      "|2009|   12|\n",
      "|2008|    9|\n",
      "|2007|    7|\n",
      "|2006|    8|\n",
      "|2005|    6|\n",
      "|2004|    8|\n",
      "|2003|    2|\n",
      "|2002|    3|\n",
      "|2001|    3|\n",
      "|2000|    7|\n",
      "|1999|    4|\n",
      "|1998|    3|\n",
      "|1997|    2|\n",
      "|1996|    3|\n",
      "|1995|    5|\n",
      "|1994|    4|\n",
      "|1993|    5|\n",
      "|1992|    2|\n",
      "|1991|    5|\n",
      "|1990|   15|\n",
      "|1989|    9|\n",
      "|1988|    7|\n",
      "|1987|    9|\n",
      "|1986|   15|\n",
      "|1985|   17|\n",
      "|1984|   15|\n",
      "|1983|   17|\n",
      "|1982|    6|\n",
      "|1981|    2|\n",
      "|1980|    1|\n",
      "|1971|    1|\n",
      "+----+-----+\n",
      "\n",
      "time: 526 ms\n"
     ]
    }
   ],
   "source": [
    "cast[cast.name == 'Mammootty'].groupby('year').count().sort('year', ascending=False).show(50)"
   ]
  },
  {
   "cell_type": "code",
   "execution_count": null,
   "metadata": {
    "collapsed": true
   },
   "outputs": [],
   "source": []
  },
  {
   "cell_type": "markdown",
   "metadata": {
    "collapsed": true
   },
   "source": [
    "### What are the 10 most frequent roles that start with the phrase \"Patron in\"?"
   ]
  },
  {
   "cell_type": "code",
   "execution_count": 7,
   "metadata": {
    "collapsed": false
   },
   "outputs": [
    {
     "name": "stdout",
     "output_type": "stream",
     "text": [
      "+----------------------------+-----+\n",
      "|character                   |count|\n",
      "+----------------------------+-----+\n",
      "|Patron in Frisky Rabbit     |16   |\n",
      "|Patron in the Coffee House  |9    |\n",
      "|Patron in Chinese Restaurant|9    |\n",
      "|Patron in Billiard Parlor   |5    |\n",
      "|Patron in Bar               |4    |\n",
      "|Patron in cabaret           |3    |\n",
      "|Patron in restaurant        |3    |\n",
      "|Patron in Restaurant        |3    |\n",
      "|Patron in Club              |3    |\n",
      "|Patron in Quiet Bar         |2    |\n",
      "+----------------------------+-----+\n",
      "only showing top 10 rows\n",
      "\n"
     ]
    }
   ],
   "source": [
    "cast[cast.character.startswith('Patron in')].groupby('character').count().sort('count', ascending=False).show(10, truncate=False)"
   ]
  },
  {
   "cell_type": "code",
   "execution_count": null,
   "metadata": {
    "collapsed": true
   },
   "outputs": [],
   "source": []
  },
  {
   "cell_type": "markdown",
   "metadata": {
    "collapsed": true
   },
   "source": [
    "### What are the 10 most frequent roles that start with the word \"Science\"?"
   ]
  },
  {
   "cell_type": "code",
   "execution_count": 8,
   "metadata": {
    "collapsed": false
   },
   "outputs": [
    {
     "name": "stdout",
     "output_type": "stream",
     "text": [
      "+--------------------+-----+\n",
      "|character           |count|\n",
      "+--------------------+-----+\n",
      "|Science Teacher     |53   |\n",
      "|Science Fair Student|8    |\n",
      "|Science Student     |8    |\n",
      "|Science Fair Judge  |6    |\n",
      "|Science Club Member |5    |\n",
      "|Science Reporter    |5    |\n",
      "|Science Promo Cadet |4    |\n",
      "|Science Kid         |4    |\n",
      "|Science Fair Kid    |3    |\n",
      "|Science Officer     |3    |\n",
      "+--------------------+-----+\n",
      "only showing top 10 rows\n",
      "\n"
     ]
    }
   ],
   "source": [
    "cast[cast.character.startswith('Science')].groupby('character').count().sort('count', ascending=False).show(10, truncate=False)"
   ]
  },
  {
   "cell_type": "code",
   "execution_count": null,
   "metadata": {
    "collapsed": true
   },
   "outputs": [],
   "source": []
  },
  {
   "cell_type": "markdown",
   "metadata": {
    "collapsed": true
   },
   "source": [
    "### Plot the n-values of the roles that Judi Dench has played over her career."
   ]
  },
  {
   "cell_type": "code",
   "execution_count": 19,
   "metadata": {
    "collapsed": true
   },
   "outputs": [],
   "source": [
    "judi = cast[cast.name == 'Judi Dench'].select('n').toPandas()"
   ]
  },
  {
   "cell_type": "code",
   "execution_count": 22,
   "metadata": {
    "collapsed": false
   },
   "outputs": [
    {
     "data": {
      "text/plain": [
       "array([[<matplotlib.axes._subplots.AxesSubplot object at 0x7f767c387d10>]], dtype=object)"
      ]
     },
     "execution_count": 22,
     "metadata": {},
     "output_type": "execute_result"
    },
    {
     "data": {
      "image/png": "[encoded data removed]",
      "text/plain": [
       "<matplotlib.figure.Figure at 0x7f767c4d8990>"
      ]
     },
     "metadata": {},
     "output_type": "display_data"
    }
   ],
   "source": [
    "judi.hist()"
   ]
  },
  {
   "cell_type": "markdown",
   "metadata": {
    "collapsed": true
   },
   "source": [
    "### Plot the n-values of Cary Grant's roles through his career."
   ]
  },
  {
   "cell_type": "code",
   "execution_count": 23,
   "metadata": {
    "collapsed": true
   },
   "outputs": [],
   "source": [
    "cary = cast[cast.name == 'Cary Grant'].select('n').toPandas()"
   ]
  },
  {
   "cell_type": "code",
   "execution_count": 24,
   "metadata": {
    "collapsed": false
   },
   "outputs": [
    {
     "data": {
      "text/plain": [
       "array([[<matplotlib.axes._subplots.AxesSubplot object at 0x7f767c46cb90>]], dtype=object)"
      ]
     },
     "execution_count": 24,
     "metadata": {},
     "output_type": "execute_result"
    },
    {
     "data": {
      "image/png": "[encoded data removed]",
      "text/plain": [
       "<matplotlib.figure.Figure at 0x7f767c2a2450>"
      ]
     },
     "metadata": {},
     "output_type": "display_data"
    }
   ],
   "source": [
    "cary.hist()"
   ]
  },
  {
   "cell_type": "markdown",
   "metadata": {
    "collapsed": true
   },
   "source": [
    "### Plot the n-value of the roles that Sidney Poitier has acted over the years."
   ]
  },
  {
   "cell_type": "code",
   "execution_count": 25,
   "metadata": {
    "collapsed": true
   },
   "outputs": [],
   "source": [
    "sidney = cast[cast.name == 'Sidney Poitier'].select('n').toPandas()"
   ]
  },
  {
   "cell_type": "code",
   "execution_count": 27,
   "metadata": {
    "collapsed": false
   },
   "outputs": [
    {
     "data": {
      "text/plain": [
       "array([[<matplotlib.axes._subplots.AxesSubplot object at 0x7f767c1f9490>]], dtype=object)"
      ]
     },
     "execution_count": 27,
     "metadata": {},
     "output_type": "execute_result"
    },
    {
     "data": {
      "image/png": "[encoded data removed]",
      "text/plain": [
       "<matplotlib.figure.Figure at 0x7f767c515310>"
      ]
     },
     "metadata": {},
     "output_type": "display_data"
    }
   ],
   "source": [
    "sidney.hist()"
   ]
  },
  {
   "cell_type": "markdown",
   "metadata": {
    "collapsed": true
   },
   "source": [
    "### How many leading (n=1) roles were available to actors, and how many to actresses, in the 1950s?"
   ]
  },
  {
   "cell_type": "code",
   "execution_count": 32,
   "metadata": {
    "collapsed": false
   },
   "outputs": [
    {
     "name": "stdout",
     "output_type": "stream",
     "text": [
      "+-------+-----+\n",
      "|   type|count|\n",
      "+-------+-----+\n",
      "|actress| 2806|\n",
      "|  actor| 6367|\n",
      "+-------+-----+\n",
      "\n"
     ]
    }
   ],
   "source": [
    "cast[(cast.n == 1) & cast.year.between(1950, 1959)].groupby('type').count().show()"
   ]
  },
  {
   "cell_type": "code",
   "execution_count": null,
   "metadata": {
    "collapsed": true
   },
   "outputs": [],
   "source": []
  },
  {
   "cell_type": "markdown",
   "metadata": {
    "collapsed": true
   },
   "source": [
    "### How many supporting (n=2) roles were available to actors, and how many to actresses, in the 1950s?"
   ]
  },
  {
   "cell_type": "code",
   "execution_count": 34,
   "metadata": {
    "collapsed": false
   },
   "outputs": [
    {
     "name": "stdout",
     "output_type": "stream",
     "text": [
      "+-------+-----+\n",
      "|   type|count|\n",
      "+-------+-----+\n",
      "|actress| 4391|\n",
      "|  actor| 4371|\n",
      "+-------+-----+\n",
      "\n"
     ]
    }
   ],
   "source": [
    "cast[(cast.n == 2) & cast.year.between(1950, 1959)].groupby('type').count().show()"
   ]
  },
  {
   "cell_type": "code",
   "execution_count": null,
   "metadata": {
    "collapsed": true
   },
   "outputs": [],
   "source": []
  },
  {
   "cell_type": "markdown",
   "metadata": {
    "collapsed": true
   },
   "source": [
    "### How many n roles were available to actors, and how many to actresses, by decade?"
   ]
  },
  {
   "cell_type": "code",
   "execution_count": 43,
   "metadata": {
    "collapsed": false
   },
   "outputs": [
    {
     "name": "stdout",
     "output_type": "stream",
     "text": [
      "+------+----+-------+-----+\n",
      "|decade|   n|   type|count|\n",
      "+------+----+-------+-----+\n",
      "|  1890|null|  actor|    4|\n",
      "|  1890|null|actress|    1|\n",
      "|  1890|   1|  actor|    2|\n",
      "|  1890|   2|  actor|    2|\n",
      "|  1900|null|  actor|   19|\n",
      "|  1900|null|actress|    3|\n",
      "|  1900|   1|  actor|    5|\n",
      "|  1900|   1|actress|    1|\n",
      "|  1900|   2|  actor|    5|\n",
      "|  1900|   2|actress|    1|\n",
      "|  1900|   3|  actor|    3|\n",
      "|  1900|   3|actress|    1|\n",
      "|  1900|   4|  actor|    2|\n",
      "|  1900|   5|  actor|    2|\n",
      "|  1900|   6|  actor|    1|\n",
      "|  1900|   7|  actor|    1|\n",
      "|  1900|   8|  actor|    1|\n",
      "|  1900|   9|  actor|    1|\n",
      "|  1900|  10|  actor|    2|\n",
      "|  1900|  11|  actor|    1|\n",
      "+------+----+-------+-----+\n",
      "only showing top 20 rows\n",
      "\n"
     ]
    }
   ],
   "source": [
    "cast.select('type', 'n', (F.floor(cast.year / 10) * 10).alias('decade')).groupby(['decade', 'n', 'type']).count().sort(['decade', 'n', 'type']).show()"
   ]
  },
  {
   "cell_type": "code",
   "execution_count": 57,
   "metadata": {
    "collapsed": false
   },
   "outputs": [
    {
     "name": "stdout",
     "output_type": "stream",
     "text": [
      "+-----+\n",
      "|    n|\n",
      "+-----+\n",
      "|33613|\n",
      "|  999|\n",
      "|  999|\n",
      "|  999|\n",
      "|  938|\n",
      "|  910|\n",
      "|  701|\n",
      "|  700|\n",
      "|  699|\n",
      "|  698|\n",
      "|  697|\n",
      "|  696|\n",
      "|  695|\n",
      "|  694|\n",
      "|  693|\n",
      "|  692|\n",
      "|  691|\n",
      "|  690|\n",
      "|  689|\n",
      "|  688|\n",
      "+-----+\n",
      "only showing top 20 rows\n",
      "\n"
     ]
    }
   ],
   "source": [
    "cast.select('n').sort('n', ascending=False).show()"
   ]
  },
  {
   "cell_type": "code",
   "execution_count": 60,
   "metadata": {
    "collapsed": false
   },
   "outputs": [
    {
     "data": {
      "text/plain": [
       "array([<matplotlib.axes._subplots.AxesSubplot object at 0x7f76717b3f90>,\n",
       "       <matplotlib.axes._subplots.AxesSubplot object at 0x7f7671785950>], dtype=object)"
      ]
     },
     "execution_count": 60,
     "metadata": {},
     "output_type": "execute_result"
    },
    {
     "data": {
      "image/png": "[encoded data removed]",
      "text/plain": [
       "<matplotlib.figure.Figure at 0x7f7628370650>"
      ]
     },
     "metadata": {},
     "output_type": "display_data"
    }
   ],
   "source": [
    "# cast.select('type', 'n', (F.floor(cast.year / 10) * 10).alias('decade')).toPandas().hist(by='type')\n",
    "cast[cast.n <= 120].select('type', 'n').dropna().toPandas().hist(by='type')"
   ]
  },
  {
   "cell_type": "code",
   "execution_count": 64,
   "metadata": {
    "collapsed": false
   },
   "outputs": [
    {
     "data": {
      "text/plain": [
       "<matplotlib.axes._subplots.AxesSubplot at 0x7f76690e17d0>"
      ]
     },
     "execution_count": 64,
     "metadata": {},
     "output_type": "execute_result"
    },
    {
     "data": {
      "image/png": "[encoded data removed]",
      "text/plain": [
       "<matplotlib.figure.Figure at 0x7f76493b35d0>"
      ]
     },
     "metadata": {},
     "output_type": "display_data"
    }
   ],
   "source": [
    "# cast.select('type', 'n', (F.floor(cast.year / 10) * 10).alias('decade')).toPandas().hist(by='type')\n",
    "cast[cast.n <= 120].select((F.floor(cast.year / 10) * 10).alias('decade'), 'type', 'n').dropna().toPandas().boxplot(by=['type', 'decade'], figsize=(18, 10))"
   ]
  },
  {
   "cell_type": "code",
   "execution_count": 71,
   "metadata": {
    "collapsed": false
   },
   "outputs": [],
   "source": [
    "cast_pdf = cast[cast.n <= 120].select((F.floor(cast.year / 10) * 10).alias('decade'), 'type', 'n').groupby(['type', 'decade', 'n']).count().toPandas()"
   ]
  },
  {
   "cell_type": "code",
   "execution_count": 98,
   "metadata": {
    "collapsed": false
   },
   "outputs": [
    {
     "data": {
      "text/html": [
       "<div>\n",
       "<table border=\"1\" class=\"dataframe\">\n",
       "  <thead>\n",
       "    <tr>\n",
       "      <th></th>\n",
       "      <th></th>\n",
       "      <th>count</th>\n",
       "    </tr>\n",
       "    <tr>\n",
       "      <th></th>\n",
       "      <th>decade</th>\n",
       "      <th>2000</th>\n",
       "    </tr>\n",
       "    <tr>\n",
       "      <th>type</th>\n",
       "      <th>n</th>\n",
       "      <th></th>\n",
       "    </tr>\n",
       "  </thead>\n",
       "  <tbody>\n",
       "    <tr>\n",
       "      <th rowspan=\"5\" valign=\"top\">actor</th>\n",
       "      <th>1</th>\n",
       "      <td>17955</td>\n",
       "    </tr>\n",
       "    <tr>\n",
       "      <th>2</th>\n",
       "      <td>13171</td>\n",
       "    </tr>\n",
       "    <tr>\n",
       "      <th>3</th>\n",
       "      <td>13734</td>\n",
       "    </tr>\n",
       "    <tr>\n",
       "      <th>4</th>\n",
       "      <td>13175</td>\n",
       "    </tr>\n",
       "    <tr>\n",
       "      <th>5</th>\n",
       "      <td>12734</td>\n",
       "    </tr>\n",
       "  </tbody>\n",
       "</table>\n",
       "</div>"
      ],
      "text/plain": [
       "         count\n",
       "decade    2000\n",
       "type  n       \n",
       "actor 1  17955\n",
       "      2  13171\n",
       "      3  13734\n",
       "      4  13175\n",
       "      5  12734"
      ]
     },
     "execution_count": 98,
     "metadata": {},
     "output_type": "execute_result"
    }
   ],
   "source": [
    "# cast_count = cast_pdf[(cast_pdf.decade > 1930) & (cast_pdf.decade < 2020)].set_index(['type', 'decade', 'n']).unstack(1)\n",
    "cast_count = cast_pdf[(cast_pdf.decade == 2000)].set_index(['type', 'decade', 'n']).unstack(1)\n",
    "cast_count.head()"
   ]
  },
  {
   "cell_type": "code",
   "execution_count": null,
   "metadata": {
    "collapsed": true
   },
   "outputs": [],
   "source": []
  },
  {
   "cell_type": "code",
   "execution_count": 101,
   "metadata": {
    "collapsed": false
   },
   "outputs": [
    {
     "data": {
      "text/html": [
       "<div>\n",
       "<table border=\"1\" class=\"dataframe\">\n",
       "  <thead>\n",
       "    <tr>\n",
       "      <th></th>\n",
       "      <th>type</th>\n",
       "      <th>count</th>\n",
       "    </tr>\n",
       "    <tr>\n",
       "      <th>decade</th>\n",
       "      <th></th>\n",
       "      <th>2000</th>\n",
       "    </tr>\n",
       "    <tr>\n",
       "      <th>n</th>\n",
       "      <th></th>\n",
       "      <th></th>\n",
       "    </tr>\n",
       "  </thead>\n",
       "  <tbody>\n",
       "    <tr>\n",
       "      <th>1</th>\n",
       "      <td>actor</td>\n",
       "      <td>17955</td>\n",
       "    </tr>\n",
       "    <tr>\n",
       "      <th>2</th>\n",
       "      <td>actor</td>\n",
       "      <td>13171</td>\n",
       "    </tr>\n",
       "    <tr>\n",
       "      <th>3</th>\n",
       "      <td>actor</td>\n",
       "      <td>13734</td>\n",
       "    </tr>\n",
       "    <tr>\n",
       "      <th>4</th>\n",
       "      <td>actor</td>\n",
       "      <td>13175</td>\n",
       "    </tr>\n",
       "    <tr>\n",
       "      <th>5</th>\n",
       "      <td>actor</td>\n",
       "      <td>12734</td>\n",
       "    </tr>\n",
       "  </tbody>\n",
       "</table>\n",
       "</div>"
      ],
      "text/plain": [
       "         type  count\n",
       "decade          2000\n",
       "n                   \n",
       "1       actor  17955\n",
       "2       actor  13171\n",
       "3       actor  13734\n",
       "4       actor  13175\n",
       "5       actor  12734"
      ]
     },
     "execution_count": 101,
     "metadata": {},
     "output_type": "execute_result"
    }
   ],
   "source": [
    "cast_count.reset_index(level=0).head()#plot(figsize=(18, 10))"
   ]
  },
  {
   "cell_type": "code",
   "execution_count": null,
   "metadata": {
    "collapsed": true
   },
   "outputs": [],
   "source": []
  }
 ],
 "metadata": {
  "kernelspec": {
   "display_name": "Python 2",
   "language": "python",
   "name": "python2"
  },
  "language_info": {
   "codemirror_mode": {
    "name": "ipython",
    "version": 2
   },
   "file_extension": ".py",
   "mimetype": "text/x-python",
   "name": "python",
   "nbconvert_exporter": "python",
   "pygments_lexer": "ipython2",
   "version": "2.7.11"
  }
 },
 "nbformat": 4,
 "nbformat_minor": 0
}
