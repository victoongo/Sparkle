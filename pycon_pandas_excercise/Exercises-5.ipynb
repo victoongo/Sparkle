{
 "cells": [
  {
   "cell_type": "code",
   "execution_count": 3,
   "metadata": {
    "collapsed": false
   },
   "outputs": [
    {
     "name": "stdout",
     "output_type": "stream",
     "text": [
      "time: 2.77 ms\n"
     ]
    }
   ],
   "source": [
    "%matplotlib inline\n",
    "import pandas as pd"
   ]
  },
  {
   "cell_type": "code",
   "execution_count": 1,
   "metadata": {
    "collapsed": false
   },
   "outputs": [
    {
     "name": "stderr",
     "output_type": "stream",
     "text": [
      "/Users/l744679/Applications/anaconda/lib/python2.7/site-packages/IPython/core/magics/extension.py:47: UserWarning: %install_ext` is deprecated, please distribute your extension as a python package.\n",
      "  \"as a python package.\", UserWarning)\n",
      "/Users/l744679/Applications/anaconda/lib/python2.7/site-packages/matplotlib/__init__.py:1350: UserWarning:  This call to matplotlib.use() has no effect\n",
      "because the backend has already been chosen;\n",
      "matplotlib.use() must be called *before* pylab, matplotlib.pyplot,\n",
      "or matplotlib.backends is imported for the first time.\n",
      "\n",
      "  warnings.warn(_use_error_msg)\n"
     ]
    },
    {
     "name": "stdout",
     "output_type": "stream",
     "text": [
      "Installed autotime.py. To use it, type:\n",
      "  %load_ext autotime\n"
     ]
    }
   ],
   "source": [
    "%install_ext https://raw.github.com/cpcloud/ipython-autotime/master/autotime.py\n",
    "%load_ext autotime\n",
    "from pyspark import SQLContext\n",
    "sqlContext = SQLContext(sc)\n",
    "\n",
    "import pyspark.sql.functions as F\n",
    "import numpy as np\n",
    "\n",
    "%matplotlib inline\n",
    "import matplotlib\n",
    "matplotlib.use('Agg')\n",
    "#import matplotlib.pyplot\n",
    "import matplotlib.pyplot as plt"
   ]
  },
  {
   "cell_type": "code",
   "execution_count": 4,
   "metadata": {
    "collapsed": false
   },
   "outputs": [
    {
     "data": {
      "text/html": [
       "<style>body {\n",
       "    margin: 0;\n",
       "    font-family: Helvetica;\n",
       "}\n",
       "table.dataframe {\n",
       "    border-collapse: collapse;\n",
       "    border: none;\n",
       "}\n",
       "table.dataframe tr {\n",
       "    border: none;\n",
       "}\n",
       "table.dataframe td, table.dataframe th {\n",
       "    margin: 0;\n",
       "    border: 1px solid white;\n",
       "    padding-left: 0.25em;\n",
       "    padding-right: 0.25em;\n",
       "}\n",
       "table.dataframe th:not(:empty) {\n",
       "    background-color: #fec;\n",
       "    text-align: left;\n",
       "    font-weight: normal;\n",
       "}\n",
       "table.dataframe tr:nth-child(2) th:empty {\n",
       "    border-left: none;\n",
       "    border-right: 1px dashed #888;\n",
       "}\n",
       "table.dataframe td {\n",
       "    border: 2px solid #ccf;\n",
       "    background-color: #f4f4ff;\n",
       "}\n",
       "h3 {\n",
       "    color: white;\n",
       "    background-color: black;\n",
       "    padding: 0.5em;\n",
       "}\n",
       "</style>"
      ],
      "text/plain": [
       "<IPython.core.display.HTML object>"
      ]
     },
     "execution_count": 4,
     "metadata": {},
     "output_type": "execute_result"
    },
    {
     "name": "stdout",
     "output_type": "stream",
     "text": [
      "time: 4.61 ms\n"
     ]
    }
   ],
   "source": [
    "from IPython.core.display import HTML\n",
    "css = open('style-table.css').read() + open('style-notebook.css').read()\n",
    "HTML('<style>{}</style>'.format(css))"
   ]
  },
  {
   "cell_type": "code",
   "execution_count": 3,
   "metadata": {
    "collapsed": false
   },
   "outputs": [
    {
     "data": {
      "text/html": [
       "<div style=\"max-height:1000px;max-width:1500px;overflow:auto;\">\n",
       "<table border=\"1\" class=\"dataframe\">\n",
       "  <thead>\n",
       "    <tr style=\"text-align: right;\">\n",
       "      <th></th>\n",
       "      <th>title</th>\n",
       "      <th>year</th>\n",
       "      <th>name</th>\n",
       "      <th>type</th>\n",
       "      <th>character</th>\n",
       "      <th>n</th>\n",
       "    </tr>\n",
       "  </thead>\n",
       "  <tbody>\n",
       "    <tr>\n",
       "      <th>0</th>\n",
       "      <td>The Core</td>\n",
       "      <td>2003</td>\n",
       "      <td>Alejandro Abellan</td>\n",
       "      <td>actor</td>\n",
       "      <td>U.S.S. Soldier</td>\n",
       "      <td>NaN</td>\n",
       "    </tr>\n",
       "    <tr>\n",
       "      <th>1</th>\n",
       "      <td>Il momento di uccidere</td>\n",
       "      <td>1968</td>\n",
       "      <td>Remo De Angelis</td>\n",
       "      <td>actor</td>\n",
       "      <td>Dago</td>\n",
       "      <td>9</td>\n",
       "    </tr>\n",
       "    <tr>\n",
       "      <th>2</th>\n",
       "      <td>Across the Divide</td>\n",
       "      <td>1921</td>\n",
       "      <td>Thomas Delmar</td>\n",
       "      <td>actor</td>\n",
       "      <td>Dago</td>\n",
       "      <td>4</td>\n",
       "    </tr>\n",
       "    <tr>\n",
       "      <th>3</th>\n",
       "      <td>Revan</td>\n",
       "      <td>2012</td>\n",
       "      <td>Diego James</td>\n",
       "      <td>actor</td>\n",
       "      <td>Dago</td>\n",
       "      <td>NaN</td>\n",
       "    </tr>\n",
       "    <tr>\n",
       "      <th>4</th>\n",
       "      <td>Un homme marche dans la ville</td>\n",
       "      <td>1950</td>\n",
       "      <td>Fabien Loris</td>\n",
       "      <td>actor</td>\n",
       "      <td>Dago</td>\n",
       "      <td>12</td>\n",
       "    </tr>\n",
       "  </tbody>\n",
       "</table>\n",
       "</div>"
      ],
      "text/plain": [
       "                           title  year               name   type  \\\n",
       "0                       The Core  2003  Alejandro Abellan  actor   \n",
       "1         Il momento di uccidere  1968    Remo De Angelis  actor   \n",
       "2              Across the Divide  1921      Thomas Delmar  actor   \n",
       "3                          Revan  2012        Diego James  actor   \n",
       "4  Un homme marche dans la ville  1950       Fabien Loris  actor   \n",
       "\n",
       "        character   n  \n",
       "0  U.S.S. Soldier NaN  \n",
       "1            Dago   9  \n",
       "2            Dago   4  \n",
       "3            Dago NaN  \n",
       "4            Dago  12  "
      ]
     },
     "execution_count": 3,
     "metadata": {},
     "output_type": "execute_result"
    }
   ],
   "source": [
    "cast = pd.DataFrame.from_csv('data/cast.csv', index_col=None)\n",
    "cast.head()"
   ]
  },
  {
   "cell_type": "code",
   "execution_count": 4,
   "metadata": {
    "collapsed": false
   },
   "outputs": [
    {
     "data": {
      "text/html": [
       "<div style=\"max-height:1000px;max-width:1500px;overflow:auto;\">\n",
       "<table border=\"1\" class=\"dataframe\">\n",
       "  <thead>\n",
       "    <tr style=\"text-align: right;\">\n",
       "      <th></th>\n",
       "      <th>title</th>\n",
       "      <th>year</th>\n",
       "      <th>country</th>\n",
       "      <th>date</th>\n",
       "    </tr>\n",
       "  </thead>\n",
       "  <tbody>\n",
       "    <tr>\n",
       "      <th>0</th>\n",
       "      <td>0_1_0</td>\n",
       "      <td>2008</td>\n",
       "      <td>Poland</td>\n",
       "      <td>2008-11-14</td>\n",
       "    </tr>\n",
       "    <tr>\n",
       "      <th>1</th>\n",
       "      <td>Ai no Sanka</td>\n",
       "      <td>1967</td>\n",
       "      <td>Japan</td>\n",
       "      <td>1967-01-01</td>\n",
       "    </tr>\n",
       "    <tr>\n",
       "      <th>2</th>\n",
       "      <td>A Thousand to One</td>\n",
       "      <td>1920</td>\n",
       "      <td>USA</td>\n",
       "      <td>1920-12-07</td>\n",
       "    </tr>\n",
       "    <tr>\n",
       "      <th>3</th>\n",
       "      <td>A Prince of a King</td>\n",
       "      <td>1923</td>\n",
       "      <td>USA</td>\n",
       "      <td>1923-10-13</td>\n",
       "    </tr>\n",
       "    <tr>\n",
       "      <th>4</th>\n",
       "      <td>A Prince of a King</td>\n",
       "      <td>1923</td>\n",
       "      <td>Netherlands</td>\n",
       "      <td>1924-08-08</td>\n",
       "    </tr>\n",
       "  </tbody>\n",
       "</table>\n",
       "</div>"
      ],
      "text/plain": [
       "                title  year      country       date\n",
       "0               0_1_0  2008       Poland 2008-11-14\n",
       "1         Ai no Sanka  1967        Japan 1967-01-01\n",
       "2   A Thousand to One  1920          USA 1920-12-07\n",
       "3  A Prince of a King  1923          USA 1923-10-13\n",
       "4  A Prince of a King  1923  Netherlands 1924-08-08"
      ]
     },
     "execution_count": 4,
     "metadata": {},
     "output_type": "execute_result"
    }
   ],
   "source": [
    "release_dates = pd.DataFrame.from_csv('data/release_dates.csv', index_col=None,\n",
    "                                      parse_dates=['date'], infer_datetime_format=True)\n",
    "release_dates.head()"
   ]
  },
  {
   "cell_type": "code",
   "execution_count": 6,
   "metadata": {
    "collapsed": false
   },
   "outputs": [
    {
     "name": "stdout",
     "output_type": "stream",
     "text": [
      "time: 2.54 s\n"
     ]
    }
   ],
   "source": [
    "sqlContext.read.format('com.databricks.spark.csv').options(header='true', inferSchema='true')\\\n",
    "    .load(os.path.expanduser('~/Dropbox/Projects/TreeBoa/pandas/pycon/data/release_dates.csv'))\\\n",
    "    .write.mode('overwrite').parquet(os.path.expanduser('~/Dropbox/Projects/data/movielens_p/release_dates'))"
   ]
  },
  {
   "cell_type": "code",
   "execution_count": 7,
   "metadata": {
    "collapsed": false
   },
   "outputs": [
    {
     "data": {
      "text/plain": [
       "DataFrame[title: string, year: int, name: string, type: string, character: string, n: int]"
      ]
     },
     "execution_count": 7,
     "metadata": {},
     "output_type": "execute_result"
    },
    {
     "name": "stdout",
     "output_type": "stream",
     "text": [
      "time: 232 ms\n"
     ]
    }
   ],
   "source": [
    "release_dates = sqlContext.read.parquet(os.path.expanduser('~/Dropbox/Projects/data/movielens_p/release_dates'))\n",
    "release_dates.cache()\n",
    "cast = sqlContext.read.parquet(os.path.expanduser('~/Dropbox/Projects/data/movielens_p/cast'))\n",
    "cast.cache()"
   ]
  },
  {
   "cell_type": "markdown",
   "metadata": {
    "collapsed": true
   },
   "source": [
    "### Make a bar plot of the months in which movies with \"Christmas\" in their title tend to be released in the USA."
   ]
  },
  {
   "cell_type": "code",
   "execution_count": 10,
   "metadata": {
    "collapsed": false
   },
   "outputs": [
    {
     "name": "stdout",
     "output_type": "stream",
     "text": [
      "+-----+-----+\n",
      "|month|count|\n",
      "+-----+-----+\n",
      "|    1|   14|\n",
      "|    2|    5|\n",
      "|    3|    4|\n",
      "|    4|    5|\n",
      "|    5|    8|\n",
      "|    6|    8|\n",
      "|    7|    2|\n",
      "|    8|    7|\n",
      "|    9|    7|\n",
      "|   10|   22|\n",
      "|   11|  175|\n",
      "|   12|  321|\n",
      "+-----+-----+\n",
      "\n",
      "time: 623 ms\n"
     ]
    }
   ],
   "source": [
    "release_dates[release_dates.title.rlike('Christmas')]\\\n",
    "    .select(F.month(release_dates.date).alias('month'))\\\n",
    "    .groupby('month')\\\n",
    "    .count()\\\n",
    "    .sort('month')\\\n",
    "    .show()"
   ]
  },
  {
   "cell_type": "code",
   "execution_count": null,
   "metadata": {
    "collapsed": false
   },
   "outputs": [],
   "source": []
  },
  {
   "cell_type": "markdown",
   "metadata": {
    "collapsed": true
   },
   "source": [
    "### Make a bar plot of the months in which movies whose titles start with \"The Hobbit\" are released in the USA."
   ]
  },
  {
   "cell_type": "code",
   "execution_count": 13,
   "metadata": {
    "collapsed": false
   },
   "outputs": [
    {
     "name": "stdout",
     "output_type": "stream",
     "text": [
      "+-----+-----+\n",
      "|month|count|\n",
      "+-----+-----+\n",
      "|    1|    7|\n",
      "|    2|    3|\n",
      "|   11|    1|\n",
      "|   12|  193|\n",
      "+-----+-----+\n",
      "\n",
      "time: 409 ms\n"
     ]
    }
   ],
   "source": [
    "release_dates[release_dates.title.rlike('^The Hobbit')]\\\n",
    "    .select(F.month(release_dates.date).alias('month'))\\\n",
    "    .groupby('month')\\\n",
    "    .count()\\\n",
    "    .sort('month')\\\n",
    "    .show()"
   ]
  },
  {
   "cell_type": "code",
   "execution_count": null,
   "metadata": {
    "collapsed": true
   },
   "outputs": [],
   "source": []
  },
  {
   "cell_type": "markdown",
   "metadata": {
    "collapsed": true
   },
   "source": [
    "### Make a bar plot of the day of the week on which movies with \"Romance\" in their title tend to be released in the USA."
   ]
  },
  {
   "cell_type": "code",
   "execution_count": 16,
   "metadata": {
    "collapsed": false
   },
   "outputs": [
    {
     "name": "stdout",
     "output_type": "stream",
     "text": [
      "+---------+-----+\n",
      "|dayofweek|count|\n",
      "+---------+-----+\n",
      "|      Tue|   13|\n",
      "|      Sat|   16|\n",
      "|      Wed|   32|\n",
      "|      Sun|   44|\n",
      "|      Thu|   49|\n",
      "|      Mon|   59|\n",
      "|      Fri|   88|\n",
      "+---------+-----+\n",
      "\n",
      "time: 367 ms\n"
     ]
    }
   ],
   "source": [
    "release_dates[release_dates.title.rlike('Romance')]\\\n",
    "    .select(F.date_format(release_dates.date, 'E').alias('dayofweek'))\\\n",
    "    .groupby('dayofweek')\\\n",
    "    .count()\\\n",
    "    .sort('count')\\\n",
    "    .show()"
   ]
  },
  {
   "cell_type": "code",
   "execution_count": null,
   "metadata": {
    "collapsed": true
   },
   "outputs": [],
   "source": []
  },
  {
   "cell_type": "markdown",
   "metadata": {
    "collapsed": true
   },
   "source": [
    "### Make a bar plot of the day of the week on which movies with \"Action\" in their title tend to be released in the USA."
   ]
  },
  {
   "cell_type": "code",
   "execution_count": 17,
   "metadata": {
    "collapsed": false
   },
   "outputs": [
    {
     "name": "stdout",
     "output_type": "stream",
     "text": [
      "+---------+-----+\n",
      "|dayofweek|count|\n",
      "+---------+-----+\n",
      "|      Tue|    2|\n",
      "|      Sun|    8|\n",
      "|      Mon|   13|\n",
      "|      Sat|   18|\n",
      "|      Wed|   35|\n",
      "|      Thu|   48|\n",
      "|      Fri|  108|\n",
      "+---------+-----+\n",
      "\n",
      "time: 404 ms\n"
     ]
    }
   ],
   "source": [
    "release_dates[release_dates.title.rlike('Action')]\\\n",
    "    .select(F.date_format(release_dates.date, 'E').alias('dayofweek'))\\\n",
    "    .groupby('dayofweek')\\\n",
    "    .count()\\\n",
    "    .sort('count')\\\n",
    "    .show()"
   ]
  },
  {
   "cell_type": "code",
   "execution_count": null,
   "metadata": {
    "collapsed": true
   },
   "outputs": [],
   "source": []
  },
  {
   "cell_type": "markdown",
   "metadata": {
    "collapsed": true
   },
   "source": [
    "### On which date was each Judi Dench movie from the 1990s released in the USA?"
   ]
  },
  {
   "cell_type": "code",
   "execution_count": 26,
   "metadata": {
    "collapsed": false
   },
   "outputs": [
    {
     "name": "stdout",
     "output_type": "stream",
     "text": [
      "+--------------------+----+-------+----------+\n",
      "|               title|year|country|      date|\n",
      "+--------------------+----+-------+----------+\n",
      "|        Jack & Sarah|1995|    USA|1996-03-22|\n",
      "| Tomorrow Never Dies|1997|    USA|1997-12-19|\n",
      "|              Hamlet|1996|    USA|1996-12-25|\n",
      "|           GoldenEye|1995|    USA|1995-11-17|\n",
      "|The World Is Not ...|1999|    USA|1999-11-19|\n",
      "| Shakespeare in Love|1998|    USA|1999-01-08|\n",
      "|           Mrs Brown|1997|    USA|1997-07-18|\n",
      "|  Tea with Mussolini|1999|    USA|1999-05-14|\n",
      "+--------------------+----+-------+----------+\n",
      "\n",
      "time: 754 ms\n"
     ]
    }
   ],
   "source": [
    "cast[(cast.name == 'Judi Dench') & (cast.year.between(1990, 1999))]\\\n",
    "    .select('title', 'year')\\\n",
    "    .join(release_dates, how='inner', on=['title', 'year'])\\\n",
    "    .filter(\"country = 'USA'\")\\\n",
    "    .show()"
   ]
  },
  {
   "cell_type": "code",
   "execution_count": null,
   "metadata": {
    "collapsed": true
   },
   "outputs": [],
   "source": []
  },
  {
   "cell_type": "markdown",
   "metadata": {
    "collapsed": true
   },
   "source": [
    "### In which months do films with Judi Dench tend to be released in the USA?"
   ]
  },
  {
   "cell_type": "code",
   "execution_count": 25,
   "metadata": {
    "collapsed": false
   },
   "outputs": [
    {
     "name": "stdout",
     "output_type": "stream",
     "text": [
      "+-----+-----+\n",
      "|month|count|\n",
      "+-----+-----+\n",
      "|    1|    4|\n",
      "|    2|    3|\n",
      "|    3|    4|\n",
      "|    4|    2|\n",
      "|    5|    4|\n",
      "|    6|    3|\n",
      "|    7|    2|\n",
      "|    8|    1|\n",
      "|   11|   10|\n",
      "|   12|    4|\n",
      "+-----+-----+\n",
      "\n",
      "time: 1.87 s\n"
     ]
    }
   ],
   "source": [
    "cast[(cast.name == 'Judi Dench')]\\\n",
    "    .select('title', 'year')\\\n",
    "    .join(release_dates, how='inner', on=['title', 'year'])\\\n",
    "    .filter(\"country = 'USA'\")\\\n",
    "    .select(F.month('date').alias('month'))\\\n",
    "    .groupby('month')\\\n",
    "    .count()\\\n",
    "    .sort('month')\\\n",
    "    .show()"
   ]
  },
  {
   "cell_type": "code",
   "execution_count": null,
   "metadata": {
    "collapsed": true
   },
   "outputs": [],
   "source": []
  },
  {
   "cell_type": "markdown",
   "metadata": {
    "collapsed": true
   },
   "source": [
    "### In which months do films with Tom Cruise tend to be released in the USA?"
   ]
  },
  {
   "cell_type": "code",
   "execution_count": 27,
   "metadata": {
    "collapsed": false
   },
   "outputs": [
    {
     "name": "stdout",
     "output_type": "stream",
     "text": [
      "+-----+-----+\n",
      "|month|count|\n",
      "+-----+-----+\n",
      "|    1|    3|\n",
      "|    3|    1|\n",
      "|    4|    3|\n",
      "|    5|    5|\n",
      "|    6|    7|\n",
      "|    7|    6|\n",
      "|    8|    3|\n",
      "|   10|    2|\n",
      "|   11|    3|\n",
      "|   12|    9|\n",
      "+-----+-----+\n",
      "\n",
      "time: 2.12 s\n"
     ]
    }
   ],
   "source": [
    "cast[(cast.name == 'Tom Cruise')]\\\n",
    "    .select('title', 'year')\\\n",
    "    .join(release_dates, how='inner', on=['title', 'year'])\\\n",
    "    .filter(\"country = 'USA'\")\\\n",
    "    .select(F.month('date').alias('month'))\\\n",
    "    .groupby('month')\\\n",
    "    .count()\\\n",
    "    .sort('month')\\\n",
    "    .show()"
   ]
  },
  {
   "cell_type": "code",
   "execution_count": null,
   "metadata": {
    "collapsed": true
   },
   "outputs": [],
   "source": []
  }
 ],
 "metadata": {
  "kernelspec": {
   "display_name": "Python 2",
   "language": "python",
   "name": "python2"
  },
  "language_info": {
   "codemirror_mode": {
    "name": "ipython",
    "version": 2
   },
   "file_extension": ".py",
   "mimetype": "text/x-python",
   "name": "python",
   "nbconvert_exporter": "python",
   "pygments_lexer": "ipython2",
   "version": "2.7.11"
  }
 },
 "nbformat": 4,
 "nbformat_minor": 0
}
