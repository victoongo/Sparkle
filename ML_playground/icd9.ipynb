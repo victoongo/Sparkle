{
 "cells": [
  {
   "cell_type": "code",
   "execution_count": 3,
   "metadata": {
    "collapsed": false
   },
   "outputs": [],
   "source": [
    "import pandas as pd\n",
    "import pyspark\n",
    "import pyspark.sql.functions as F\n",
    "# import matplotlib.pyplot as plt\n",
    "\n",
    "import os\n",
    "import re\n",
    "\n",
    "dpath = os.path.expanduser('~/Dropbox/Projects/data/')"
   ]
  },
  {
   "cell_type": "code",
   "execution_count": 4,
   "metadata": {
    "collapsed": false
   },
   "outputs": [],
   "source": [
    "# %matplotlib inline"
   ]
  },
  {
   "cell_type": "code",
   "execution_count": 5,
   "metadata": {
    "collapsed": true
   },
   "outputs": [],
   "source": [
    "# %install_ext https://raw.github.com/cpcloud/ipython-autotime/master/autotime.py\n",
    "%load_ext autotime"
   ]
  },
  {
   "cell_type": "code",
   "execution_count": 6,
   "metadata": {
    "collapsed": false
   },
   "outputs": [
    {
     "data": {
      "text/html": [
       "<div>\n",
       "<table border=\"1\" class=\"dataframe\">\n",
       "  <thead>\n",
       "    <tr style=\"text-align: right;\">\n",
       "      <th></th>\n",
       "      <th>icd9</th>\n",
       "      <th>long</th>\n",
       "      <th>short</th>\n",
       "    </tr>\n",
       "  </thead>\n",
       "  <tbody>\n",
       "    <tr>\n",
       "      <th>0</th>\n",
       "      <td>0010</td>\n",
       "      <td>Cholera due to vibrio cholerae</td>\n",
       "      <td>Cholera d/t vib cholerae</td>\n",
       "    </tr>\n",
       "    <tr>\n",
       "      <th>1</th>\n",
       "      <td>0011</td>\n",
       "      <td>Cholera due to vibrio cholerae el tor</td>\n",
       "      <td>Cholera d/t vib el tor</td>\n",
       "    </tr>\n",
       "    <tr>\n",
       "      <th>2</th>\n",
       "      <td>0019</td>\n",
       "      <td>Cholera, unspecified</td>\n",
       "      <td>Cholera NOS</td>\n",
       "    </tr>\n",
       "    <tr>\n",
       "      <th>3</th>\n",
       "      <td>0020</td>\n",
       "      <td>Typhoid fever</td>\n",
       "      <td>Typhoid fever</td>\n",
       "    </tr>\n",
       "    <tr>\n",
       "      <th>4</th>\n",
       "      <td>0021</td>\n",
       "      <td>Paratyphoid fever A</td>\n",
       "      <td>Paratyphoid fever a</td>\n",
       "    </tr>\n",
       "  </tbody>\n",
       "</table>\n",
       "</div>"
      ],
      "text/plain": [
       "   icd9                                   long                     short\n",
       "0  0010         Cholera due to vibrio cholerae  Cholera d/t vib cholerae\n",
       "1  0011  Cholera due to vibrio cholerae el tor    Cholera d/t vib el tor\n",
       "2  0019                   Cholera, unspecified               Cholera NOS\n",
       "3  0020                          Typhoid fever             Typhoid fever\n",
       "4  0021                    Paratyphoid fever A       Paratyphoid fever a"
      ]
     },
     "execution_count": 6,
     "metadata": {},
     "output_type": "execute_result"
    },
    {
     "name": "stdout",
     "output_type": "stream",
     "text": [
      "time: 1.06 s\n"
     ]
    }
   ],
   "source": [
    "icd9 = pd.read_excel(dpath + 'icd9/CMS32_DESC_LONG_SHORT_DX.xlsx')\n",
    "icd9.columns = ['icd9', 'long', 'short']\n",
    "\n",
    "icd9.head()"
   ]
  },
  {
   "cell_type": "code",
   "execution_count": 7,
   "metadata": {
    "collapsed": false
   },
   "outputs": [
    {
     "name": "stdout",
     "output_type": "stream",
     "text": [
      "12060\n",
      "12060\n",
      "+-------------------------------------+\n",
      "|long                                 |\n",
      "+-------------------------------------+\n",
      "|cholera due to vibrio cholerae       |\n",
      "|cholera due to vibrio cholerae el tor|\n",
      "|typhoid fever                        |\n",
      "|paratyphoid fever a                  |\n",
      "|paratyphoid fever b                  |\n",
      "|paratyphoid fever c                  |\n",
      "|salmonella gastroenteritis           |\n",
      "|salmonella septicemia                |\n",
      "|salmonella meningitis                |\n",
      "|salmonella pneumonia                 |\n",
      "|salmonella arthritis                 |\n",
      "|salmonella osteomyelitis             |\n",
      "|other localized salmonella infections|\n",
      "|other specified salmonella infections|\n",
      "|shigella dysenteriae                 |\n",
      "|shigella flexneri                    |\n",
      "|shigella boydii                      |\n",
      "|shigella sonnei                      |\n",
      "|other specified shigella infections  |\n",
      "|staphylococcal food poisoning        |\n",
      "+-------------------------------------+\n",
      "only showing top 20 rows\n",
      "\n",
      "time: 7.33 s\n"
     ]
    }
   ],
   "source": [
    "icd = spark.createDataFrame(icd9[['long']])\n",
    "icd = icd[~icd.long.rlike('unspec')]\n",
    "print icd.count()\n",
    "# icd = icd.withColumn('long', F.regexp_replace(F.lower(icd.long), '[,()]', ''))\n",
    "icd = icd.withColumn('long', F.regexp_replace(F.lower(icd.long), '[^\\sa-z]', ''))\n",
    "print icd.count()\n",
    "icd = icd.withColumn('long', F.regexp_replace(F.lower(icd.long), '\\s+?', ' '))\n",
    "\n",
    "icd.show(truncate=False)"
   ]
  },
  {
   "cell_type": "code",
   "execution_count": 8,
   "metadata": {
    "collapsed": false
   },
   "outputs": [
    {
     "name": "stdout",
     "output_type": "stream",
     "text": [
      "+---------------------------------------------+\n",
      "|words                                        |\n",
      "+---------------------------------------------+\n",
      "|[cholera, due, to, vibrio, cholerae]         |\n",
      "|[cholera, due, to, vibrio, cholerae, el, tor]|\n",
      "|[typhoid, fever]                             |\n",
      "|[paratyphoid, fever, a]                      |\n",
      "|[paratyphoid, fever, b]                      |\n",
      "|[paratyphoid, fever, c]                      |\n",
      "|[salmonella, gastroenteritis]                |\n",
      "|[salmonella, septicemia]                     |\n",
      "|[salmonella, meningitis]                     |\n",
      "|[salmonella, pneumonia]                      |\n",
      "|[salmonella, arthritis]                      |\n",
      "|[salmonella, osteomyelitis]                  |\n",
      "|[other, localized, salmonella, infections]   |\n",
      "|[other, specified, salmonella, infections]   |\n",
      "|[shigella, dysenteriae]                      |\n",
      "|[shigella, flexneri]                         |\n",
      "|[shigella, boydii]                           |\n",
      "|[shigella, sonnei]                           |\n",
      "|[other, specified, shigella, infections]     |\n",
      "|[staphylococcal, food, poisoning]            |\n",
      "+---------------------------------------------+\n",
      "only showing top 20 rows\n",
      "\n",
      "time: 199 ms\n"
     ]
    }
   ],
   "source": [
    "from pyspark.ml.feature import Tokenizer\n",
    "\n",
    "tokenizer = Tokenizer(inputCol=\"long\", outputCol=\"words\")\n",
    "wordsData = tokenizer.transform(icd)\n",
    "wordsData.select('words').show(truncate=False)"
   ]
  },
  {
   "cell_type": "code",
   "execution_count": 9,
   "metadata": {
    "collapsed": false
   },
   "outputs": [
    {
     "name": "stdout",
     "output_type": "stream",
     "text": [
      "+-----------------------------------------+\n",
      "|filtered                                 |\n",
      "+-----------------------------------------+\n",
      "|[cholera, due, vibrio, cholerae]         |\n",
      "|[cholera, due, vibrio, cholerae, el, tor]|\n",
      "|[typhoid, fever]                         |\n",
      "|[paratyphoid, fever]                     |\n",
      "|[paratyphoid, fever, b]                  |\n",
      "|[paratyphoid, fever, c]                  |\n",
      "|[salmonella, gastroenteritis]            |\n",
      "|[salmonella, septicemia]                 |\n",
      "|[salmonella, meningitis]                 |\n",
      "|[salmonella, pneumonia]                  |\n",
      "|[salmonella, arthritis]                  |\n",
      "|[salmonella, osteomyelitis]              |\n",
      "|[localized, salmonella, infections]      |\n",
      "|[specified, salmonella, infections]      |\n",
      "|[shigella, dysenteriae]                  |\n",
      "|[shigella, flexneri]                     |\n",
      "|[shigella, boydii]                       |\n",
      "|[shigella, sonnei]                       |\n",
      "|[specified, shigella, infections]        |\n",
      "|[staphylococcal, food, poisoning]        |\n",
      "+-----------------------------------------+\n",
      "only showing top 20 rows\n",
      "\n",
      "time: 290 ms\n"
     ]
    }
   ],
   "source": [
    "from pyspark.ml.feature import StopWordsRemover\n",
    "\n",
    "remover = StopWordsRemover(inputCol=\"words\", outputCol=\"filtered\")\n",
    "filteredData = remover.transform(wordsData)\n",
    "filteredData.select('filtered').show(truncate=False)"
   ]
  },
  {
   "cell_type": "raw",
   "metadata": {
    "collapsed": false
   },
   "source": [
    "my_list = [1,2,3,4]\n",
    "for x in my_list:\n",
    "    for y in my_list:\n",
    "        print x, y\n",
    "\n",
    "import itertools\n",
    "my_list = [1,2,3,4]\n",
    "for pair in itertools.combinations(my_list, r=2):\n",
    "    print pair[0]"
   ]
  },
  {
   "cell_type": "code",
   "execution_count": 10,
   "metadata": {
    "collapsed": false,
    "scrolled": false
   },
   "outputs": [
    {
     "data": {
      "text/html": [
       "<div>\n",
       "<table border=\"1\" class=\"dataframe\">\n",
       "  <thead>\n",
       "    <tr style=\"text-align: right;\">\n",
       "      <th></th>\n",
       "      <th>n1</th>\n",
       "      <th>n2</th>\n",
       "    </tr>\n",
       "  </thead>\n",
       "  <tbody>\n",
       "    <tr>\n",
       "      <th>0</th>\n",
       "      <td>cholera</td>\n",
       "      <td>due</td>\n",
       "    </tr>\n",
       "    <tr>\n",
       "      <th>1</th>\n",
       "      <td>cholera</td>\n",
       "      <td>vibrio</td>\n",
       "    </tr>\n",
       "    <tr>\n",
       "      <th>2</th>\n",
       "      <td>cholera</td>\n",
       "      <td>cholerae</td>\n",
       "    </tr>\n",
       "    <tr>\n",
       "      <th>3</th>\n",
       "      <td>due</td>\n",
       "      <td>vibrio</td>\n",
       "    </tr>\n",
       "    <tr>\n",
       "      <th>4</th>\n",
       "      <td>cholerae</td>\n",
       "      <td>due</td>\n",
       "    </tr>\n",
       "  </tbody>\n",
       "</table>\n",
       "</div>"
      ],
      "text/plain": [
       "         n1        n2\n",
       "0   cholera       due\n",
       "1   cholera    vibrio\n",
       "2   cholera  cholerae\n",
       "3       due    vibrio\n",
       "4  cholerae       due"
      ]
     },
     "execution_count": 10,
     "metadata": {},
     "output_type": "execute_result"
    },
    {
     "name": "stdout",
     "output_type": "stream",
     "text": [
      "time: 903 ms\n"
     ]
    }
   ],
   "source": [
    "import itertools\n",
    "rows_list = []\n",
    "# for r in filteredData.limit(5).select('filtered').rdd.map(lambda r: list(r)[0]).collect():\n",
    "for r in filteredData.select('filtered').rdd.map(lambda r: list(r)[0]).collect():\n",
    "    r = [i.encode('utf-8') for i in r]\n",
    "# permutations are for directional\n",
    "    for pair in itertools.combinations(r, r=2):\n",
    "#         print pair\n",
    "        if pair[0] != '' and pair[1] != '':\n",
    "            if pair[0] > pair[1]:\n",
    "                a, b = pair[1], pair[0]\n",
    "            else:\n",
    "                a, b = pair[0], pair[1]\n",
    "        dict1 = {'n1': a, 'n2': b}\n",
    "        rows_list.append(dict1)\n",
    "\n",
    "df = pd.DataFrame(rows_list)\n",
    "df.head()"
   ]
  },
  {
   "cell_type": "code",
   "execution_count": 11,
   "metadata": {
    "collapsed": false
   },
   "outputs": [
    {
     "data": {
      "text/html": [
       "<div>\n",
       "<table border=\"1\" class=\"dataframe\">\n",
       "  <thead>\n",
       "    <tr style=\"text-align: right;\">\n",
       "      <th></th>\n",
       "      <th>n1</th>\n",
       "      <th>n2</th>\n",
       "    </tr>\n",
       "  </thead>\n",
       "  <tbody>\n",
       "  </tbody>\n",
       "</table>\n",
       "</div>"
      ],
      "text/plain": [
       "Empty DataFrame\n",
       "Columns: [n1, n2]\n",
       "Index: []"
      ]
     },
     "execution_count": 11,
     "metadata": {},
     "output_type": "execute_result"
    },
    {
     "name": "stdout",
     "output_type": "stream",
     "text": [
      "time: 12.8 ms\n"
     ]
    }
   ],
   "source": [
    "df[df.n1 == '']"
   ]
  },
  {
   "cell_type": "code",
   "execution_count": 12,
   "metadata": {
    "collapsed": false,
    "scrolled": true
   },
   "outputs": [
    {
     "name": "stdout",
     "output_type": "stream",
     "text": [
      "n1    751\n",
      "n2    751\n",
      "c     751\n",
      "dtype: int64\n"
     ]
    },
    {
     "data": {
      "text/html": [
       "<div>\n",
       "<table border=\"1\" class=\"dataframe\">\n",
       "  <thead>\n",
       "    <tr style=\"text-align: right;\">\n",
       "      <th></th>\n",
       "      <th>n1</th>\n",
       "      <th>n2</th>\n",
       "      <th>c</th>\n",
       "    </tr>\n",
       "  </thead>\n",
       "  <tbody>\n",
       "    <tr>\n",
       "      <th>246</th>\n",
       "      <td>abnormal</td>\n",
       "      <td>nonspecific</td>\n",
       "      <td>40</td>\n",
       "    </tr>\n",
       "    <tr>\n",
       "      <th>417</th>\n",
       "      <td>abortion</td>\n",
       "      <td>complete</td>\n",
       "      <td>36</td>\n",
       "    </tr>\n",
       "    <tr>\n",
       "      <th>418</th>\n",
       "      <td>abortion</td>\n",
       "      <td>complicated</td>\n",
       "      <td>63</td>\n",
       "    </tr>\n",
       "    <tr>\n",
       "      <th>438</th>\n",
       "      <td>abortion</td>\n",
       "      <td>incomplete</td>\n",
       "      <td>36</td>\n",
       "    </tr>\n",
       "    <tr>\n",
       "      <th>439</th>\n",
       "      <td>abortion</td>\n",
       "      <td>induced</td>\n",
       "      <td>36</td>\n",
       "    </tr>\n",
       "  </tbody>\n",
       "</table>\n",
       "</div>"
      ],
      "text/plain": [
       "           n1           n2   c\n",
       "246  abnormal  nonspecific  40\n",
       "417  abortion     complete  36\n",
       "418  abortion  complicated  63\n",
       "438  abortion   incomplete  36\n",
       "439  abortion      induced  36"
      ]
     },
     "execution_count": 12,
     "metadata": {},
     "output_type": "execute_result"
    },
    {
     "name": "stdout",
     "output_type": "stream",
     "text": [
      "time: 62.2 ms\n"
     ]
    }
   ],
   "source": [
    "dfc = df.groupby(['n1', 'n2']).size().reset_index()\n",
    "dfc.columns = ['n1', 'n2', 'c']\n",
    "dfc = dfc[dfc.c > 30]\n",
    "print dfc.count()\n",
    "dfc.head()"
   ]
  },
  {
   "cell_type": "code",
   "execution_count": null,
   "metadata": {
    "collapsed": true
   },
   "outputs": [],
   "source": [
    "import networkx as nx\n",
    "G=nx.Graph()\n",
    "# G.clear()\n",
    "\n",
    "for r in dfc[dfc.c > 3].iterrows():\n",
    "#     print r[1][0], r[1][1], r[1][2]\n",
    "    G.add_edge(r[1][0], r[1][1], weight = r[1][2])"
   ]
  },
  {
   "cell_type": "raw",
   "metadata": {
    "collapsed": false,
    "scrolled": true
   },
   "source": [
    "# print G.nodes()\n",
    "print G.edges()"
   ]
  },
  {
   "cell_type": "raw",
   "metadata": {},
   "source": [
    "# nx.to_pandas_dataframe(G)\n",
    "# nx.to_edgelist(G)\n",
    "nx.to_dict_of_lists(G)"
   ]
  },
  {
   "cell_type": "raw",
   "metadata": {
    "collapsed": false
   },
   "source": [
    "nx.draw(G)\n",
    "# nx.draw_random(G)\n",
    "# nx.draw_circular(G)\n",
    "# nx.draw_spectral(G)\n",
    "plt.show()"
   ]
  },
  {
   "cell_type": "code",
   "execution_count": 108,
   "metadata": {
    "collapsed": false
   },
   "outputs": [
    {
     "data": {
      "image/png": "[encoded data removed]",
      "text/plain": [
       "<matplotlib.figure.Figure at 0x119643d10>"
      ]
     },
     "metadata": {},
     "output_type": "display_data"
    },
    {
     "name": "stdout",
     "output_type": "stream",
     "text": [
      "time: 296 ms\n"
     ]
    }
   ],
   "source": [
    "from operator import itemgetter\n",
    "\n",
    "# Accessing the highest degree node\n",
    "center, degree = sorted(G.degree().items(), key=itemgetter(1), reverse=True)[0]\n",
    "\n",
    "# A special type of subgraph\n",
    "ego = nx.ego_graph(G, center)\n",
    "\n",
    "# pos = nx.spring_layout(G)\n",
    "pos=nx.fruchterman_reingold_layout(G)\n",
    "\n",
    "\n",
    "nx.draw(G, pos, node_color='#0080C9', edge_color='#cccccc', node_size=50)\n",
    "nx.draw_networkx_nodes(G, pos, nodelist=[center], node_size=100, node_color=\"r\")\n",
    "plt.show()"
   ]
  },
  {
   "cell_type": "markdown",
   "metadata": {},
   "source": [
    "# Fruchterman Reingold layout with networkx and Plotly"
   ]
  },
  {
   "cell_type": "code",
   "execution_count": 109,
   "metadata": {
    "collapsed": false
   },
   "outputs": [
    {
     "name": "stdout",
     "output_type": "stream",
     "text": [
      "time: 1.38 s\n"
     ]
    }
   ],
   "source": [
    "import plotly.plotly as py\n",
    "from plotly.graph_objs import *"
   ]
  },
  {
   "cell_type": "code",
   "execution_count": 110,
   "metadata": {
    "collapsed": false
   },
   "outputs": [
    {
     "name": "stdout",
     "output_type": "stream",
     "text": [
      "time: 845 µs\n"
     ]
    }
   ],
   "source": [
    "py.sign_in('victoongo', '7ucdyecjqd')"
   ]
  },
  {
   "cell_type": "code",
   "execution_count": 111,
   "metadata": {
    "collapsed": false
   },
   "outputs": [
    {
     "name": "stdout",
     "output_type": "stream",
     "text": [
      "time: 2.94 ms\n"
     ]
    }
   ],
   "source": [
    "labels=list(G.nodes())\n",
    "N = len(labels)\n",
    "V = range(N)\n",
    "E=[e for e in G.edges()]# list of edges"
   ]
  },
  {
   "cell_type": "code",
   "execution_count": 112,
   "metadata": {
    "collapsed": false
   },
   "outputs": [
    {
     "data": {
      "text/plain": [
       "235"
      ]
     },
     "execution_count": 112,
     "metadata": {},
     "output_type": "execute_result"
    },
    {
     "name": "stdout",
     "output_type": "stream",
     "text": [
      "time: 2.23 ms\n"
     ]
    }
   ],
   "source": [
    "N"
   ]
  },
  {
   "cell_type": "code",
   "execution_count": 113,
   "metadata": {
    "collapsed": false
   },
   "outputs": [
    {
     "data": {
      "text/html": [
       "<iframe id=\"igraph\" scrolling=\"no\" style=\"border:none;\" seamless=\"seamless\" src=\"https://plot.ly/~victoongo/2.embed\" height=\"800px\" width=\"800px\"></iframe>"
      ],
      "text/plain": [
       "<plotly.tools.PlotlyDisplay object>"
      ]
     },
     "execution_count": 113,
     "metadata": {},
     "output_type": "execute_result"
    },
    {
     "name": "stdout",
     "output_type": "stream",
     "text": [
      "time: 2.06 s\n"
     ]
    }
   ],
   "source": [
    "pos=nx.fruchterman_reingold_layout(G)\n",
    "\n",
    "Xv=[pos[k][0] for k in labels]\n",
    "Yv=[pos[k][1] for k in labels]\n",
    "Xed=[]\n",
    "Yed=[]\n",
    "for edge in E:\n",
    "    Xed+=[pos[edge[0]][0],pos[edge[1]][0], None]\n",
    "    Yed+=[pos[edge[0]][1],pos[edge[1]][1], None] \n",
    "    \n",
    "trace3=Scatter(x=Xed,\n",
    "               y=Yed,\n",
    "               mode='lines',\n",
    "               line=Line(color='rgb(210,210,210)', width=1),\n",
    "               hoverinfo='none'\n",
    "               )\n",
    "trace4=Scatter(x=Xv,\n",
    "               y=Yv,\n",
    "               mode='markers',\n",
    "               name='net',\n",
    "               marker=Marker(symbol='dot',\n",
    "                             size=5, \n",
    "                             color='#6959CD',\n",
    "                             line=Line(color='rgb(50,50,50)', width=0.5)\n",
    "                             ),\n",
    "               text=labels,\n",
    "               hoverinfo='text'\n",
    "               )\n",
    "\n",
    "\n",
    "annot=\"This networkx.Graph has the Fruchterman-Reingold layout<br>Code:\"+\\\n",
    "\"<a href='http://nbviewer.ipython.org/gist/empet/07ea33b2e4e0b84193bd'> [2]</a>\"\n",
    "\n",
    "\n",
    "axis=dict(showline=False, # hide axis line, grid, ticklabels and  title\n",
    "          zeroline=False,\n",
    "          showgrid=False,\n",
    "          showticklabels=False,\n",
    "          title='' \n",
    "          )\n",
    "\n",
    "width=800\n",
    "height=800\n",
    "layout=Layout(title= \"Network of ICD9 long words\"+\\\n",
    "              \"<br> Data source: <a href='https://networkdata.ics.uci.edu/data.php?id=11'> [1]</a>\",  \n",
    "    font= Font(size=12),\n",
    "    showlegend=False,\n",
    "    autosize=False,\n",
    "    width=width,\n",
    "    height=height,\n",
    "    xaxis=XAxis(axis),\n",
    "    yaxis=YAxis(axis),          \n",
    "    margin=Margin(\n",
    "        l=40,\n",
    "        r=40,\n",
    "        b=85,\n",
    "        t=100,\n",
    "    ),\n",
    "    hovermode='closest',\n",
    "    annotations=Annotations([\n",
    "           Annotation(\n",
    "           showarrow=False, \n",
    "            text='This nx.Graph has the Fruchterman Reingold layout',  \n",
    "            xref='paper',     \n",
    "            yref='paper',     \n",
    "            x=0,  \n",
    "            y=-0.1,  \n",
    "            xanchor='left',   \n",
    "            yanchor='bottom',  \n",
    "            font=Font(\n",
    "            size=14 \n",
    "            )     \n",
    "            )\n",
    "        ]),           \n",
    "    )\n",
    "\n",
    "\n",
    "data1=Data([trace3, trace4])\n",
    "fig1=Figure(data=data1, layout=layout)\n",
    "fig1['layout']['annotations'][0]['text']=annot\n",
    "py.iplot(fig1, filename='icd9-words-network')\n"
   ]
  },
  {
   "cell_type": "markdown",
   "metadata": {
    "collapsed": true
   },
   "source": [
    "# force_directed_graph, D3"
   ]
  },
  {
   "cell_type": "code",
   "execution_count": 6,
   "metadata": {
    "collapsed": true
   },
   "outputs": [],
   "source": [
    "from IPython.core.display import HTML\n",
    "import d3_lib\n",
    "\n",
    "import pandas as pd\n",
    "import random\n",
    "random.seed(42)"
   ]
  },
  {
   "cell_type": "code",
   "execution_count": 3,
   "metadata": {
    "collapsed": false
   },
   "outputs": [
    {
     "data": {
      "text/html": [
       "<style>\n",
       ".axis path,\n",
       ".axis line {\n",
       "    fill: none;\n",
       "    stroke: grey;\n",
       "    stroke-width: 1;\n",
       "    shape-rendering: crispEdges;\n",
       "}\n",
       "\n",
       "\n",
       "/* Based on http://bl.ocks.org/d3noob/b3ff6ae1c120eea654b5 */\n",
       "\n",
       "path { \n",
       "    stroke: steelblue;\n",
       "    stroke-width: 2;\n",
       "    fill: none;\n",
       "}\n",
       "\n",
       "\n",
       "\n",
       "/* Based on http://bl.ocks.org/mbostock/3887118 */\n",
       "\n",
       ".dot {\n",
       "  stroke: #000;\n",
       "}\n",
       "\n",
       "/* http://bl.ocks.org/mbostock/4062045 */\n",
       "\n",
       ".node {\n",
       "  stroke: #fff;\n",
       "  stroke-width: 1.5px;\n",
       "}\n",
       "\n",
       ".link {\n",
       "  stroke: #999;\n",
       "  stroke-opacity: .6;\n",
       "}\n",
       "\n",
       "      rect.bordered {\n",
       "        stroke: #E6E6E6;\n",
       "        stroke-width:2px;   \n",
       "      }\n",
       "\n",
       "      text.mono {\n",
       "        font-size: 9pt;\n",
       "        font-family: Consolas, courier;\n",
       "        fill: #aaa;\n",
       "      }\n",
       "\n",
       "      text.axis-workweek {\n",
       "        fill: #000;\n",
       "      }\n",
       "\n",
       "      text.axis-worktime {\n",
       "        fill: #000;\n",
       "      }</style>"
      ],
      "text/plain": [
       "<IPython.core.display.HTML object>"
      ]
     },
     "execution_count": 3,
     "metadata": {},
     "output_type": "execute_result"
    }
   ],
   "source": [
    "HTML(d3_lib.set_styles(['basic_axis','basic_line','basic_scatter','force_directed_graph','day-hr-heatmap']))"
   ]
  },
  {
   "cell_type": "code",
   "execution_count": 4,
   "metadata": {
    "collapsed": false
   },
   "outputs": [
    {
     "data": {
      "text/html": [
       "<script src=\"lib/d3/d3.min.js\"></script>"
      ],
      "text/plain": [
       "<IPython.core.display.HTML object>"
      ]
     },
     "execution_count": 4,
     "metadata": {},
     "output_type": "execute_result"
    }
   ],
   "source": [
    "HTML('<script src=\"lib/d3/d3.min.js\"></script>')"
   ]
  },
  {
   "cell_type": "code",
   "execution_count": 17,
   "metadata": {
    "collapsed": false
   },
   "outputs": [],
   "source": [
    "n_nodes = 50\n",
    "p_edge = 0.05\n",
    "graph = {\"nodes\": [], \"links\": []}\n",
    "for i in range(n_nodes):\n",
    "    graph[\"nodes\"].append( {\"name\": \"i\" + str(i), \"group\": int(random.uniform(1,11))} )\n",
    "for i in range(n_nodes):\n",
    "    for j in range(n_nodes):\n",
    "        if random.uniform(0,1) < p_edge:\n",
    "            graph[\"links\"].append( {\"source\": i, \"target\": j, \"value\": random.uniform(0.5,3)} )"
   ]
  },
  {
   "cell_type": "code",
   "execution_count": 114,
   "metadata": {
    "collapsed": false
   },
   "outputs": [
    {
     "name": "stdout",
     "output_type": "stream",
     "text": [
      "time: 94.3 ms\n"
     ]
    }
   ],
   "source": [
    "graph = {\"nodes\": [], \"links\": []}\n",
    "\n",
    "for r in dfc[dfc.c > 3].iterrows():\n",
    "    graph[\"links\"].append( {\"source\": r[1][0], \"target\": r[1][1], \"value\": r[1][2]} )"
   ]
  },
  {
   "cell_type": "code",
   "execution_count": 122,
   "metadata": {
    "collapsed": false
   },
   "outputs": [
    {
     "name": "stdout",
     "output_type": "stream",
     "text": [
      "time: 2.18 ms\n"
     ]
    }
   ],
   "source": [
    "for n in G.nodes():\n",
    "#     print n\n",
    "    graph[\"nodes\"].append( {\"name\": n, \"group\": int(random.uniform(1,11))} )\n",
    "#     G.add_edge(r[1][0], r[1][1], weight = r[1][2])"
   ]
  },
  {
   "cell_type": "code",
   "execution_count": null,
   "metadata": {
    "collapsed": true
   },
   "outputs": [],
   "source": []
  },
  {
   "cell_type": "code",
   "execution_count": 123,
   "metadata": {
    "collapsed": false
   },
   "outputs": [
    {
     "data": {
      "text/plain": [
       "[{'group': 8, 'name': 'operations'},\n",
       " {'group': 8, 'name': 'otherwise'},\n",
       " {'group': 1, 'name': 'fetus'},\n",
       " {'group': 7, 'name': 'thigh'},\n",
       " {'group': 9, 'name': 'consciousness'},\n",
       " {'group': 6, 'name': 'less'},\n",
       " {'group': 1, 'name': 'caused'},\n",
       " {'group': 5, 'name': 'tubercle'},\n",
       " {'group': 7, 'name': 'blisters'},\n",
       " {'group': 7, 'name': 'sites'},\n",
       " {'group': 6, 'name': 'obstruction'},\n",
       " {'group': 1, 'name': 'underlying'},\n",
       " {'group': 7, 'name': 'motorcycle'},\n",
       " {'group': 2, 'name': 'malignant'},\n",
       " {'group': 3, 'name': 'skin'},\n",
       " {'group': 6, 'name': 'partial'},\n",
       " {'group': 8, 'name': 'subarachnoid'},\n",
       " {'group': 1, 'name': 'suicide'},\n",
       " {'group': 9, 'name': 'erythema'},\n",
       " {'group': 2, 'name': 'benign'},\n",
       " {'group': 7, 'name': 'personal'},\n",
       " {'group': 7, 'name': 'nervous'},\n",
       " {'group': 8, 'name': 'labor'},\n",
       " {'group': 4, 'name': 'better'},\n",
       " {'group': 5, 'name': 'neoplasm'},\n",
       " {'group': 9, 'name': 'present'},\n",
       " {'group': 3, 'name': 'nodes'},\n",
       " {'group': 8, 'name': 'histological'},\n",
       " {'group': 8, 'name': 'postpartum'},\n",
       " {'group': 8, 'name': 'activities'},\n",
       " {'group': 9, 'name': 'intractable'},\n",
       " {'group': 6, 'name': 'return'},\n",
       " {'group': 1, 'name': 'fracture'},\n",
       " {'group': 9, 'name': 'remission'},\n",
       " {'group': 8, 'name': 'loss'},\n",
       " {'group': 8, 'name': 'gestation'},\n",
       " {'group': 6, 'name': 'mention'},\n",
       " {'group': 9, 'name': 'injuring'},\n",
       " {'group': 2, 'name': 'effects'},\n",
       " {'group': 6, 'name': 'tuberculosis'},\n",
       " {'group': 10, 'name': 'fall'},\n",
       " {'group': 7, 'name': 'foot'},\n",
       " {'group': 9, 'name': 'lymphoma'},\n",
       " {'group': 1, 'name': 'cord'},\n",
       " {'group': 7, 'name': 'condition'},\n",
       " {'group': 4, 'name': 'shoulder'},\n",
       " {'group': 8, 'name': 'acute'},\n",
       " {'group': 7, 'name': 'anomalies'},\n",
       " {'group': 9, 'name': 'moderate'},\n",
       " {'group': 2, 'name': 'hour'},\n",
       " {'group': 4, 'name': 'prophylactic'},\n",
       " {'group': 7, 'name': 'level'},\n",
       " {'group': 6, 'name': 'classified'},\n",
       " {'group': 6, 'name': 'accidentally'},\n",
       " {'group': 10, 'name': 'microscopy'},\n",
       " {'group': 10, 'name': 'heart'},\n",
       " {'group': 6, 'name': 'malnutrition'},\n",
       " {'group': 1, 'name': 'found'},\n",
       " {'group': 4, 'name': 'disorder'},\n",
       " {'group': 4, 'name': 'vision'},\n",
       " {'group': 4, 'name': 'therapeutic'},\n",
       " {'group': 4, 'name': 'upper'},\n",
       " {'group': 8, 'name': 'methods'},\n",
       " {'group': 3, 'name': 'due'},\n",
       " {'group': 7, 'name': 'abnormal'},\n",
       " {'group': 8, 'name': 'limb'},\n",
       " {'group': 7, 'name': 'prolonged'},\n",
       " {'group': 8, 'name': 'culture'},\n",
       " {'group': 8, 'name': 'second'},\n",
       " {'group': 2, 'name': 'surface'},\n",
       " {'group': 8, 'name': 'specified'},\n",
       " {'group': 4, 'name': 'bacterial'},\n",
       " {'group': 9, 'name': 'arm'},\n",
       " {'group': 4, 'name': 'transport'},\n",
       " {'group': 7, 'name': 'contusion'},\n",
       " {'group': 3, 'name': 'index'},\n",
       " {'group': 2, 'name': 'extradural'},\n",
       " {'group': 3, 'name': 'cavity'},\n",
       " {'group': 10, 'name': 'brief'},\n",
       " {'group': 1, 'name': 'cell'},\n",
       " {'group': 4, 'name': 'closed'},\n",
       " {'group': 10, 'name': 'affecting'},\n",
       " {'group': 8, 'name': 'induced'},\n",
       " {'group': 7, 'name': 'body'},\n",
       " {'group': 4, 'name': 'arthropathy'},\n",
       " {'group': 5, 'name': 'degree'},\n",
       " {'group': 5, 'name': 'leg'},\n",
       " {'group': 5, 'name': 'burn'},\n",
       " {'group': 2, 'name': 'use'},\n",
       " {'group': 5, 'name': 'migrainosus'},\n",
       " {'group': 5, 'name': 'effect'},\n",
       " {'group': 2, 'name': 'hours'},\n",
       " {'group': 8, 'name': 'lightfordates'},\n",
       " {'group': 10, 'name': 'aircraft'},\n",
       " {'group': 10, 'name': 'management'},\n",
       " {'group': 6, 'name': 'complicated'},\n",
       " {'group': 7, 'name': 'elsewhere'},\n",
       " {'group': 3, 'name': 'leukemia'},\n",
       " {'group': 8, 'name': 'childbirth'},\n",
       " {'group': 2, 'name': 'carcinoid'},\n",
       " {'group': 8, 'name': 'stage'},\n",
       " {'group': 3, 'name': 'undetermined'},\n",
       " {'group': 7, 'name': 'water'},\n",
       " {'group': 9, 'name': 'accident'},\n",
       " {'group': 10, 'name': 'central'},\n",
       " {'group': 10, 'name': 'disorders'},\n",
       " {'group': 4, 'name': 'sputum'},\n",
       " {'group': 7, 'name': 'spinal'},\n",
       " {'group': 9, 'name': 'region'},\n",
       " {'group': 7, 'name': 'foreign'},\n",
       " {'group': 9, 'name': 'tumor'},\n",
       " {'group': 5, 'name': 'base'},\n",
       " {'group': 5, 'name': 'aura'},\n",
       " {'group': 10, 'name': 'railway'},\n",
       " {'group': 1, 'name': 'first'},\n",
       " {'group': 2, 'name': 'uncontrolled'},\n",
       " {'group': 9, 'name': 'nerve'},\n",
       " {'group': 6, 'name': 'major'},\n",
       " {'group': 4, 'name': 'family'},\n",
       " {'group': 2, 'name': 'bacteriological'},\n",
       " {'group': 9, 'name': 'fullthickness'},\n",
       " {'group': 6, 'name': 'preexisting'},\n",
       " {'group': 6, 'name': 'one'},\n",
       " {'group': 10, 'name': 'newborn'},\n",
       " {'group': 3, 'name': 'chronic'},\n",
       " {'group': 6, 'name': 'done'},\n",
       " {'group': 6, 'name': 'hodgkins'},\n",
       " {'group': 4, 'name': 'motor'},\n",
       " {'group': 4, 'name': 'pregnancy'},\n",
       " {'group': 4, 'name': 'dislocation'},\n",
       " {'group': 7, 'name': 'inflicted'},\n",
       " {'group': 2, 'name': 'open'},\n",
       " {'group': 3, 'name': 'late'},\n",
       " {'group': 9, 'name': 'complication'},\n",
       " {'group': 4, 'name': 'watercraft'},\n",
       " {'group': 5, 'name': 'eye'},\n",
       " {'group': 1, 'name': 'powered'},\n",
       " {'group': 1, 'name': 'vaccination'},\n",
       " {'group': 8, 'name': 'unknown'},\n",
       " {'group': 3, 'name': 'nontraffic'},\n",
       " {'group': 9, 'name': 'stated'},\n",
       " {'group': 4, 'name': 'system'},\n",
       " {'group': 10, 'name': 'unspecified'},\n",
       " {'group': 7, 'name': 'examination'},\n",
       " {'group': 2, 'name': 'vehicle'},\n",
       " {'group': 8, 'name': 'ankle'},\n",
       " {'group': 1, 'name': 'injury'},\n",
       " {'group': 8, 'name': 'type'},\n",
       " {'group': 4, 'name': 'war'},\n",
       " {'group': 8, 'name': 'purposely'},\n",
       " {'group': 5, 'name': 'head'},\n",
       " {'group': 6, 'name': 'complete'},\n",
       " {'group': 7, 'name': 'infection'},\n",
       " {'group': 3, 'name': 'delivery'},\n",
       " {'group': 5, 'name': 'failure'},\n",
       " {'group': 7, 'name': 'part'},\n",
       " {'group': 6, 'name': 'adult'},\n",
       " {'group': 2, 'name': 'lymph'},\n",
       " {'group': 6, 'name': 'wound'},\n",
       " {'group': 2, 'name': 'weeks'},\n",
       " {'group': 6, 'name': 'puerperium'},\n",
       " {'group': 6, 'name': 'grams'},\n",
       " {'group': 3, 'name': 'epidermal'},\n",
       " {'group': 7, 'name': 'animals'},\n",
       " {'group': 3, 'name': 'skull'},\n",
       " {'group': 6, 'name': 'collision'},\n",
       " {'group': 3, 'name': 'whether'},\n",
       " {'group': 9, 'name': 'abortion'},\n",
       " {'group': 4, 'name': 'lesser'},\n",
       " {'group': 6, 'name': 'complications'},\n",
       " {'group': 5, 'name': 'following'},\n",
       " {'group': 7, 'name': 'poisoning'},\n",
       " {'group': 3, 'name': 'inoculation'},\n",
       " {'group': 5, 'name': 'history'},\n",
       " {'group': 10, 'name': 'passenger'},\n",
       " {'group': 2, 'name': 'juvenile'},\n",
       " {'group': 6, 'name': 'histologically'},\n",
       " {'group': 8, 'name': 'associated'},\n",
       " {'group': 9, 'name': 'animaldrawn'},\n",
       " {'group': 4, 'name': 'pelvic'},\n",
       " {'group': 6, 'name': 'tissues'},\n",
       " {'group': 9, 'name': 'deep'},\n",
       " {'group': 4, 'name': 'bacilli'},\n",
       " {'group': 3, 'name': 'pedestrian'},\n",
       " {'group': 10, 'name': 'bones'},\n",
       " {'group': 3, 'name': 'crew'},\n",
       " {'group': 7, 'name': 'organs'},\n",
       " {'group': 8, 'name': 'hemorrhage'},\n",
       " {'group': 10, 'name': 'kidney'},\n",
       " {'group': 3, 'name': 'diseases'},\n",
       " {'group': 7, 'name': 'confirmed'},\n",
       " {'group': 5, 'name': 'person'},\n",
       " {'group': 2, 'name': 'migraine'},\n",
       " {'group': 9, 'name': 'selfinflicted'},\n",
       " {'group': 3, 'name': 'percent'},\n",
       " {'group': 4, 'name': 'adverse'},\n",
       " {'group': 5, 'name': 'need'},\n",
       " {'group': 6, 'name': 'causing'},\n",
       " {'group': 3, 'name': 'animal'},\n",
       " {'group': 3, 'name': 'toxic'},\n",
       " {'group': 7, 'name': 'impairment'},\n",
       " {'group': 9, 'name': 'rider'},\n",
       " {'group': 1, 'name': 'tuberculous'},\n",
       " {'group': 1, 'name': 'multiple'},\n",
       " {'group': 8, 'name': 'accidental'},\n",
       " {'group': 10, 'name': 'delivered'},\n",
       " {'group': 8, 'name': 'subdural'},\n",
       " {'group': 6, 'name': 'driver'},\n",
       " {'group': 1, 'name': 'laceration'},\n",
       " {'group': 2, 'name': 'involving'},\n",
       " {'group': 9, 'name': 'genital'},\n",
       " {'group': 6, 'name': 'antepartum'},\n",
       " {'group': 2, 'name': 'diabetes'},\n",
       " {'group': 2, 'name': 'status'},\n",
       " {'group': 6, 'name': 'intracranial'},\n",
       " {'group': 6, 'name': 'lower'},\n",
       " {'group': 8, 'name': 'episode'},\n",
       " {'group': 5, 'name': 'neck'},\n",
       " {'group': 1, 'name': 'third'},\n",
       " {'group': 3, 'name': 'conscious'},\n",
       " {'group': 5, 'name': 'complicating'},\n",
       " {'group': 1, 'name': 'necrosis'},\n",
       " {'group': 2, 'name': 'disease'},\n",
       " {'group': 7, 'name': 'joint'},\n",
       " {'group': 10, 'name': 'face'},\n",
       " {'group': 6, 'name': 'cerebral'},\n",
       " {'group': 9, 'name': 'without'},\n",
       " {'group': 5, 'name': 'mass'},\n",
       " {'group': 5, 'name': 'nonspecific'},\n",
       " {'group': 7, 'name': 'mother'},\n",
       " {'group': 7, 'name': 'traffic'},\n",
       " {'group': 10, 'name': 'fetal'},\n",
       " {'group': 10, 'name': 'fractures'},\n",
       " {'group': 8, 'name': 'incomplete'},\n",
       " {'group': 3, 'name': 'occupant'}]"
      ]
     },
     "execution_count": 123,
     "metadata": {},
     "output_type": "execute_result"
    },
    {
     "name": "stdout",
     "output_type": "stream",
     "text": [
      "time: 39.9 ms\n"
     ]
    }
   ],
   "source": [
    "graph['nodes']"
   ]
  },
  {
   "cell_type": "code",
   "execution_count": 18,
   "metadata": {
    "collapsed": false,
    "scrolled": false
   },
   "outputs": [
    {
     "data": {
      "text/plain": [
       "{'links': [{'source': 0, 'target': 2, 'value': 0.5551428097420714},\n",
       "  {'source': 1, 'target': 6, 'value': 2.0938250639108222},\n",
       "  {'source': 1, 'target': 10, 'value': 2.4812071876727417},\n",
       "  {'source': 2, 'target': 17, 'value': 0.531248214206526},\n",
       "  {'source': 3, 'target': 44, 'value': 2.5074548035335464},\n",
       "  {'source': 4, 'target': 37, 'value': 2.0576596561949185},\n",
       "  {'source': 6, 'target': 5, 'value': 1.6378038207377352},\n",
       "  {'source': 7, 'target': 11, 'value': 1.1686919121570414},\n",
       "  {'source': 7, 'target': 43, 'value': 1.2871094881313112},\n",
       "  {'source': 7, 'target': 49, 'value': 1.8163894473558888},\n",
       "  {'source': 8, 'target': 43, 'value': 2.0834398678838797},\n",
       "  {'source': 9, 'target': 5, 'value': 2.0680732767551215},\n",
       "  {'source': 9, 'target': 10, 'value': 0.6266292360781172},\n",
       "  {'source': 9, 'target': 37, 'value': 2.9084114655606457},\n",
       "  {'source': 9, 'target': 39, 'value': 1.5616631051285443},\n",
       "  {'source': 9, 'target': 42, 'value': 2.446443941147529},\n",
       "  {'source': 10, 'target': 19, 'value': 1.8390284853658878},\n",
       "  {'source': 10, 'target': 40, 'value': 2.1583632074514507},\n",
       "  {'source': 10, 'target': 43, 'value': 2.5290558431220327},\n",
       "  {'source': 10, 'target': 48, 'value': 1.2914925303779599},\n",
       "  {'source': 11, 'target': 17, 'value': 2.762916266426866},\n",
       "  {'source': 12, 'target': 8, 'value': 1.3506236202017976},\n",
       "  {'source': 12, 'target': 28, 'value': 0.956352282550539},\n",
       "  {'source': 12, 'target': 33, 'value': 1.3549232753362337},\n",
       "  {'source': 14, 'target': 18, 'value': 0.9358496137985304},\n",
       "  {'source': 14, 'target': 35, 'value': 1.8399375162945948},\n",
       "  {'source': 14, 'target': 47, 'value': 2.890609509004965},\n",
       "  {'source': 15, 'target': 14, 'value': 1.7978168301627173},\n",
       "  {'source': 15, 'target': 22, 'value': 1.4588993443434148},\n",
       "  {'source': 15, 'target': 29, 'value': 2.3430098313218837},\n",
       "  {'source': 16, 'target': 30, 'value': 2.6867847108473497},\n",
       "  {'source': 16, 'target': 31, 'value': 0.7875335496592035},\n",
       "  {'source': 16, 'target': 48, 'value': 1.502701210896558},\n",
       "  {'source': 17, 'target': 21, 'value': 2.0490851473060494},\n",
       "  {'source': 17, 'target': 33, 'value': 2.310550236199891},\n",
       "  {'source': 17, 'target': 34, 'value': 2.919206910378346},\n",
       "  {'source': 17, 'target': 39, 'value': 1.2584765563329385},\n",
       "  {'source': 18, 'target': 2, 'value': 2.392931971957482},\n",
       "  {'source': 18, 'target': 13, 'value': 2.674540214090672},\n",
       "  {'source': 18, 'target': 30, 'value': 0.8745805343726877},\n",
       "  {'source': 20, 'target': 5, 'value': 1.337797981054595},\n",
       "  {'source': 20, 'target': 28, 'value': 1.2663631319274908},\n",
       "  {'source': 21, 'target': 30, 'value': 2.7677325442687706},\n",
       "  {'source': 21, 'target': 46, 'value': 0.8979145914484494},\n",
       "  {'source': 22, 'target': 20, 'value': 1.250412166642477},\n",
       "  {'source': 22, 'target': 38, 'value': 1.0579678547259386},\n",
       "  {'source': 22, 'target': 45, 'value': 1.9557200859620099},\n",
       "  {'source': 23, 'target': 3, 'value': 2.325221970710721},\n",
       "  {'source': 23, 'target': 21, 'value': 1.5989226255789866},\n",
       "  {'source': 23, 'target': 32, 'value': 1.8284714670729916},\n",
       "  {'source': 24, 'target': 16, 'value': 2.4625238658109945},\n",
       "  {'source': 24, 'target': 27, 'value': 1.6070962658144712},\n",
       "  {'source': 24, 'target': 31, 'value': 1.5529905959653258},\n",
       "  {'source': 24, 'target': 37, 'value': 2.965823844654094},\n",
       "  {'source': 25, 'target': 12, 'value': 2.8697663035529937},\n",
       "  {'source': 26, 'target': 2, 'value': 0.6102050983436453},\n",
       "  {'source': 26, 'target': 11, 'value': 2.6777603125243905},\n",
       "  {'source': 27, 'target': 18, 'value': 2.0607471524915675},\n",
       "  {'source': 28, 'target': 14, 'value': 0.637792285880457},\n",
       "  {'source': 28, 'target': 21, 'value': 2.0231689559442345},\n",
       "  {'source': 28, 'target': 24, 'value': 0.8563875508499237},\n",
       "  {'source': 29, 'target': 0, 'value': 2.4417723805767566},\n",
       "  {'source': 30, 'target': 7, 'value': 2.757276599181125},\n",
       "  {'source': 30, 'target': 29, 'value': 1.6234268083385224},\n",
       "  {'source': 30, 'target': 46, 'value': 2.6337496342872186},\n",
       "  {'source': 31, 'target': 15, 'value': 2.5664174603537027},\n",
       "  {'source': 31, 'target': 32, 'value': 2.298231689488775},\n",
       "  {'source': 32, 'target': 4, 'value': 1.653790418993341},\n",
       "  {'source': 33, 'target': 18, 'value': 1.797638214659123},\n",
       "  {'source': 33, 'target': 45, 'value': 0.682401377844216},\n",
       "  {'source': 33, 'target': 47, 'value': 1.5190895408701852},\n",
       "  {'source': 34, 'target': 16, 'value': 1.2817011629099198},\n",
       "  {'source': 34, 'target': 42, 'value': 2.9932254815875075},\n",
       "  {'source': 34, 'target': 46, 'value': 1.5835339476247852},\n",
       "  {'source': 36, 'target': 11, 'value': 1.5518039305624372},\n",
       "  {'source': 36, 'target': 34, 'value': 2.3162182068904205},\n",
       "  {'source': 37, 'target': 4, 'value': 0.6121677154953629},\n",
       "  {'source': 37, 'target': 13, 'value': 2.6037992415402633},\n",
       "  {'source': 37, 'target': 36, 'value': 1.7783579529457691},\n",
       "  {'source': 37, 'target': 40, 'value': 1.4343609967751487},\n",
       "  {'source': 37, 'target': 48, 'value': 2.142884814547311},\n",
       "  {'source': 38, 'target': 0, 'value': 2.5861054120633913},\n",
       "  {'source': 38, 'target': 3, 'value': 1.4317361963936022},\n",
       "  {'source': 38, 'target': 9, 'value': 0.6553117529476835},\n",
       "  {'source': 39, 'target': 35, 'value': 0.8761123190165974},\n",
       "  {'source': 39, 'target': 47, 'value': 2.050619778352603},\n",
       "  {'source': 40, 'target': 41, 'value': 2.4727443273553513},\n",
       "  {'source': 41, 'target': 18, 'value': 2.803954801248664},\n",
       "  {'source': 41, 'target': 37, 'value': 2.711344559108454},\n",
       "  {'source': 43, 'target': 4, 'value': 2.2832136697465963},\n",
       "  {'source': 44, 'target': 28, 'value': 2.1801465378161224},\n",
       "  {'source': 44, 'target': 36, 'value': 1.5813994395823734},\n",
       "  {'source': 45, 'target': 28, 'value': 0.7289367986888319},\n",
       "  {'source': 46, 'target': 16, 'value': 1.2716313357815854},\n",
       "  {'source': 47, 'target': 27, 'value': 0.6836653229632059},\n",
       "  {'source': 48, 'target': 7, 'value': 1.1027725798416905},\n",
       "  {'source': 48, 'target': 29, 'value': 1.9826873291150544},\n",
       "  {'source': 49, 'target': 0, 'value': 0.8626727874518759},\n",
       "  {'source': 49, 'target': 31, 'value': 2.3146852437883263},\n",
       "  {'source': 49, 'target': 33, 'value': 1.0291839305672839}],\n",
       " 'nodes': [{'group': 1, 'name': 'i0'},\n",
       "  {'group': 9, 'name': 'i1'},\n",
       "  {'group': 1, 'name': 'i2'},\n",
       "  {'group': 4, 'name': 'i3'},\n",
       "  {'group': 1, 'name': 'i4'},\n",
       "  {'group': 1, 'name': 'i5'},\n",
       "  {'group': 1, 'name': 'i6'},\n",
       "  {'group': 8, 'name': 'i7'},\n",
       "  {'group': 5, 'name': 'i8'},\n",
       "  {'group': 2, 'name': 'i9'},\n",
       "  {'group': 8, 'name': 'i10'},\n",
       "  {'group': 1, 'name': 'i11'},\n",
       "  {'group': 5, 'name': 'i12'},\n",
       "  {'group': 2, 'name': 'i13'},\n",
       "  {'group': 2, 'name': 'i14'},\n",
       "  {'group': 8, 'name': 'i15'},\n",
       "  {'group': 2, 'name': 'i16'},\n",
       "  {'group': 8, 'name': 'i17'},\n",
       "  {'group': 10, 'name': 'i18'},\n",
       "  {'group': 1, 'name': 'i19'},\n",
       "  {'group': 7, 'name': 'i20'},\n",
       "  {'group': 7, 'name': 'i21'},\n",
       "  {'group': 2, 'name': 'i22'},\n",
       "  {'group': 5, 'name': 'i23'},\n",
       "  {'group': 3, 'name': 'i24'},\n",
       "  {'group': 7, 'name': 'i25'},\n",
       "  {'group': 5, 'name': 'i26'},\n",
       "  {'group': 8, 'name': 'i27'},\n",
       "  {'group': 3, 'name': 'i28'},\n",
       "  {'group': 4, 'name': 'i29'},\n",
       "  {'group': 3, 'name': 'i30'},\n",
       "  {'group': 9, 'name': 'i31'},\n",
       "  {'group': 9, 'name': 'i32'},\n",
       "  {'group': 6, 'name': 'i33'},\n",
       "  {'group': 9, 'name': 'i34'},\n",
       "  {'group': 6, 'name': 'i35'},\n",
       "  {'group': 3, 'name': 'i36'},\n",
       "  {'group': 1, 'name': 'i37'},\n",
       "  {'group': 6, 'name': 'i38'},\n",
       "  {'group': 9, 'name': 'i39'},\n",
       "  {'group': 5, 'name': 'i40'},\n",
       "  {'group': 7, 'name': 'i41'},\n",
       "  {'group': 7, 'name': 'i42'},\n",
       "  {'group': 5, 'name': 'i43'},\n",
       "  {'group': 6, 'name': 'i44'},\n",
       "  {'group': 10, 'name': 'i45'},\n",
       "  {'group': 4, 'name': 'i46'},\n",
       "  {'group': 10, 'name': 'i47'},\n",
       "  {'group': 1, 'name': 'i48'},\n",
       "  {'group': 9, 'name': 'i49'}]}"
      ]
     },
     "execution_count": 18,
     "metadata": {},
     "output_type": "execute_result"
    }
   ],
   "source": [
    "graph"
   ]
  },
  {
   "cell_type": "code",
   "execution_count": 124,
   "metadata": {
    "collapsed": false
   },
   "outputs": [
    {
     "data": {
      "text/html": [
       "\n",
       "    \n",
       "                <div id='maindiv4838309709'></div>\n",
       "                \n",
       "                <script>\n",
       "                    \n",
       "// Based on http://bl.ocks.org/mbostock/4062045\n",
       "\n",
       "var width = 960,\n",
       "    height = 500;\n",
       "\n",
       "var color = d3.scale.category20();\n",
       "\n",
       "var force = d3.layout.force()\n",
       "    .charge(-300)\n",
       "    .linkDistance(50)\n",
       "    .size([width, height]);\n",
       "\n",
       "d3.select(\"#maindiv4838309709\").selectAll(\"svg\").remove();\n",
       "var svg = d3.select(\"#maindiv4838309709\").append(\"svg\")\n",
       "    .attr(\"width\", width)\n",
       "    .attr(\"height\", height);\n",
       "\n",
       "//d3.json(\"miserables.json\", function(error, graph) {\n",
       "//  if (error) throw error;\n",
       "var graph = {'nodes': [{'group': 8, 'name': 'operations'}, {'group': 8, 'name': 'otherwise'}, {'group': 1, 'name': 'fetus'}, {'group': 7, 'name': 'thigh'}, {'group': 9, 'name': 'consciousness'}, {'group': 6, 'name': 'less'}, {'group': 1, 'name': 'caused'}, {'group': 5, 'name': 'tubercle'}, {'group': 7, 'name': 'blisters'}, {'group': 7, 'name': 'sites'}, {'group': 6, 'name': 'obstruction'}, {'group': 1, 'name': 'underlying'}, {'group': 7, 'name': 'motorcycle'}, {'group': 2, 'name': 'malignant'}, {'group': 3, 'name': 'skin'}, {'group': 6, 'name': 'partial'}, {'group': 8, 'name': 'subarachnoid'}, {'group': 1, 'name': 'suicide'}, {'group': 9, 'name': 'erythema'}, {'group': 2, 'name': 'benign'}, {'group': 7, 'name': 'personal'}, {'group': 7, 'name': 'nervous'}, {'group': 8, 'name': 'labor'}, {'group': 4, 'name': 'better'}, {'group': 5, 'name': 'neoplasm'}, {'group': 9, 'name': 'present'}, {'group': 3, 'name': 'nodes'}, {'group': 8, 'name': 'histological'}, {'group': 8, 'name': 'postpartum'}, {'group': 8, 'name': 'activities'}, {'group': 9, 'name': 'intractable'}, {'group': 6, 'name': 'return'}, {'group': 1, 'name': 'fracture'}, {'group': 9, 'name': 'remission'}, {'group': 8, 'name': 'loss'}, {'group': 8, 'name': 'gestation'}, {'group': 6, 'name': 'mention'}, {'group': 9, 'name': 'injuring'}, {'group': 2, 'name': 'effects'}, {'group': 6, 'name': 'tuberculosis'}, {'group': 10, 'name': 'fall'}, {'group': 7, 'name': 'foot'}, {'group': 9, 'name': 'lymphoma'}, {'group': 1, 'name': 'cord'}, {'group': 7, 'name': 'condition'}, {'group': 4, 'name': 'shoulder'}, {'group': 8, 'name': 'acute'}, {'group': 7, 'name': 'anomalies'}, {'group': 9, 'name': 'moderate'}, {'group': 2, 'name': 'hour'}, {'group': 4, 'name': 'prophylactic'}, {'group': 7, 'name': 'level'}, {'group': 6, 'name': 'classified'}, {'group': 6, 'name': 'accidentally'}, {'group': 10, 'name': 'microscopy'}, {'group': 10, 'name': 'heart'}, {'group': 6, 'name': 'malnutrition'}, {'group': 1, 'name': 'found'}, {'group': 4, 'name': 'disorder'}, {'group': 4, 'name': 'vision'}, {'group': 4, 'name': 'therapeutic'}, {'group': 4, 'name': 'upper'}, {'group': 8, 'name': 'methods'}, {'group': 3, 'name': 'due'}, {'group': 7, 'name': 'abnormal'}, {'group': 8, 'name': 'limb'}, {'group': 7, 'name': 'prolonged'}, {'group': 8, 'name': 'culture'}, {'group': 8, 'name': 'second'}, {'group': 2, 'name': 'surface'}, {'group': 8, 'name': 'specified'}, {'group': 4, 'name': 'bacterial'}, {'group': 9, 'name': 'arm'}, {'group': 4, 'name': 'transport'}, {'group': 7, 'name': 'contusion'}, {'group': 3, 'name': 'index'}, {'group': 2, 'name': 'extradural'}, {'group': 3, 'name': 'cavity'}, {'group': 10, 'name': 'brief'}, {'group': 1, 'name': 'cell'}, {'group': 4, 'name': 'closed'}, {'group': 10, 'name': 'affecting'}, {'group': 8, 'name': 'induced'}, {'group': 7, 'name': 'body'}, {'group': 4, 'name': 'arthropathy'}, {'group': 5, 'name': 'degree'}, {'group': 5, 'name': 'leg'}, {'group': 5, 'name': 'burn'}, {'group': 2, 'name': 'use'}, {'group': 5, 'name': 'migrainosus'}, {'group': 5, 'name': 'effect'}, {'group': 2, 'name': 'hours'}, {'group': 8, 'name': 'lightfordates'}, {'group': 10, 'name': 'aircraft'}, {'group': 10, 'name': 'management'}, {'group': 6, 'name': 'complicated'}, {'group': 7, 'name': 'elsewhere'}, {'group': 3, 'name': 'leukemia'}, {'group': 8, 'name': 'childbirth'}, {'group': 2, 'name': 'carcinoid'}, {'group': 8, 'name': 'stage'}, {'group': 3, 'name': 'undetermined'}, {'group': 7, 'name': 'water'}, {'group': 9, 'name': 'accident'}, {'group': 10, 'name': 'central'}, {'group': 10, 'name': 'disorders'}, {'group': 4, 'name': 'sputum'}, {'group': 7, 'name': 'spinal'}, {'group': 9, 'name': 'region'}, {'group': 7, 'name': 'foreign'}, {'group': 9, 'name': 'tumor'}, {'group': 5, 'name': 'base'}, {'group': 5, 'name': 'aura'}, {'group': 10, 'name': 'railway'}, {'group': 1, 'name': 'first'}, {'group': 2, 'name': 'uncontrolled'}, {'group': 9, 'name': 'nerve'}, {'group': 6, 'name': 'major'}, {'group': 4, 'name': 'family'}, {'group': 2, 'name': 'bacteriological'}, {'group': 9, 'name': 'fullthickness'}, {'group': 6, 'name': 'preexisting'}, {'group': 6, 'name': 'one'}, {'group': 10, 'name': 'newborn'}, {'group': 3, 'name': 'chronic'}, {'group': 6, 'name': 'done'}, {'group': 6, 'name': 'hodgkins'}, {'group': 4, 'name': 'motor'}, {'group': 4, 'name': 'pregnancy'}, {'group': 4, 'name': 'dislocation'}, {'group': 7, 'name': 'inflicted'}, {'group': 2, 'name': 'open'}, {'group': 3, 'name': 'late'}, {'group': 9, 'name': 'complication'}, {'group': 4, 'name': 'watercraft'}, {'group': 5, 'name': 'eye'}, {'group': 1, 'name': 'powered'}, {'group': 1, 'name': 'vaccination'}, {'group': 8, 'name': 'unknown'}, {'group': 3, 'name': 'nontraffic'}, {'group': 9, 'name': 'stated'}, {'group': 4, 'name': 'system'}, {'group': 10, 'name': 'unspecified'}, {'group': 7, 'name': 'examination'}, {'group': 2, 'name': 'vehicle'}, {'group': 8, 'name': 'ankle'}, {'group': 1, 'name': 'injury'}, {'group': 8, 'name': 'type'}, {'group': 4, 'name': 'war'}, {'group': 8, 'name': 'purposely'}, {'group': 5, 'name': 'head'}, {'group': 6, 'name': 'complete'}, {'group': 7, 'name': 'infection'}, {'group': 3, 'name': 'delivery'}, {'group': 5, 'name': 'failure'}, {'group': 7, 'name': 'part'}, {'group': 6, 'name': 'adult'}, {'group': 2, 'name': 'lymph'}, {'group': 6, 'name': 'wound'}, {'group': 2, 'name': 'weeks'}, {'group': 6, 'name': 'puerperium'}, {'group': 6, 'name': 'grams'}, {'group': 3, 'name': 'epidermal'}, {'group': 7, 'name': 'animals'}, {'group': 3, 'name': 'skull'}, {'group': 6, 'name': 'collision'}, {'group': 3, 'name': 'whether'}, {'group': 9, 'name': 'abortion'}, {'group': 4, 'name': 'lesser'}, {'group': 6, 'name': 'complications'}, {'group': 5, 'name': 'following'}, {'group': 7, 'name': 'poisoning'}, {'group': 3, 'name': 'inoculation'}, {'group': 5, 'name': 'history'}, {'group': 10, 'name': 'passenger'}, {'group': 2, 'name': 'juvenile'}, {'group': 6, 'name': 'histologically'}, {'group': 8, 'name': 'associated'}, {'group': 9, 'name': 'animaldrawn'}, {'group': 4, 'name': 'pelvic'}, {'group': 6, 'name': 'tissues'}, {'group': 9, 'name': 'deep'}, {'group': 4, 'name': 'bacilli'}, {'group': 3, 'name': 'pedestrian'}, {'group': 10, 'name': 'bones'}, {'group': 3, 'name': 'crew'}, {'group': 7, 'name': 'organs'}, {'group': 8, 'name': 'hemorrhage'}, {'group': 10, 'name': 'kidney'}, {'group': 3, 'name': 'diseases'}, {'group': 7, 'name': 'confirmed'}, {'group': 5, 'name': 'person'}, {'group': 2, 'name': 'migraine'}, {'group': 9, 'name': 'selfinflicted'}, {'group': 3, 'name': 'percent'}, {'group': 4, 'name': 'adverse'}, {'group': 5, 'name': 'need'}, {'group': 6, 'name': 'causing'}, {'group': 3, 'name': 'animal'}, {'group': 3, 'name': 'toxic'}, {'group': 7, 'name': 'impairment'}, {'group': 9, 'name': 'rider'}, {'group': 1, 'name': 'tuberculous'}, {'group': 1, 'name': 'multiple'}, {'group': 8, 'name': 'accidental'}, {'group': 10, 'name': 'delivered'}, {'group': 8, 'name': 'subdural'}, {'group': 6, 'name': 'driver'}, {'group': 1, 'name': 'laceration'}, {'group': 2, 'name': 'involving'}, {'group': 9, 'name': 'genital'}, {'group': 6, 'name': 'antepartum'}, {'group': 2, 'name': 'diabetes'}, {'group': 2, 'name': 'status'}, {'group': 6, 'name': 'intracranial'}, {'group': 6, 'name': 'lower'}, {'group': 8, 'name': 'episode'}, {'group': 5, 'name': 'neck'}, {'group': 1, 'name': 'third'}, {'group': 3, 'name': 'conscious'}, {'group': 5, 'name': 'complicating'}, {'group': 1, 'name': 'necrosis'}, {'group': 2, 'name': 'disease'}, {'group': 7, 'name': 'joint'}, {'group': 10, 'name': 'face'}, {'group': 6, 'name': 'cerebral'}, {'group': 9, 'name': 'without'}, {'group': 5, 'name': 'mass'}, {'group': 5, 'name': 'nonspecific'}, {'group': 7, 'name': 'mother'}, {'group': 7, 'name': 'traffic'}, {'group': 10, 'name': 'fetal'}, {'group': 10, 'name': 'fractures'}, {'group': 8, 'name': 'incomplete'}, {'group': 3, 'name': 'occupant'}], 'links': [{'source': 'abnormal', 'target': 'nonspecific', 'value': 40}, {'source': 'abortion', 'target': 'complete', 'value': 36}, {'source': 'abortion', 'target': 'complicated', 'value': 63}, {'source': 'abortion', 'target': 'incomplete', 'value': 36}, {'source': 'abortion', 'target': 'induced', 'value': 36}, {'source': 'accident', 'target': 'caused', 'value': 34}, {'source': 'accident', 'target': 'collision', 'value': 96}, {'source': 'accident', 'target': 'injuring', 'value': 207}, {'source': 'accident', 'target': 'involving', 'value': 117}, {'source': 'accident', 'target': 'motor', 'value': 164}, {'source': 'accident', 'target': 'motorcycle', 'value': 42}, {'source': 'accident', 'target': 'nontraffic', 'value': 45}, {'source': 'accident', 'target': 'occupant', 'value': 61}, {'source': 'accident', 'target': 'passenger', 'value': 33}, {'source': 'accident', 'target': 'pedestrian', 'value': 31}, {'source': 'accident', 'target': 'railway', 'value': 35}, {'source': 'accident', 'target': 'specified', 'value': 36}, {'source': 'accident', 'target': 'traffic', 'value': 81}, {'source': 'accident', 'target': 'vehicle', 'value': 203}, {'source': 'accident', 'target': 'watercraft', 'value': 38}, {'source': 'accidental', 'target': 'poisoning', 'value': 101}, {'source': 'accidentally', 'target': 'inflicted', 'value': 37}, {'source': 'accidentally', 'target': 'purposely', 'value': 37}, {'source': 'accidentally', 'target': 'undetermined', 'value': 37}, {'source': 'accidentally', 'target': 'whether', 'value': 37}, {'source': 'activities', 'target': 'involving', 'value': 70}, {'source': 'acute', 'target': 'chronic', 'value': 34}, {'source': 'acute', 'target': 'mention', 'value': 36}, {'source': 'acute', 'target': 'obstruction', 'value': 40}, {'source': 'acute', 'target': 'without', 'value': 42}, {'source': 'adult', 'target': 'index', 'value': 44}, {'source': 'adult', 'target': 'mass', 'value': 43}, {'source': 'adverse', 'target': 'causing', 'value': 159}, {'source': 'adverse', 'target': 'effects', 'value': 161}, {'source': 'adverse', 'target': 'therapeutic', 'value': 159}, {'source': 'adverse', 'target': 'use', 'value': 159}, {'source': 'affecting', 'target': 'antepartum', 'value': 33}, {'source': 'affecting', 'target': 'condition', 'value': 34}, {'source': 'affecting', 'target': 'fetus', 'value': 60}, {'source': 'affecting', 'target': 'management', 'value': 34}, {'source': 'affecting', 'target': 'mother', 'value': 38}, {'source': 'affecting', 'target': 'newborn', 'value': 46}, {'source': 'aircraft', 'target': 'injuring', 'value': 43}, {'source': 'aircraft', 'target': 'powered', 'value': 36}, {'source': 'animal', 'target': 'vehicle', 'value': 36}, {'source': 'animaldrawn', 'target': 'vehicle', 'value': 36}, {'source': 'animals', 'target': 'bacilli', 'value': 55}, {'source': 'animals', 'target': 'bacteriological', 'value': 55}, {'source': 'animals', 'target': 'confirmed', 'value': 55}, {'source': 'animals', 'target': 'examination', 'value': 55}, {'source': 'animals', 'target': 'found', 'value': 55}, {'source': 'animals', 'target': 'histological', 'value': 55}, {'source': 'animals', 'target': 'inoculation', 'value': 55}, {'source': 'animals', 'target': 'methods', 'value': 55}, {'source': 'animals', 'target': 'tubercle', 'value': 55}, {'source': 'animals', 'target': 'tuberculosis', 'value': 94}, {'source': 'ankle', 'target': 'foot', 'value': 55}, {'source': 'anomalies', 'target': 'specified', 'value': 40}, {'source': 'antepartum', 'target': 'childbirth', 'value': 46}, {'source': 'antepartum', 'target': 'complicating', 'value': 57}, {'source': 'antepartum', 'target': 'complication', 'value': 220}, {'source': 'antepartum', 'target': 'condition', 'value': 434}, {'source': 'antepartum', 'target': 'delivered', 'value': 226}, {'source': 'antepartum', 'target': 'delivery', 'value': 47}, {'source': 'antepartum', 'target': 'fetal', 'value': 36}, {'source': 'antepartum', 'target': 'labor', 'value': 68}, {'source': 'antepartum', 'target': 'management', 'value': 31}, {'source': 'antepartum', 'target': 'mention', 'value': 236}, {'source': 'antepartum', 'target': 'mother', 'value': 73}, {'source': 'antepartum', 'target': 'pregnancy', 'value': 90}, {'source': 'antepartum', 'target': 'puerperium', 'value': 42}, {'source': 'antepartum', 'target': 'unspecified', 'value': 54}, {'source': 'antepartum', 'target': 'without', 'value': 237}, {'source': 'arm', 'target': 'upper', 'value': 80}, {'source': 'arthropathy', 'target': 'associated', 'value': 62}, {'source': 'associated', 'target': 'childbirth', 'value': 37}, {'source': 'associated', 'target': 'condition', 'value': 34}, {'source': 'aura', 'target': 'migraine', 'value': 40}, {'source': 'aura', 'target': 'without', 'value': 32}, {'source': 'bacilli', 'target': 'bacterial', 'value': 55}, {'source': 'bacilli', 'target': 'bacteriological', 'value': 110}, {'source': 'bacilli', 'target': 'confirmed', 'value': 110}, {'source': 'bacilli', 'target': 'culture', 'value': 55}, {'source': 'bacilli', 'target': 'examination', 'value': 110}, {'source': 'bacilli', 'target': 'found', 'value': 275}, {'source': 'bacilli', 'target': 'histological', 'value': 55}, {'source': 'bacilli', 'target': 'histologically', 'value': 55}, {'source': 'bacilli', 'target': 'inoculation', 'value': 55}, {'source': 'bacilli', 'target': 'methods', 'value': 55}, {'source': 'bacilli', 'target': 'microscopy', 'value': 110}, {'source': 'bacilli', 'target': 'sputum', 'value': 110}, {'source': 'bacilli', 'target': 'tubercle', 'value': 220}, {'source': 'bacilli', 'target': 'tuberculosis', 'value': 266}, {'source': 'bacilli', 'target': 'tuberculous', 'value': 56}, {'source': 'bacterial', 'target': 'culture', 'value': 55}, {'source': 'bacterial', 'target': 'found', 'value': 110}, {'source': 'bacterial', 'target': 'microscopy', 'value': 55}, {'source': 'bacterial', 'target': 'sputum', 'value': 55}, {'source': 'bacterial', 'target': 'tubercle', 'value': 55}, {'source': 'bacterial', 'target': 'tuberculosis', 'value': 40}, {'source': 'bacteriological', 'target': 'confirmed', 'value': 110}, {'source': 'bacteriological', 'target': 'done', 'value': 55}, {'source': 'bacteriological', 'target': 'examination', 'value': 220}, {'source': 'bacteriological', 'target': 'found', 'value': 110}, {'source': 'bacteriological', 'target': 'histological', 'value': 165}, {'source': 'bacteriological', 'target': 'histologically', 'value': 55}, {'source': 'bacteriological', 'target': 'inoculation', 'value': 55}, {'source': 'bacteriological', 'target': 'methods', 'value': 55}, {'source': 'bacteriological', 'target': 'present', 'value': 55}, {'source': 'bacteriological', 'target': 'tubercle', 'value': 110}, {'source': 'bacteriological', 'target': 'tuberculosis', 'value': 266}, {'source': 'bacteriological', 'target': 'tuberculous', 'value': 56}, {'source': 'bacteriological', 'target': 'unknown', 'value': 55}, {'source': 'base', 'target': 'fracture', 'value': 36}, {'source': 'benign', 'target': 'neoplasm', 'value': 97}, {'source': 'better', 'target': 'eye', 'value': 43}, {'source': 'better', 'target': 'impairment', 'value': 40}, {'source': 'better', 'target': 'vision', 'value': 36}, {'source': 'blisters', 'target': 'degree', 'value': 38}, {'source': 'blisters', 'target': 'epidermal', 'value': 38}, {'source': 'blisters', 'target': 'loss', 'value': 38}, {'source': 'blisters', 'target': 'second', 'value': 38}, {'source': 'body', 'target': 'burn', 'value': 93}, {'source': 'body', 'target': 'deep', 'value': 152}, {'source': 'body', 'target': 'degree', 'value': 168}, {'source': 'body', 'target': 'foreign', 'value': 75}, {'source': 'body', 'target': 'index', 'value': 47}, {'source': 'body', 'target': 'involving', 'value': 56}, {'source': 'body', 'target': 'loss', 'value': 76}, {'source': 'body', 'target': 'mention', 'value': 50}, {'source': 'body', 'target': 'necrosis', 'value': 76}, {'source': 'body', 'target': 'part', 'value': 86}, {'source': 'body', 'target': 'percent', 'value': 56}, {'source': 'body', 'target': 'surface', 'value': 58}, {'source': 'body', 'target': 'third', 'value': 122}, {'source': 'body', 'target': 'tissues', 'value': 76}, {'source': 'body', 'target': 'underlying', 'value': 76}, {'source': 'body', 'target': 'without', 'value': 65}, {'source': 'bones', 'target': 'face', 'value': 34}, {'source': 'bones', 'target': 'fractures', 'value': 32}, {'source': 'bones', 'target': 'skull', 'value': 34}, {'source': 'brief', 'target': 'consciousness', 'value': 40}, {'source': 'brief', 'target': 'hour', 'value': 38}, {'source': 'brief', 'target': 'less', 'value': 40}, {'source': 'brief', 'target': 'loss', 'value': 38}, {'source': 'brief', 'target': 'one', 'value': 36}, {'source': 'burn', 'target': 'burn', 'value': 46}, {'source': 'burn', 'target': 'degree', 'value': 226}, {'source': 'burn', 'target': 'involving', 'value': 400}, {'source': 'burn', 'target': 'percent', 'value': 91}, {'source': 'burn', 'target': 'surface', 'value': 95}, {'source': 'burn', 'target': 'third', 'value': 91}, {'source': 'carcinoid', 'target': 'tumor', 'value': 38}, {'source': 'causing', 'target': 'effects', 'value': 160}, {'source': 'causing', 'target': 'therapeutic', 'value': 160}, {'source': 'causing', 'target': 'use', 'value': 160}, {'source': 'cavity', 'target': 'injury', 'value': 82}, {'source': 'cavity', 'target': 'mention', 'value': 44}, {'source': 'cavity', 'target': 'open', 'value': 85}, {'source': 'cavity', 'target': 'without', 'value': 51}, {'source': 'cavity', 'target': 'wound', 'value': 84}, {'source': 'cell', 'target': 'lymph', 'value': 35}, {'source': 'cell', 'target': 'lymphoma', 'value': 32}, {'source': 'cell', 'target': 'nodes', 'value': 35}, {'source': 'central', 'target': 'nervous', 'value': 44}, {'source': 'central', 'target': 'system', 'value': 43}, {'source': 'cerebral', 'target': 'consciousness', 'value': 60}, {'source': 'cerebral', 'target': 'contusion', 'value': 50}, {'source': 'cerebral', 'target': 'hours', 'value': 36}, {'source': 'cerebral', 'target': 'laceration', 'value': 50}, {'source': 'cerebral', 'target': 'loss', 'value': 60}, {'source': 'cerebral', 'target': 'open', 'value': 40}, {'source': 'cerebral', 'target': 'prolonged', 'value': 48}, {'source': 'cerebral', 'target': 'skull', 'value': 40}, {'source': 'cerebral', 'target': 'without', 'value': 44}, {'source': 'childbirth', 'target': 'complicating', 'value': 55}, {'source': 'childbirth', 'target': 'complication', 'value': 71}, {'source': 'childbirth', 'target': 'condition', 'value': 69}, {'source': 'childbirth', 'target': 'delivered', 'value': 46}, {'source': 'childbirth', 'target': 'mention', 'value': 46}, {'source': 'childbirth', 'target': 'postpartum', 'value': 44}, {'source': 'childbirth', 'target': 'pregnancy', 'value': 57}, {'source': 'childbirth', 'target': 'puerperium', 'value': 56}, {'source': 'chronic', 'target': 'disease', 'value': 52}, {'source': 'chronic', 'target': 'kidney', 'value': 32}, {'source': 'chronic', 'target': 'without', 'value': 38}, {'source': 'classified', 'target': 'diseases', 'value': 63}, {'source': 'classified', 'target': 'elsewhere', 'value': 198}, {'source': 'closed', 'target': 'consciousness', 'value': 60}, {'source': 'closed', 'target': 'dislocation', 'value': 50}, {'source': 'closed', 'target': 'fracture', 'value': 180}, {'source': 'closed', 'target': 'hours', 'value': 36}, {'source': 'closed', 'target': 'level', 'value': 40}, {'source': 'closed', 'target': 'loss', 'value': 60}, {'source': 'closed', 'target': 'prolonged', 'value': 48}, {'source': 'closed', 'target': 'skull', 'value': 60}, {'source': 'closed', 'target': 'without', 'value': 36}, {'source': 'collision', 'target': 'injuring', 'value': 96}, {'source': 'collision', 'target': 'involving', 'value': 87}, {'source': 'collision', 'target': 'motor', 'value': 117}, {'source': 'collision', 'target': 'traffic', 'value': 63}, {'source': 'collision', 'target': 'vehicle', 'value': 135}, {'source': 'complete', 'target': 'complicated', 'value': 40}, {'source': 'complete', 'target': 'partial', 'value': 38}, {'source': 'complicated', 'target': 'open', 'value': 52}, {'source': 'complicated', 'target': 'wound', 'value': 52}, {'source': 'complicating', 'target': 'complication', 'value': 68}, {'source': 'complicating', 'target': 'condition', 'value': 76}, {'source': 'complicating', 'target': 'delivered', 'value': 48}, {'source': 'complicating', 'target': 'mention', 'value': 48}, {'source': 'complicating', 'target': 'postpartum', 'value': 36}, {'source': 'complicating', 'target': 'pregnancy', 'value': 75}, {'source': 'complicating', 'target': 'puerperium', 'value': 69}, {'source': 'complication', 'target': 'complications', 'value': 37}, {'source': 'complication', 'target': 'condition', 'value': 340}, {'source': 'complication', 'target': 'delivered', 'value': 119}, {'source': 'complication', 'target': 'delivery', 'value': 54}, {'source': 'complication', 'target': 'labor', 'value': 81}, {'source': 'complication', 'target': 'mention', 'value': 231}, {'source': 'complication', 'target': 'mother', 'value': 75}, {'source': 'complication', 'target': 'open', 'value': 52}, {'source': 'complication', 'target': 'postpartum', 'value': 247}, {'source': 'complication', 'target': 'pregnancy', 'value': 109}, {'source': 'complication', 'target': 'puerperium', 'value': 75}, {'source': 'complication', 'target': 'unspecified', 'value': 75}, {'source': 'complication', 'target': 'without', 'value': 123}, {'source': 'complication', 'target': 'wound', 'value': 56}, {'source': 'complications', 'target': 'condition', 'value': 35}, {'source': 'condition', 'target': 'delivered', 'value': 226}, {'source': 'condition', 'target': 'delivery', 'value': 58}, {'source': 'condition', 'target': 'fetal', 'value': 38}, {'source': 'condition', 'target': 'labor', 'value': 94}, {'source': 'condition', 'target': 'management', 'value': 31}, {'source': 'condition', 'target': 'mention', 'value': 233}, {'source': 'condition', 'target': 'mother', 'value': 92}, {'source': 'condition', 'target': 'postpartum', 'value': 127}, {'source': 'condition', 'target': 'pregnancy', 'value': 117}, {'source': 'condition', 'target': 'puerperium', 'value': 64}, {'source': 'condition', 'target': 'unspecified', 'value': 72}, {'source': 'condition', 'target': 'without', 'value': 235}, {'source': 'confirmed', 'target': 'examination', 'value': 110}, {'source': 'confirmed', 'target': 'found', 'value': 110}, {'source': 'confirmed', 'target': 'histological', 'value': 55}, {'source': 'confirmed', 'target': 'histologically', 'value': 55}, {'source': 'confirmed', 'target': 'inoculation', 'value': 55}, {'source': 'confirmed', 'target': 'methods', 'value': 55}, {'source': 'confirmed', 'target': 'tubercle', 'value': 110}, {'source': 'confirmed', 'target': 'tuberculosis', 'value': 188}, {'source': 'conscious', 'target': 'consciousness', 'value': 78}, {'source': 'conscious', 'target': 'fracture', 'value': 36}, {'source': 'conscious', 'target': 'hours', 'value': 76}, {'source': 'conscious', 'target': 'intracranial', 'value': 42}, {'source': 'conscious', 'target': 'level', 'value': 78}, {'source': 'conscious', 'target': 'loss', 'value': 78}, {'source': 'conscious', 'target': 'open', 'value': 52}, {'source': 'conscious', 'target': 'preexisting', 'value': 78}, {'source': 'conscious', 'target': 'prolonged', 'value': 78}, {'source': 'conscious', 'target': 'return', 'value': 78}, {'source': 'conscious', 'target': 'skull', 'value': 48}, {'source': 'conscious', 'target': 'without', 'value': 69}, {'source': 'consciousness', 'target': 'contusion', 'value': 68}, {'source': 'consciousness', 'target': 'extradural', 'value': 50}, {'source': 'consciousness', 'target': 'fracture', 'value': 90}, {'source': 'consciousness', 'target': 'hemorrhage', 'value': 78}, {'source': 'consciousness', 'target': 'hour', 'value': 38}, {'source': 'consciousness', 'target': 'hours', 'value': 114}, {'source': 'consciousness', 'target': 'injury', 'value': 78}, {'source': 'consciousness', 'target': 'intracranial', 'value': 105}, {'source': 'consciousness', 'target': 'laceration', 'value': 60}, {'source': 'consciousness', 'target': 'less', 'value': 47}, {'source': 'consciousness', 'target': 'level', 'value': 78}, {'source': 'consciousness', 'target': 'loss', 'value': 199}, {'source': 'consciousness', 'target': 'mention', 'value': 75}, {'source': 'consciousness', 'target': 'moderate', 'value': 153}, {'source': 'consciousness', 'target': 'one', 'value': 36}, {'source': 'consciousness', 'target': 'open', 'value': 130}, {'source': 'consciousness', 'target': 'preexisting', 'value': 78}, {'source': 'consciousness', 'target': 'prolonged', 'value': 78}, {'source': 'consciousness', 'target': 'return', 'value': 78}, {'source': 'consciousness', 'target': 'skull', 'value': 120}, {'source': 'consciousness', 'target': 'subarachnoid', 'value': 50}, {'source': 'consciousness', 'target': 'subdural', 'value': 50}, {'source': 'consciousness', 'target': 'without', 'value': 114}, {'source': 'consciousness', 'target': 'wound', 'value': 84}, {'source': 'contusion', 'target': 'hours', 'value': 36}, {'source': 'contusion', 'target': 'laceration', 'value': 40}, {'source': 'contusion', 'target': 'level', 'value': 40}, {'source': 'contusion', 'target': 'loss', 'value': 60}, {'source': 'contusion', 'target': 'open', 'value': 46}, {'source': 'contusion', 'target': 'prolonged', 'value': 48}, {'source': 'contusion', 'target': 'skull', 'value': 40}, {'source': 'cord', 'target': 'fracture', 'value': 43}, {'source': 'cord', 'target': 'injury', 'value': 34}, {'source': 'cord', 'target': 'level', 'value': 48}, {'source': 'cord', 'target': 'spinal', 'value': 60}, {'source': 'crew', 'target': 'watercraft', 'value': 34}, {'source': 'culture', 'target': 'found', 'value': 110}, {'source': 'culture', 'target': 'microscopy', 'value': 55}, {'source': 'culture', 'target': 'sputum', 'value': 55}, {'source': 'culture', 'target': 'tubercle', 'value': 55}, {'source': 'culture', 'target': 'tuberculosis', 'value': 39}, {'source': 'deep', 'target': 'deep', 'value': 76}, {'source': 'deep', 'target': 'degree', 'value': 152}, {'source': 'deep', 'target': 'loss', 'value': 152}, {'source': 'deep', 'target': 'mention', 'value': 79}, {'source': 'deep', 'target': 'necrosis', 'value': 152}, {'source': 'deep', 'target': 'part', 'value': 168}, {'source': 'deep', 'target': 'third', 'value': 152}, {'source': 'deep', 'target': 'tissues', 'value': 152}, {'source': 'deep', 'target': 'underlying', 'value': 152}, {'source': 'deep', 'target': 'without', 'value': 78}, {'source': 'degree', 'target': 'degree', 'value': 45}, {'source': 'degree', 'target': 'epidermal', 'value': 38}, {'source': 'degree', 'target': 'erythema', 'value': 38}, {'source': 'degree', 'target': 'first', 'value': 39}, {'source': 'degree', 'target': 'fullthickness', 'value': 37}, {'source': 'degree', 'target': 'involving', 'value': 135}, {'source': 'degree', 'target': 'loss', 'value': 151}, {'source': 'degree', 'target': 'mention', 'value': 38}, {'source': 'degree', 'target': 'necrosis', 'value': 76}, {'source': 'degree', 'target': 'part', 'value': 95}, {'source': 'degree', 'target': 'percent', 'value': 90}, {'source': 'degree', 'target': 'second', 'value': 40}, {'source': 'degree', 'target': 'skin', 'value': 37}, {'source': 'degree', 'target': 'specified', 'value': 32}, {'source': 'degree', 'target': 'surface', 'value': 94}, {'source': 'degree', 'target': 'third', 'value': 204}, {'source': 'degree', 'target': 'tissues', 'value': 76}, {'source': 'degree', 'target': 'underlying', 'value': 76}, {'source': 'degree', 'target': 'without', 'value': 38}, {'source': 'delivered', 'target': 'delivery', 'value': 37}, {'source': 'delivered', 'target': 'labor', 'value': 45}, {'source': 'delivered', 'target': 'mention', 'value': 348}, {'source': 'delivered', 'target': 'mother', 'value': 56}, {'source': 'delivered', 'target': 'postpartum', 'value': 116}, {'source': 'delivered', 'target': 'pregnancy', 'value': 73}, {'source': 'delivered', 'target': 'puerperium', 'value': 45}, {'source': 'delivered', 'target': 'unspecified', 'value': 37}, {'source': 'delivered', 'target': 'without', 'value': 239}, {'source': 'delivery', 'target': 'labor', 'value': 62}, {'source': 'delivery', 'target': 'mention', 'value': 39}, {'source': 'diabetes', 'target': 'type', 'value': 36}, {'source': 'disease', 'target': 'heart', 'value': 45}, {'source': 'disease', 'target': 'hodgkins', 'value': 33}, {'source': 'disease', 'target': 'kidney', 'value': 43}, {'source': 'disease', 'target': 'lymph', 'value': 42}, {'source': 'disease', 'target': 'nodes', 'value': 42}, {'source': 'disease', 'target': 'stage', 'value': 42}, {'source': 'disease', 'target': 'unspecified', 'value': 33}, {'source': 'diseases', 'target': 'elsewhere', 'value': 63}, {'source': 'diseases', 'target': 'specified', 'value': 41}, {'source': 'dislocation', 'target': 'joint', 'value': 50}, {'source': 'dislocation', 'target': 'open', 'value': 50}, {'source': 'disorder', 'target': 'episode', 'value': 35}, {'source': 'disorder', 'target': 'unspecified', 'value': 95}, {'source': 'disorders', 'target': 'specified', 'value': 68}, {'source': 'done', 'target': 'examination', 'value': 55}, {'source': 'done', 'target': 'histological', 'value': 55}, {'source': 'done', 'target': 'tuberculosis', 'value': 39}, {'source': 'driver', 'target': 'vehicle', 'value': 31}, {'source': 'due', 'target': 'infection', 'value': 32}, {'source': 'due', 'target': 'injury', 'value': 66}, {'source': 'due', 'target': 'operations', 'value': 51}, {'source': 'due', 'target': 'war', 'value': 51}, {'source': 'effect', 'target': 'late', 'value': 42}, {'source': 'effect', 'target': 'toxic', 'value': 54}, {'source': 'effects', 'target': 'late', 'value': 44}, {'source': 'effects', 'target': 'therapeutic', 'value': 160}, {'source': 'effects', 'target': 'use', 'value': 160}, {'source': 'epidermal', 'target': 'loss', 'value': 38}, {'source': 'epidermal', 'target': 'second', 'value': 38}, {'source': 'erythema', 'target': 'first', 'value': 38}, {'source': 'examination', 'target': 'found', 'value': 110}, {'source': 'examination', 'target': 'histological', 'value': 165}, {'source': 'examination', 'target': 'histologically', 'value': 55}, {'source': 'examination', 'target': 'inoculation', 'value': 55}, {'source': 'examination', 'target': 'methods', 'value': 55}, {'source': 'examination', 'target': 'present', 'value': 55}, {'source': 'examination', 'target': 'specified', 'value': 34}, {'source': 'examination', 'target': 'tubercle', 'value': 110}, {'source': 'examination', 'target': 'tuberculosis', 'value': 267}, {'source': 'examination', 'target': 'tuberculous', 'value': 56}, {'source': 'examination', 'target': 'unknown', 'value': 55}, {'source': 'extradural', 'target': 'hemorrhage', 'value': 51}, {'source': 'extradural', 'target': 'loss', 'value': 50}, {'source': 'extradural', 'target': 'prolonged', 'value': 40}, {'source': 'extradural', 'target': 'skull', 'value': 40}, {'source': 'extradural', 'target': 'subarachnoid', 'value': 40}, {'source': 'extradural', 'target': 'subdural', 'value': 40}, {'source': 'eye', 'target': 'eye', 'value': 38}, {'source': 'eye', 'target': 'impairment', 'value': 112}, {'source': 'eye', 'target': 'lesser', 'value': 42}, {'source': 'eye', 'target': 'one', 'value': 33}, {'source': 'eye', 'target': 'specified', 'value': 33}, {'source': 'eye', 'target': 'vision', 'value': 130}, {'source': 'face', 'target': 'head', 'value': 39}, {'source': 'face', 'target': 'loss', 'value': 38}, {'source': 'face', 'target': 'neck', 'value': 52}, {'source': 'face', 'target': 'skull', 'value': 35}, {'source': 'failure', 'target': 'heart', 'value': 33}, {'source': 'fall', 'target': 'injuring', 'value': 31}, {'source': 'family', 'target': 'history', 'value': 48}, {'source': 'fetal', 'target': 'grams', 'value': 48}, {'source': 'fetal', 'target': 'lightfordates', 'value': 31}, {'source': 'fetal', 'target': 'malnutrition', 'value': 48}, {'source': 'fetal', 'target': 'mention', 'value': 37}, {'source': 'fetal', 'target': 'without', 'value': 36}, {'source': 'fetus', 'target': 'newborn', 'value': 63}, {'source': 'following', 'target': 'hemorrhage', 'value': 31}, {'source': 'following', 'target': 'injury', 'value': 32}, {'source': 'following', 'target': 'wound', 'value': 31}, {'source': 'found', 'target': 'found', 'value': 55}, {'source': 'found', 'target': 'histological', 'value': 55}, {'source': 'found', 'target': 'histologically', 'value': 55}, {'source': 'found', 'target': 'inoculation', 'value': 55}, {'source': 'found', 'target': 'methods', 'value': 55}, {'source': 'found', 'target': 'microscopy', 'value': 165}, {'source': 'found', 'target': 'specified', 'value': 35}, {'source': 'found', 'target': 'sputum', 'value': 165}, {'source': 'found', 'target': 'tubercle', 'value': 275}, {'source': 'found', 'target': 'tuberculosis', 'value': 305}, {'source': 'found', 'target': 'tuberculous', 'value': 70}, {'source': 'fracture', 'target': 'hours', 'value': 54}, {'source': 'fracture', 'target': 'injury', 'value': 51}, {'source': 'fracture', 'target': 'level', 'value': 68}, {'source': 'fracture', 'target': 'loss', 'value': 90}, {'source': 'fracture', 'target': 'mention', 'value': 38}, {'source': 'fracture', 'target': 'moderate', 'value': 36}, {'source': 'fracture', 'target': 'open', 'value': 179}, {'source': 'fracture', 'target': 'preexisting', 'value': 36}, {'source': 'fracture', 'target': 'prolonged', 'value': 72}, {'source': 'fracture', 'target': 'return', 'value': 36}, {'source': 'fracture', 'target': 'skull', 'value': 92}, {'source': 'fracture', 'target': 'without', 'value': 56}, {'source': 'fractures', 'target': 'involving', 'value': 34}, {'source': 'fullthickness', 'target': 'loss', 'value': 39}, {'source': 'fullthickness', 'target': 'skin', 'value': 39}, {'source': 'fullthickness', 'target': 'third', 'value': 39}, {'source': 'genital', 'target': 'organs', 'value': 36}, {'source': 'gestation', 'target': 'weeks', 'value': 45}, {'source': 'grams', 'target': 'lightfordates', 'value': 32}, {'source': 'grams', 'target': 'malnutrition', 'value': 55}, {'source': 'head', 'target': 'neck', 'value': 49}, {'source': 'hemorrhage', 'target': 'hours', 'value': 42}, {'source': 'hemorrhage', 'target': 'intracranial', 'value': 31}, {'source': 'hemorrhage', 'target': 'level', 'value': 44}, {'source': 'hemorrhage', 'target': 'loss', 'value': 70}, {'source': 'hemorrhage', 'target': 'mention', 'value': 66}, {'source': 'hemorrhage', 'target': 'open', 'value': 50}, {'source': 'hemorrhage', 'target': 'prolonged', 'value': 56}, {'source': 'hemorrhage', 'target': 'skull', 'value': 40}, {'source': 'hemorrhage', 'target': 'subarachnoid', 'value': 52}, {'source': 'hemorrhage', 'target': 'subdural', 'value': 52}, {'source': 'hemorrhage', 'target': 'without', 'value': 81}, {'source': 'histological', 'target': 'inoculation', 'value': 55}, {'source': 'histological', 'target': 'methods', 'value': 55}, {'source': 'histological', 'target': 'present', 'value': 55}, {'source': 'histological', 'target': 'tubercle', 'value': 55}, {'source': 'histological', 'target': 'tuberculosis', 'value': 172}, {'source': 'histological', 'target': 'tuberculous', 'value': 42}, {'source': 'histological', 'target': 'unknown', 'value': 55}, {'source': 'histologically', 'target': 'tubercle', 'value': 55}, {'source': 'histologically', 'target': 'tuberculosis', 'value': 94}, {'source': 'history', 'target': 'malignant', 'value': 47}, {'source': 'history', 'target': 'neoplasm', 'value': 46}, {'source': 'history', 'target': 'personal', 'value': 135}, {'source': 'hodgkins', 'target': 'lymph', 'value': 49}, {'source': 'hodgkins', 'target': 'nodes', 'value': 49}, {'source': 'hour', 'target': 'less', 'value': 38}, {'source': 'hour', 'target': 'loss', 'value': 38}, {'source': 'hour', 'target': 'one', 'value': 36}, {'source': 'hours', 'target': 'injury', 'value': 42}, {'source': 'hours', 'target': 'intracranial', 'value': 63}, {'source': 'hours', 'target': 'laceration', 'value': 36}, {'source': 'hours', 'target': 'level', 'value': 76}, {'source': 'hours', 'target': 'loss', 'value': 114}, {'source': 'hours', 'target': 'mention', 'value': 45}, {'source': 'hours', 'target': 'moderate', 'value': 38}, {'source': 'hours', 'target': 'open', 'value': 78}, {'source': 'hours', 'target': 'preexisting', 'value': 76}, {'source': 'hours', 'target': 'prolonged', 'value': 76}, {'source': 'hours', 'target': 'return', 'value': 76}, {'source': 'hours', 'target': 'skull', 'value': 72}, {'source': 'hours', 'target': 'without', 'value': 83}, {'source': 'hours', 'target': 'wound', 'value': 42}, {'source': 'impairment', 'target': 'lesser', 'value': 38}, {'source': 'impairment', 'target': 'vision', 'value': 97}, {'source': 'index', 'target': 'mass', 'value': 47}, {'source': 'infection', 'target': 'mention', 'value': 45}, {'source': 'infection', 'target': 'without', 'value': 49}, {'source': 'inflicted', 'target': 'purposely', 'value': 40}, {'source': 'inflicted', 'target': 'undetermined', 'value': 39}, {'source': 'inflicted', 'target': 'whether', 'value': 39}, {'source': 'injuring', 'target': 'involving', 'value': 117}, {'source': 'injuring', 'target': 'motor', 'value': 163}, {'source': 'injuring', 'target': 'motorcycle', 'value': 42}, {'source': 'injuring', 'target': 'nontraffic', 'value': 45}, {'source': 'injuring', 'target': 'occupant', 'value': 78}, {'source': 'injuring', 'target': 'passenger', 'value': 34}, {'source': 'injuring', 'target': 'pedestrian', 'value': 33}, {'source': 'injuring', 'target': 'person', 'value': 35}, {'source': 'injuring', 'target': 'railway', 'value': 42}, {'source': 'injuring', 'target': 'specified', 'value': 45}, {'source': 'injuring', 'target': 'traffic', 'value': 81}, {'source': 'injuring', 'target': 'transport', 'value': 51}, {'source': 'injuring', 'target': 'vehicle', 'value': 205}, {'source': 'injuring', 'target': 'water', 'value': 38}, {'source': 'injuring', 'target': 'watercraft', 'value': 40}, {'source': 'injury', 'target': 'intracranial', 'value': 66}, {'source': 'injury', 'target': 'level', 'value': 56}, {'source': 'injury', 'target': 'loss', 'value': 70}, {'source': 'injury', 'target': 'mention', 'value': 107}, {'source': 'injury', 'target': 'nerve', 'value': 33}, {'source': 'injury', 'target': 'open', 'value': 147}, {'source': 'injury', 'target': 'operations', 'value': 46}, {'source': 'injury', 'target': 'prolonged', 'value': 56}, {'source': 'injury', 'target': 'skull', 'value': 41}, {'source': 'injury', 'target': 'specified', 'value': 37}, {'source': 'injury', 'target': 'spinal', 'value': 46}, {'source': 'injury', 'target': 'war', 'value': 46}, {'source': 'injury', 'target': 'without', 'value': 138}, {'source': 'injury', 'target': 'wound', 'value': 118}, {'source': 'inoculation', 'target': 'methods', 'value': 55}, {'source': 'inoculation', 'target': 'need', 'value': 33}, {'source': 'inoculation', 'target': 'prophylactic', 'value': 33}, {'source': 'inoculation', 'target': 'tubercle', 'value': 55}, {'source': 'inoculation', 'target': 'tuberculosis', 'value': 95}, {'source': 'inoculation', 'target': 'vaccination', 'value': 33}, {'source': 'intracranial', 'target': 'level', 'value': 42}, {'source': 'intracranial', 'target': 'loss', 'value': 105}, {'source': 'intracranial', 'target': 'mention', 'value': 71}, {'source': 'intracranial', 'target': 'moderate', 'value': 42}, {'source': 'intracranial', 'target': 'open', 'value': 90}, {'source': 'intracranial', 'target': 'preexisting', 'value': 42}, {'source': 'intracranial', 'target': 'prolonged', 'value': 84}, {'source': 'intracranial', 'target': 'return', 'value': 42}, {'source': 'intracranial', 'target': 'skull', 'value': 36}, {'source': 'intracranial', 'target': 'without', 'value': 92}, {'source': 'intracranial', 'target': 'wound', 'value': 70}, {'source': 'intractable', 'target': 'mention', 'value': 43}, {'source': 'intractable', 'target': 'migraine', 'value': 72}, {'source': 'intractable', 'target': 'migrainosus', 'value': 36}, {'source': 'intractable', 'target': 'status', 'value': 36}, {'source': 'intractable', 'target': 'without', 'value': 55}, {'source': 'involving', 'target': 'motor', 'value': 119}, {'source': 'involving', 'target': 'nontraffic', 'value': 36}, {'source': 'involving', 'target': 'percent', 'value': 55}, {'source': 'involving', 'target': 'surface', 'value': 93}, {'source': 'involving', 'target': 'third', 'value': 45}, {'source': 'involving', 'target': 'traffic', 'value': 54}, {'source': 'involving', 'target': 'vehicle', 'value': 147}, {'source': 'juvenile', 'target': 'type', 'value': 36}, {'source': 'labor', 'target': 'mention', 'value': 45}, {'source': 'labor', 'target': 'without', 'value': 34}, {'source': 'laceration', 'target': 'loss', 'value': 60}, {'source': 'laceration', 'target': 'open', 'value': 56}, {'source': 'laceration', 'target': 'prolonged', 'value': 48}, {'source': 'laceration', 'target': 'skull', 'value': 40}, {'source': 'laceration', 'target': 'without', 'value': 41}, {'source': 'laceration', 'target': 'wound', 'value': 36}, {'source': 'leg', 'target': 'lower', 'value': 56}, {'source': 'less', 'target': 'loss', 'value': 40}, {'source': 'less', 'target': 'one', 'value': 36}, {'source': 'lesser', 'target': 'vision', 'value': 36}, {'source': 'leukemia', 'target': 'remission', 'value': 36}, {'source': 'level', 'target': 'loss', 'value': 78}, {'source': 'level', 'target': 'mention', 'value': 34}, {'source': 'level', 'target': 'open', 'value': 68}, {'source': 'level', 'target': 'preexisting', 'value': 78}, {'source': 'level', 'target': 'prolonged', 'value': 648}, {'source': 'level', 'target': 'return', 'value': 78}, {'source': 'level', 'target': 'skull', 'value': 48}, {'source': 'level', 'target': 'without', 'value': 73}, {'source': 'level', 'target': 'wound', 'value': 56}, {'source': 'lightfordates', 'target': 'malnutrition', 'value': 47}, {'source': 'limb', 'target': 'lower', 'value': 69}, {'source': 'limb', 'target': 'lymph', 'value': 49}, {'source': 'limb', 'target': 'nodes', 'value': 49}, {'source': 'limb', 'target': 'upper', 'value': 73}, {'source': 'loss', 'target': 'mention', 'value': 118}, {'source': 'loss', 'target': 'moderate', 'value': 39}, {'source': 'loss', 'target': 'necrosis', 'value': 77}, {'source': 'loss', 'target': 'one', 'value': 45}, {'source': 'loss', 'target': 'open', 'value': 130}, {'source': 'loss', 'target': 'part', 'value': 92}, {'source': 'loss', 'target': 'preexisting', 'value': 78}, {'source': 'loss', 'target': 'prolonged', 'value': 78}, {'source': 'loss', 'target': 'return', 'value': 78}, {'source': 'loss', 'target': 'second', 'value': 38}, {'source': 'loss', 'target': 'skin', 'value': 39}, {'source': 'loss', 'target': 'skull', 'value': 120}, {'source': 'loss', 'target': 'specified', 'value': 35}, {'source': 'loss', 'target': 'subarachnoid', 'value': 50}, {'source': 'loss', 'target': 'subdural', 'value': 50}, {'source': 'loss', 'target': 'third', 'value': 115}, {'source': 'loss', 'target': 'tissues', 'value': 76}, {'source': 'loss', 'target': 'underlying', 'value': 76}, {'source': 'loss', 'target': 'without', 'value': 168}, {'source': 'loss', 'target': 'wound', 'value': 70}, {'source': 'lymph', 'target': 'lymphoma', 'value': 56}, {'source': 'lymph', 'target': 'nodes', 'value': 191}, {'source': 'lymphoma', 'target': 'nodes', 'value': 56}, {'source': 'major', 'target': 'without', 'value': 31}, {'source': 'malignant', 'target': 'neoplasm', 'value': 324}, {'source': 'malignant', 'target': 'personal', 'value': 35}, {'source': 'malignant', 'target': 'sites', 'value': 43}, {'source': 'malignant', 'target': 'specified', 'value': 42}, {'source': 'malnutrition', 'target': 'mention', 'value': 31}, {'source': 'management', 'target': 'mother', 'value': 36}, {'source': 'mention', 'target': 'migraine', 'value': 72}, {'source': 'mention', 'target': 'migrainosus', 'value': 36}, {'source': 'mention', 'target': 'moderate', 'value': 31}, {'source': 'mention', 'target': 'mother', 'value': 55}, {'source': 'mention', 'target': 'necrosis', 'value': 38}, {'source': 'mention', 'target': 'obstruction', 'value': 59}, {'source': 'mention', 'target': 'open', 'value': 169}, {'source': 'mention', 'target': 'part', 'value': 42}, {'source': 'mention', 'target': 'postpartum', 'value': 120}, {'source': 'mention', 'target': 'preexisting', 'value': 34}, {'source': 'mention', 'target': 'pregnancy', 'value': 80}, {'source': 'mention', 'target': 'prolonged', 'value': 65}, {'source': 'mention', 'target': 'puerperium', 'value': 45}, {'source': 'mention', 'target': 'skull', 'value': 41}, {'source': 'mention', 'target': 'specified', 'value': 34}, {'source': 'mention', 'target': 'status', 'value': 38}, {'source': 'mention', 'target': 'third', 'value': 38}, {'source': 'mention', 'target': 'tissues', 'value': 40}, {'source': 'mention', 'target': 'underlying', 'value': 38}, {'source': 'mention', 'target': 'unspecified', 'value': 55}, {'source': 'mention', 'target': 'without', 'value': 882}, {'source': 'mention', 'target': 'wound', 'value': 149}, {'source': 'methods', 'target': 'tubercle', 'value': 55}, {'source': 'methods', 'target': 'tuberculosis', 'value': 94}, {'source': 'microscopy', 'target': 'sputum', 'value': 110}, {'source': 'microscopy', 'target': 'tubercle', 'value': 110}, {'source': 'microscopy', 'target': 'tuberculosis', 'value': 78}, {'source': 'migraine', 'target': 'migraine', 'value': 36}, {'source': 'migraine', 'target': 'migrainosus', 'value': 72}, {'source': 'migraine', 'target': 'stated', 'value': 36}, {'source': 'migraine', 'target': 'status', 'value': 72}, {'source': 'migraine', 'target': 'without', 'value': 96}, {'source': 'migrainosus', 'target': 'status', 'value': 36}, {'source': 'migrainosus', 'target': 'without', 'value': 48}, {'source': 'moderate', 'target': 'open', 'value': 54}, {'source': 'moderate', 'target': 'skull', 'value': 48}, {'source': 'moderate', 'target': 'without', 'value': 31}, {'source': 'mother', 'target': 'postpartum', 'value': 37}, {'source': 'mother', 'target': 'without', 'value': 36}, {'source': 'motor', 'target': 'motor', 'value': 48}, {'source': 'motor', 'target': 'motorcycle', 'value': 73}, {'source': 'motor', 'target': 'nontraffic', 'value': 46}, {'source': 'motor', 'target': 'passenger', 'value': 44}, {'source': 'motor', 'target': 'traffic', 'value': 117}, {'source': 'motor', 'target': 'vehicle', 'value': 293}, {'source': 'motorcycle', 'target': 'vehicle', 'value': 79}, {'source': 'multiple', 'target': 'sites', 'value': 140}, {'source': 'multiple', 'target': 'without', 'value': 32}, {'source': 'necrosis', 'target': 'part', 'value': 84}, {'source': 'necrosis', 'target': 'third', 'value': 76}, {'source': 'necrosis', 'target': 'tissues', 'value': 76}, {'source': 'necrosis', 'target': 'underlying', 'value': 76}, {'source': 'necrosis', 'target': 'without', 'value': 40}, {'source': 'need', 'target': 'prophylactic', 'value': 36}, {'source': 'need', 'target': 'vaccination', 'value': 33}, {'source': 'neoplasm', 'target': 'personal', 'value': 34}, {'source': 'neoplasm', 'target': 'sites', 'value': 46}, {'source': 'neoplasm', 'target': 'specified', 'value': 49}, {'source': 'nervous', 'target': 'system', 'value': 65}, {'source': 'nontraffic', 'target': 'vehicle', 'value': 60}, {'source': 'obstruction', 'target': 'without', 'value': 64}, {'source': 'occupant', 'target': 'transport', 'value': 32}, {'source': 'occupant', 'target': 'vehicle', 'value': 53}, {'source': 'occupant', 'target': 'watercraft', 'value': 50}, {'source': 'open', 'target': 'preexisting', 'value': 52}, {'source': 'open', 'target': 'prolonged', 'value': 104}, {'source': 'open', 'target': 'return', 'value': 52}, {'source': 'open', 'target': 'skull', 'value': 60}, {'source': 'open', 'target': 'without', 'value': 221}, {'source': 'open', 'target': 'wound', 'value': 310}, {'source': 'operations', 'target': 'war', 'value': 46}, {'source': 'organs', 'target': 'tuberculosis', 'value': 33}, {'source': 'otherwise', 'target': 'specified', 'value': 37}, {'source': 'part', 'target': 'third', 'value': 88}, {'source': 'part', 'target': 'tissues', 'value': 84}, {'source': 'part', 'target': 'underlying', 'value': 84}, {'source': 'part', 'target': 'without', 'value': 42}, {'source': 'passenger', 'target': 'vehicle', 'value': 48}, {'source': 'pedestrian', 'target': 'vehicle', 'value': 31}, {'source': 'pelvic', 'target': 'region', 'value': 52}, {'source': 'pelvic', 'target': 'thigh', 'value': 51}, {'source': 'percent', 'target': 'surface', 'value': 56}, {'source': 'percent', 'target': 'third', 'value': 45}, {'source': 'person', 'target': 'specified', 'value': 35}, {'source': 'postpartum', 'target': 'pregnancy', 'value': 52}, {'source': 'postpartum', 'target': 'puerperium', 'value': 46}, {'source': 'preexisting', 'target': 'prolonged', 'value': 78}, {'source': 'preexisting', 'target': 'return', 'value': 78}, {'source': 'preexisting', 'target': 'skull', 'value': 48}, {'source': 'preexisting', 'target': 'without', 'value': 71}, {'source': 'pregnancy', 'target': 'puerperium', 'value': 80}, {'source': 'pregnancy', 'target': 'without', 'value': 65}, {'source': 'present', 'target': 'tuberculosis', 'value': 39}, {'source': 'present', 'target': 'unknown', 'value': 55}, {'source': 'prolonged', 'target': 'return', 'value': 78}, {'source': 'prolonged', 'target': 'skull', 'value': 96}, {'source': 'prolonged', 'target': 'subarachnoid', 'value': 40}, {'source': 'prolonged', 'target': 'subdural', 'value': 40}, {'source': 'prolonged', 'target': 'without', 'value': 104}, {'source': 'prolonged', 'target': 'wound', 'value': 56}, {'source': 'prophylactic', 'target': 'vaccination', 'value': 33}, {'source': 'purposely', 'target': 'undetermined', 'value': 39}, {'source': 'purposely', 'target': 'whether', 'value': 39}, {'source': 'region', 'target': 'shoulder', 'value': 57}, {'source': 'region', 'target': 'thigh', 'value': 51}, {'source': 'return', 'target': 'skull', 'value': 48}, {'source': 'return', 'target': 'without', 'value': 69}, {'source': 'rider', 'target': 'vehicle', 'value': 32}, {'source': 'selfinflicted', 'target': 'suicide', 'value': 38}, {'source': 'sites', 'target': 'specified', 'value': 135}, {'source': 'skin', 'target': 'specified', 'value': 48}, {'source': 'skin', 'target': 'third', 'value': 39}, {'source': 'skull', 'target': 'subarachnoid', 'value': 40}, {'source': 'skull', 'target': 'subdural', 'value': 40}, {'source': 'skull', 'target': 'without', 'value': 65}, {'source': 'specified', 'target': 'third', 'value': 32}, {'source': 'specified', 'target': 'tuberculosis', 'value': 57}, {'source': 'sputum', 'target': 'tubercle', 'value': 110}, {'source': 'sputum', 'target': 'tuberculosis', 'value': 78}, {'source': 'status', 'target': 'without', 'value': 49}, {'source': 'subarachnoid', 'target': 'subdural', 'value': 40}, {'source': 'surface', 'target': 'third', 'value': 46}, {'source': 'therapeutic', 'target': 'use', 'value': 160}, {'source': 'third', 'target': 'tissues', 'value': 76}, {'source': 'third', 'target': 'underlying', 'value': 76}, {'source': 'third', 'target': 'without', 'value': 38}, {'source': 'tissues', 'target': 'underlying', 'value': 76}, {'source': 'tissues', 'target': 'without', 'value': 40}, {'source': 'traffic', 'target': 'vehicle', 'value': 135}, {'source': 'transport', 'target': 'water', 'value': 40}, {'source': 'tubercle', 'target': 'tuberculosis', 'value': 266}, {'source': 'tubercle', 'target': 'tuberculous', 'value': 56}, {'source': 'tuberculosis', 'target': 'tuberculosis', 'value': 78}, {'source': 'tuberculosis', 'target': 'tuberculous', 'value': 34}, {'source': 'tuberculosis', 'target': 'unknown', 'value': 39}, {'source': 'type', 'target': 'uncontrolled', 'value': 36}, {'source': 'underlying', 'target': 'without', 'value': 38}, {'source': 'undetermined', 'target': 'whether', 'value': 39}, {'source': 'unspecified', 'target': 'without', 'value': 49}, {'source': 'vehicle', 'target': 'vehicle', 'value': 79}, {'source': 'without', 'target': 'without', 'value': 66}, {'source': 'without', 'target': 'wound', 'value': 186}]} ;\n",
       "\n",
       "  force\n",
       "      .nodes(graph.nodes)\n",
       "      .links(graph.links)\n",
       "      .start();\n",
       "\n",
       "  var link = svg.selectAll(\".link\")\n",
       "      .data(graph.links)\n",
       "    .enter().append(\"line\")\n",
       "      .attr(\"class\", \"link\")\n",
       "      .style(\"stroke-width\", function(d) { return Math.sqrt(d.value); });\n",
       "\n",
       "  var node = svg.selectAll(\".node\")\n",
       "      .data(graph.nodes)\n",
       "    .enter().append(\"circle\")\n",
       "      .attr(\"class\", \"node\")\n",
       "      .attr(\"r\", 8)\n",
       "      .style(\"fill\", function(d) { return color(d.group); })\n",
       "      .call(force.drag);\n",
       "\n",
       "  node.append(\"title\")\n",
       "      .text(function(d) { return d.name; });\n",
       "\n",
       "  force.on(\"tick\", function() {\n",
       "    link.attr(\"x1\", function(d) { return d.source.x; })\n",
       "        .attr(\"y1\", function(d) { return d.source.y; })\n",
       "        .attr(\"x2\", function(d) { return d.target.x; })\n",
       "        .attr(\"y2\", function(d) { return d.target.y; });\n",
       "\n",
       "    node.attr(\"cx\", function(d) { return d.x; })\n",
       "        .attr(\"cy\", function(d) { return d.y; });\n",
       "  });\n",
       "  \n",
       "//});\n",
       "\n",
       "\n",
       "                </script>\n",
       "\n",
       "                "
      ],
      "text/plain": [
       "<IPython.core.display.HTML object>"
      ]
     },
     "execution_count": 124,
     "metadata": {},
     "output_type": "execute_result"
    },
    {
     "name": "stdout",
     "output_type": "stream",
     "text": [
      "time: 6.23 ms\n"
     ]
    }
   ],
   "source": [
    "HTML(d3_lib.draw_graph('force_directed_graph',{'data': graph}))"
   ]
  },
  {
   "cell_type": "code",
   "execution_count": null,
   "metadata": {
    "collapsed": true
   },
   "outputs": [],
   "source": []
  },
  {
   "cell_type": "code",
   "execution_count": null,
   "metadata": {
    "collapsed": true
   },
   "outputs": [],
   "source": []
  },
  {
   "cell_type": "code",
   "execution_count": null,
   "metadata": {
    "collapsed": true
   },
   "outputs": [],
   "source": []
  },
  {
   "cell_type": "code",
   "execution_count": null,
   "metadata": {
    "collapsed": true
   },
   "outputs": [],
   "source": []
  },
  {
   "cell_type": "code",
   "execution_count": null,
   "metadata": {
    "collapsed": true
   },
   "outputs": [],
   "source": []
  }
 ],
 "metadata": {
  "kernelspec": {
   "display_name": "Python 2",
   "language": "python",
   "name": "python2"
  },
  "language_info": {
   "codemirror_mode": {
    "name": "ipython",
    "version": 2
   },
   "file_extension": ".py",
   "mimetype": "text/x-python",
   "name": "python",
   "nbconvert_exporter": "python",
   "pygments_lexer": "ipython2",
   "version": "2.7.12"
  }
 },
 "nbformat": 4,
 "nbformat_minor": 0
}
