{
 "cells": [
  {
   "cell_type": "code",
   "execution_count": 16,
   "metadata": {
    "collapsed": false
   },
   "outputs": [
    {
     "name": "stdout",
     "output_type": "stream",
     "text": [
      "time: 2.74 ms\n"
     ]
    }
   ],
   "source": [
    "import pandas as pd\n",
    "import pyspark\n",
    "import pyspark.sql.functions as F\n",
    "import matplotlib.pyplot as plt\n",
    "\n",
    "import os\n",
    "import re\n",
    "\n",
    "dpath = os.path.expanduser('~/Dropbox/Projects/data/')"
   ]
  },
  {
   "cell_type": "code",
   "execution_count": 2,
   "metadata": {
    "collapsed": true
   },
   "outputs": [],
   "source": [
    "%matplotlib inline"
   ]
  },
  {
   "cell_type": "code",
   "execution_count": 3,
   "metadata": {
    "collapsed": true
   },
   "outputs": [],
   "source": [
    "# %install_ext https://raw.github.com/cpcloud/ipython-autotime/master/autotime.py\n",
    "%load_ext autotime"
   ]
  },
  {
   "cell_type": "code",
   "execution_count": 4,
   "metadata": {
    "collapsed": false
   },
   "outputs": [
    {
     "data": {
      "text/html": [
       "<div>\n",
       "<table border=\"1\" class=\"dataframe\">\n",
       "  <thead>\n",
       "    <tr style=\"text-align: right;\">\n",
       "      <th></th>\n",
       "      <th>icd9</th>\n",
       "      <th>long</th>\n",
       "      <th>short</th>\n",
       "    </tr>\n",
       "  </thead>\n",
       "  <tbody>\n",
       "    <tr>\n",
       "      <th>0</th>\n",
       "      <td>0010</td>\n",
       "      <td>Cholera due to vibrio cholerae</td>\n",
       "      <td>Cholera d/t vib cholerae</td>\n",
       "    </tr>\n",
       "    <tr>\n",
       "      <th>1</th>\n",
       "      <td>0011</td>\n",
       "      <td>Cholera due to vibrio cholerae el tor</td>\n",
       "      <td>Cholera d/t vib el tor</td>\n",
       "    </tr>\n",
       "    <tr>\n",
       "      <th>2</th>\n",
       "      <td>0019</td>\n",
       "      <td>Cholera, unspecified</td>\n",
       "      <td>Cholera NOS</td>\n",
       "    </tr>\n",
       "    <tr>\n",
       "      <th>3</th>\n",
       "      <td>0020</td>\n",
       "      <td>Typhoid fever</td>\n",
       "      <td>Typhoid fever</td>\n",
       "    </tr>\n",
       "    <tr>\n",
       "      <th>4</th>\n",
       "      <td>0021</td>\n",
       "      <td>Paratyphoid fever A</td>\n",
       "      <td>Paratyphoid fever a</td>\n",
       "    </tr>\n",
       "  </tbody>\n",
       "</table>\n",
       "</div>"
      ],
      "text/plain": [
       "   icd9                                   long                     short\n",
       "0  0010         Cholera due to vibrio cholerae  Cholera d/t vib cholerae\n",
       "1  0011  Cholera due to vibrio cholerae el tor    Cholera d/t vib el tor\n",
       "2  0019                   Cholera, unspecified               Cholera NOS\n",
       "3  0020                          Typhoid fever             Typhoid fever\n",
       "4  0021                    Paratyphoid fever A       Paratyphoid fever a"
      ]
     },
     "execution_count": 4,
     "metadata": {},
     "output_type": "execute_result"
    },
    {
     "name": "stdout",
     "output_type": "stream",
     "text": [
      "time: 1.03 s\n"
     ]
    }
   ],
   "source": [
    "icd9 = pd.read_excel(dpath + 'icd9/CMS32_DESC_LONG_SHORT_DX.xlsx')\n",
    "icd9.columns = ['icd9', 'long', 'short']\n",
    "\n",
    "icd9.head()"
   ]
  },
  {
   "cell_type": "code",
   "execution_count": 5,
   "metadata": {
    "collapsed": false
   },
   "outputs": [
    {
     "name": "stdout",
     "output_type": "stream",
     "text": [
      "+-----+------------------------------------------+------------------------+\n",
      "|icd9 |long                                      |short                   |\n",
      "+-----+------------------------------------------+------------------------+\n",
      "|0010 |cholera due to vibrio cholerae            |Cholera d/t vib cholerae|\n",
      "|0011 |cholera due to vibrio cholerae el tor     |Cholera d/t vib el tor  |\n",
      "|0019 |cholera unspecified                       |Cholera NOS             |\n",
      "|0020 |typhoid fever                             |Typhoid fever           |\n",
      "|0021 |paratyphoid fever a                       |Paratyphoid fever a     |\n",
      "|0022 |paratyphoid fever b                       |Paratyphoid fever b     |\n",
      "|0023 |paratyphoid fever c                       |Paratyphoid fever c     |\n",
      "|0029 |paratyphoid fever unspecified             |Paratyphoid fever NOS   |\n",
      "|0030 |salmonella gastroenteritis                |Salmonella enteritis    |\n",
      "|0031 |salmonella septicemia                     |Salmonella septicemia   |\n",
      "|00320|localized salmonella infection unspecified|Local salmonella inf NOS|\n",
      "|00321|salmonella meningitis                     |Salmonella meningitis   |\n",
      "|00322|salmonella pneumonia                      |Salmonella pneumonia    |\n",
      "|00323|salmonella arthritis                      |Salmonella arthritis    |\n",
      "|00324|salmonella osteomyelitis                  |Salmonella osteomyelitis|\n",
      "|00329|other localized salmonella infections     |Local salmonella inf NEC|\n",
      "|0038 |other specified salmonella infections     |Salmonella infection NEC|\n",
      "|0039 |salmonella infection unspecified          |Salmonella infection NOS|\n",
      "|0040 |shigella dysenteriae                      |Shigella dysenteriae    |\n",
      "|0041 |shigella flexneri                         |Shigella flexneri       |\n",
      "+-----+------------------------------------------+------------------------+\n",
      "only showing top 20 rows\n",
      "\n",
      "time: 5.83 s\n"
     ]
    }
   ],
   "source": [
    "icd = spark.createDataFrame(icd9)\n",
    "icd = icd.withColumn('long', F.regexp_replace(F.lower(icd.long), ',', ''))\n",
    "icd.show(truncate=False)"
   ]
  },
  {
   "cell_type": "code",
   "execution_count": 6,
   "metadata": {
    "collapsed": false
   },
   "outputs": [
    {
     "name": "stdout",
     "output_type": "stream",
     "text": [
      "+-----------------------------------------------+\n",
      "|words                                          |\n",
      "+-----------------------------------------------+\n",
      "|[cholera, due, to, vibrio, cholerae]           |\n",
      "|[cholera, due, to, vibrio, cholerae, el, tor]  |\n",
      "|[cholera, unspecified]                         |\n",
      "|[typhoid, fever]                               |\n",
      "|[paratyphoid, fever, a]                        |\n",
      "|[paratyphoid, fever, b]                        |\n",
      "|[paratyphoid, fever, c]                        |\n",
      "|[paratyphoid, fever, unspecified]              |\n",
      "|[salmonella, gastroenteritis]                  |\n",
      "|[salmonella, septicemia]                       |\n",
      "|[localized, salmonella, infection, unspecified]|\n",
      "|[salmonella, meningitis]                       |\n",
      "|[salmonella, pneumonia]                        |\n",
      "|[salmonella, arthritis]                        |\n",
      "|[salmonella, osteomyelitis]                    |\n",
      "|[other, localized, salmonella, infections]     |\n",
      "|[other, specified, salmonella, infections]     |\n",
      "|[salmonella, infection, unspecified]           |\n",
      "|[shigella, dysenteriae]                        |\n",
      "|[shigella, flexneri]                           |\n",
      "+-----------------------------------------------+\n",
      "only showing top 20 rows\n",
      "\n",
      "time: 214 ms\n"
     ]
    }
   ],
   "source": [
    "from pyspark.ml.feature import Tokenizer\n",
    "\n",
    "tokenizer = Tokenizer(inputCol=\"long\", outputCol=\"words\")\n",
    "wordsData = tokenizer.transform(icd)\n",
    "wordsData.select('words').show(truncate=False)"
   ]
  },
  {
   "cell_type": "code",
   "execution_count": 7,
   "metadata": {
    "collapsed": false
   },
   "outputs": [
    {
     "name": "stdout",
     "output_type": "stream",
     "text": [
      "+-----------------------------------------------+\n",
      "|filtered                                       |\n",
      "+-----------------------------------------------+\n",
      "|[cholera, due, vibrio, cholerae]               |\n",
      "|[cholera, due, vibrio, cholerae, el, tor]      |\n",
      "|[cholera, unspecified]                         |\n",
      "|[typhoid, fever]                               |\n",
      "|[paratyphoid, fever]                           |\n",
      "|[paratyphoid, fever, b]                        |\n",
      "|[paratyphoid, fever, c]                        |\n",
      "|[paratyphoid, fever, unspecified]              |\n",
      "|[salmonella, gastroenteritis]                  |\n",
      "|[salmonella, septicemia]                       |\n",
      "|[localized, salmonella, infection, unspecified]|\n",
      "|[salmonella, meningitis]                       |\n",
      "|[salmonella, pneumonia]                        |\n",
      "|[salmonella, arthritis]                        |\n",
      "|[salmonella, osteomyelitis]                    |\n",
      "|[localized, salmonella, infections]            |\n",
      "|[specified, salmonella, infections]            |\n",
      "|[salmonella, infection, unspecified]           |\n",
      "|[shigella, dysenteriae]                        |\n",
      "|[shigella, flexneri]                           |\n",
      "+-----------------------------------------------+\n",
      "only showing top 20 rows\n",
      "\n",
      "time: 293 ms\n"
     ]
    }
   ],
   "source": [
    "from pyspark.ml.feature import StopWordsRemover\n",
    "\n",
    "remover = StopWordsRemover(inputCol=\"words\", outputCol=\"filtered\")\n",
    "filteredData = remover.transform(wordsData)\n",
    "filteredData.select('filtered').show(truncate=False)"
   ]
  },
  {
   "cell_type": "raw",
   "metadata": {
    "collapsed": false
   },
   "source": [
    "my_list = [1,2,3,4]\n",
    "for x in my_list:\n",
    "    for y in my_list:\n",
    "        print x, y\n",
    "\n",
    "import itertools\n",
    "my_list = [1,2,3,4]\n",
    "for pair in itertools.combinations(my_list, r=2):\n",
    "    print pair[0]"
   ]
  },
  {
   "cell_type": "code",
   "execution_count": 8,
   "metadata": {
    "collapsed": false,
    "scrolled": false
   },
   "outputs": [
    {
     "data": {
      "text/html": [
       "<div>\n",
       "<table border=\"1\" class=\"dataframe\">\n",
       "  <thead>\n",
       "    <tr style=\"text-align: right;\">\n",
       "      <th></th>\n",
       "      <th>n1</th>\n",
       "      <th>n2</th>\n",
       "    </tr>\n",
       "  </thead>\n",
       "  <tbody>\n",
       "    <tr>\n",
       "      <th>0</th>\n",
       "      <td>cholera</td>\n",
       "      <td>due</td>\n",
       "    </tr>\n",
       "    <tr>\n",
       "      <th>1</th>\n",
       "      <td>cholera</td>\n",
       "      <td>vibrio</td>\n",
       "    </tr>\n",
       "    <tr>\n",
       "      <th>2</th>\n",
       "      <td>cholera</td>\n",
       "      <td>cholerae</td>\n",
       "    </tr>\n",
       "    <tr>\n",
       "      <th>3</th>\n",
       "      <td>due</td>\n",
       "      <td>vibrio</td>\n",
       "    </tr>\n",
       "    <tr>\n",
       "      <th>4</th>\n",
       "      <td>cholerae</td>\n",
       "      <td>due</td>\n",
       "    </tr>\n",
       "  </tbody>\n",
       "</table>\n",
       "</div>"
      ],
      "text/plain": [
       "         n1        n2\n",
       "0   cholera       due\n",
       "1   cholera    vibrio\n",
       "2   cholera  cholerae\n",
       "3       due    vibrio\n",
       "4  cholerae       due"
      ]
     },
     "execution_count": 8,
     "metadata": {},
     "output_type": "execute_result"
    },
    {
     "name": "stdout",
     "output_type": "stream",
     "text": [
      "time: 1.09 s\n"
     ]
    }
   ],
   "source": [
    "import itertools\n",
    "rows_list = []\n",
    "# for r in filteredData.limit(5).select('filtered').rdd.map(lambda r: list(r)[0]).collect():\n",
    "for r in filteredData.select('filtered').rdd.map(lambda r: list(r)[0]).collect():\n",
    "    r = [i.encode('utf-8') for i in r]\n",
    "# permutations are for directional\n",
    "    for pair in itertools.combinations(r, r=2):\n",
    "#         print pair\n",
    "        if pair[0] > pair[1]:\n",
    "            a, b = pair[1], pair[0]\n",
    "        else:\n",
    "            a, b = pair[0], pair[1]\n",
    "        dict1 = {'n1': a, 'n2': b}\n",
    "        rows_list.append(dict1)\n",
    "\n",
    "df = pd.DataFrame(rows_list)\n",
    "df.head()"
   ]
  },
  {
   "cell_type": "code",
   "execution_count": null,
   "metadata": {
    "collapsed": false,
    "scrolled": true
   },
   "outputs": [],
   "source": [
    "dfc = df.groupby(['n1', 'n2']).size().reset_index()\n",
    "dfc.columns = ['n1', 'n2', 'c']\n",
    "dfc.head()"
   ]
  },
  {
   "cell_type": "code",
   "execution_count": 40,
   "metadata": {
    "collapsed": false
   },
   "outputs": [
    {
     "name": "stdout",
     "output_type": "stream",
     "text": [
      "time: 1.4 s\n"
     ]
    }
   ],
   "source": [
    "import networkx as nx\n",
    "G=nx.Graph()\n",
    "# G.clear()\n",
    "\n",
    "for r in dfc[dfc.c > 3].iterrows():\n",
    "#     print r[1][0], r[1][1], r[1][2]\n",
    "    G.add_edge(r[1][0], r[1][1], weight = r[1][2])"
   ]
  },
  {
   "cell_type": "code",
   "execution_count": null,
   "metadata": {
    "collapsed": false,
    "scrolled": true
   },
   "outputs": [],
   "source": [
    "# print G.nodes()\n",
    "print G.edges()"
   ]
  },
  {
   "cell_type": "code",
   "execution_count": null,
   "metadata": {
    "collapsed": false
   },
   "outputs": [],
   "source": [
    "nx.draw(G)\n",
    "# nx.draw_random(G)\n",
    "# nx.draw_circular(G)\n",
    "# nx.draw_spectral(G)\n",
    "plt.show()"
   ]
  },
  {
   "cell_type": "code",
   "execution_count": 42,
   "metadata": {
    "collapsed": false
   },
   "outputs": [
    {
     "data": {
      "image/png": "[encoded data removed]",
      "text/plain": [
       "<matplotlib.figure.Figure at 0x11fa90a10>"
      ]
     },
     "metadata": {},
     "output_type": "display_data"
    },
    {
     "name": "stdout",
     "output_type": "stream",
     "text": [
      "time: 13 s\n"
     ]
    }
   ],
   "source": [
    "from operator import itemgetter\n",
    "\n",
    "# Accessing the highest degree node\n",
    "center, degree = sorted(G.degree().items(), key=itemgetter(1), reverse=True)[0]\n",
    "\n",
    "# A special type of subgraph\n",
    "ego = nx.ego_graph(G, center)\n",
    "\n",
    "# pos = nx.spring_layout(G)\n",
    "pos=nx.fruchterman_reingold_layout(G)\n",
    "\n",
    "\n",
    "nx.draw(G, pos, node_color='#0080C9', edge_color='#cccccc', node_size=50)\n",
    "nx.draw_networkx_nodes(G, pos, nodelist=[center], node_size=100, node_color=\"r\")\n",
    "plt.show()"
   ]
  },
  {
   "cell_type": "code",
   "execution_count": 19,
   "metadata": {
    "collapsed": false
   },
   "outputs": [
    {
     "name": "stdout",
     "output_type": "stream",
     "text": [
      "time: 1.61 s\n"
     ]
    }
   ],
   "source": [
    "import plotly.plotly as py\n",
    "from plotly.graph_objs import *"
   ]
  },
  {
   "cell_type": "code",
   "execution_count": 22,
   "metadata": {
    "collapsed": false
   },
   "outputs": [
    {
     "name": "stdout",
     "output_type": "stream",
     "text": [
      "time: 2.95 ms\n"
     ]
    }
   ],
   "source": [
    "labels=list(G.nodes())\n",
    "N = len(labels)\n",
    "E=[e for e in G.edges()]# list of edges"
   ]
  },
  {
   "cell_type": "code",
   "execution_count": 33,
   "metadata": {
    "collapsed": false
   },
   "outputs": [
    {
     "data": {
      "text/plain": [
       "288"
      ]
     },
     "execution_count": 33,
     "metadata": {},
     "output_type": "execute_result"
    },
    {
     "name": "stdout",
     "output_type": "stream",
     "text": [
      "time: 1.88 ms\n"
     ]
    }
   ],
   "source": [
    "N"
   ]
  },
  {
   "cell_type": "code",
   "execution_count": 32,
   "metadata": {
    "collapsed": false
   },
   "outputs": [
    {
     "ename": "KeyError",
     "evalue": "1",
     "output_type": "error",
     "traceback": [
      "\u001b[0;31m------------------------------------------------------------------------\u001b[0m",
      "\u001b[0;31mKeyError\u001b[0m                               Traceback (most recent call last)",
      "\u001b[0;32m<ipython-input-32-58c1ff51f3d8>\u001b[0m in \u001b[0;36m<module>\u001b[0;34m()\u001b[0m\n\u001b[1;32m      1\u001b[0m \u001b[0mpos\u001b[0m\u001b[0;34m=\u001b[0m\u001b[0mnx\u001b[0m\u001b[0;34m.\u001b[0m\u001b[0mfruchterman_reingold_layout\u001b[0m\u001b[0;34m(\u001b[0m\u001b[0mG\u001b[0m\u001b[0;34m)\u001b[0m\u001b[0;34m\u001b[0m\u001b[0m\n\u001b[1;32m      2\u001b[0m \u001b[0;34m\u001b[0m\u001b[0m\n\u001b[0;32m----> 3\u001b[0;31m \u001b[0mXv\u001b[0m\u001b[0;34m=\u001b[0m\u001b[0;34m[\u001b[0m\u001b[0mpos\u001b[0m\u001b[0;34m[\u001b[0m\u001b[0mk\u001b[0m\u001b[0;34m+\u001b[0m\u001b[0;36m1\u001b[0m\u001b[0;34m]\u001b[0m\u001b[0;34m[\u001b[0m\u001b[0;36m0\u001b[0m\u001b[0;34m]\u001b[0m \u001b[0;32mfor\u001b[0m \u001b[0mk\u001b[0m \u001b[0;32min\u001b[0m \u001b[0mrange\u001b[0m\u001b[0;34m(\u001b[0m\u001b[0mN\u001b[0m\u001b[0;34m)\u001b[0m\u001b[0;34m]\u001b[0m\u001b[0;34m\u001b[0m\u001b[0m\n\u001b[0m\u001b[1;32m      4\u001b[0m \u001b[0mYv\u001b[0m\u001b[0;34m=\u001b[0m\u001b[0;34m[\u001b[0m\u001b[0mpos\u001b[0m\u001b[0;34m[\u001b[0m\u001b[0mk\u001b[0m\u001b[0;34m+\u001b[0m\u001b[0;36m1\u001b[0m\u001b[0;34m]\u001b[0m\u001b[0;34m[\u001b[0m\u001b[0;36m1\u001b[0m\u001b[0;34m]\u001b[0m \u001b[0;32mfor\u001b[0m \u001b[0mk\u001b[0m \u001b[0;32min\u001b[0m \u001b[0mrange\u001b[0m\u001b[0;34m(\u001b[0m\u001b[0mN\u001b[0m\u001b[0;34m)\u001b[0m\u001b[0;34m]\u001b[0m\u001b[0;34m\u001b[0m\u001b[0m\n\u001b[1;32m      5\u001b[0m \u001b[0mXed\u001b[0m\u001b[0;34m=\u001b[0m\u001b[0;34m[\u001b[0m\u001b[0;34m]\u001b[0m\u001b[0;34m\u001b[0m\u001b[0m\n",
      "\u001b[0;31mKeyError\u001b[0m: 1"
     ]
    },
    {
     "name": "stdout",
     "output_type": "stream",
     "text": [
      "time: 208 ms\n"
     ]
    }
   ],
   "source": [
    "pos=nx.fruchterman_reingold_layout(G)\n",
    "\n",
    "Xv=[pos[k][0] for k in range(N)]\n",
    "Yv=[pos[k][1] for k in range(N)]\n",
    "Xed=[]\n",
    "Yed=[]\n",
    "for edge in E:\n",
    "    Xed+=[pos[edge[0]][0],pos[edge[1]][0], None]\n",
    "    Yed+=[pos[edge[0]][1],pos[edge[1]][1], None] \n",
    "    \n",
    "trace3=Scatter(x=Xed,\n",
    "               y=Yed,\n",
    "               mode='lines',\n",
    "               line=Line(color='rgb(210,210,210)', width=1),\n",
    "               hoverinfo='none'\n",
    "               )\n",
    "trace4=Scatter(x=Xv,\n",
    "               y=Yv,\n",
    "               mode='markers',\n",
    "               name='net',\n",
    "               marker=Marker(symbol='dot',\n",
    "                             size=5, \n",
    "                             color='#6959CD',\n",
    "                             line=Line(color='rgb(50,50,50)', width=0.5)\n",
    "                             ),\n",
    "               text=labels,\n",
    "               hoverinfo='text'\n",
    "               )\n",
    "\n",
    "data1=Data([trace3, trace4])\n",
    "fig1=Figure(data=data1, layout=layout)\n",
    "# fig1['layout']['annotations'][0]['text']=annot\n",
    "py.iplot(fig1, filename='Coautorship-network-nx')\n"
   ]
  },
  {
   "cell_type": "code",
   "execution_count": null,
   "metadata": {
    "collapsed": true
   },
   "outputs": [],
   "source": []
  },
  {
   "cell_type": "code",
   "execution_count": null,
   "metadata": {
    "collapsed": true
   },
   "outputs": [],
   "source": []
  },
  {
   "cell_type": "code",
   "execution_count": null,
   "metadata": {
    "collapsed": true
   },
   "outputs": [],
   "source": []
  }
 ],
 "metadata": {
  "kernelspec": {
   "display_name": "Python 2",
   "language": "python",
   "name": "python2"
  },
  "language_info": {
   "codemirror_mode": {
    "name": "ipython",
    "version": 2
   },
   "file_extension": ".py",
   "mimetype": "text/x-python",
   "name": "python",
   "nbconvert_exporter": "python",
   "pygments_lexer": "ipython2",
   "version": "2.7.12"
  }
 },
 "nbformat": 4,
 "nbformat_minor": 0
}
