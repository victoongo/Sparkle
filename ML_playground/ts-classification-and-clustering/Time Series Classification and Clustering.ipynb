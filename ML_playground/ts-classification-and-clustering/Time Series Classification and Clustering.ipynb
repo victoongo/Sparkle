{
 "cells": [
  {
   "cell_type": "markdown",
   "metadata": {},
   "source": [
    "# Time Series Classification and Clustering"
   ]
  },
  {
   "cell_type": "markdown",
   "metadata": {},
   "source": [
    "### Spark re-implimentation of the Dynamic Time Warping based KNN Classification and Kmeans Clustering\n",
    "#### Original Python Version: https://github.com/alexminnaar/time-series-classification-and-clustering"
   ]
  },
  {
   "cell_type": "code",
   "execution_count": 1,
   "metadata": {
    "collapsed": false
   },
   "outputs": [],
   "source": [
    "import pandas as pd\n",
    "import numpy as np\n",
    "from numpy import *\n",
    "\n",
    "from pyspark.sql import *\n",
    "import pyspark.sql.functions as F\n",
    "\n",
    "# import matplotlib.pylab as plt"
   ]
  },
  {
   "cell_type": "code",
   "execution_count": 2,
   "metadata": {
    "collapsed": true
   },
   "outputs": [],
   "source": [
    "%load_ext autotime"
   ]
  },
  {
   "cell_type": "code",
   "execution_count": 3,
   "metadata": {
    "collapsed": false
   },
   "outputs": [
    {
     "name": "stdout",
     "output_type": "stream",
     "text": [
      "time: 1.11 ms\n"
     ]
    }
   ],
   "source": [
    "def euclid_dist(t1,t2):\n",
    "    return sqrt(sum((t1-t2)**2))"
   ]
  },
  {
   "cell_type": "code",
   "execution_count": 75,
   "metadata": {
    "collapsed": false
   },
   "outputs": [
    {
     "name": "stdout",
     "output_type": "stream",
     "text": [
      "time: 7.32 ms\n"
     ]
    }
   ],
   "source": [
    "def DTWDistance(s1, s2,w):\n",
    "    DTW={}\n",
    "    \n",
    "    w = max(w, abs(len(s1)-len(s2)))\n",
    "    \n",
    "    for i in range(-1,len(s1)):\n",
    "        for j in range(-1,len(s2)):\n",
    "            DTW[(i, j)] = float('inf')\n",
    "    DTW[(-1, -1)] = 0\n",
    "  \n",
    "    for i in range(len(s1)):\n",
    "        for j in range(max(0, i-w), min(len(s2), i+w)):\n",
    "            dist= (s1[i]-s2[j])**2\n",
    "            DTW[(i, j)] = dist + min(DTW[(i-1, j)],DTW[(i, j-1)], DTW[(i-1, j-1)])\n",
    "\n",
    "    return sqrt(DTW[len(s1)-1, len(s2)-1])"
   ]
  },
  {
   "cell_type": "code",
   "execution_count": 5,
   "metadata": {
    "collapsed": false
   },
   "outputs": [
    {
     "name": "stdout",
     "output_type": "stream",
     "text": [
      "time: 5.17 ms\n"
     ]
    }
   ],
   "source": [
    "def LB_Keogh(s1,s2,r):\n",
    "    LB_sum=0\n",
    "    for ind,i in enumerate(s1):\n",
    "        \n",
    "        lower_bound=min(s2[(ind-r if ind-r>=0 else 0):(ind+r)])\n",
    "        upper_bound=max(s2[(ind-r if ind-r>=0 else 0):(ind+r)])\n",
    "        \n",
    "        if i>upper_bound:\n",
    "            LB_sum=LB_sum+(i-upper_bound)**2\n",
    "        elif i<lower_bound:\n",
    "            LB_sum=LB_sum+(i-lower_bound)**2\n",
    "    \n",
    "    return np.sqrt(LB_sum)"
   ]
  },
  {
   "cell_type": "markdown",
   "metadata": {},
   "source": [
    "## Classification"
   ]
  },
  {
   "cell_type": "code",
   "execution_count": 6,
   "metadata": {
    "collapsed": false
   },
   "outputs": [
    {
     "name": "stdout",
     "output_type": "stream",
     "text": [
      "time: 6.47 s\n"
     ]
    }
   ],
   "source": [
    "test = spark.read.csv('datasets/test.csv', sep='\\t', inferSchema=True)\n",
    "train = spark.read.csv('datasets/train.csv', sep='\\t', inferSchema=True)\n",
    "alld = train.union(test).drop('_c60')"
   ]
  },
  {
   "cell_type": "code",
   "execution_count": 7,
   "metadata": {
    "collapsed": false
   },
   "outputs": [
    {
     "name": "stdout",
     "output_type": "stream",
     "text": [
      "time: 535 ms\n"
     ]
    }
   ],
   "source": [
    "from pyspark.ml.feature import VectorAssembler\n",
    "array_l = train.columns[0:-1]\n",
    "\n",
    "assembler = VectorAssembler(\n",
    "    inputCols=array_l,\n",
    "    outputCol=\"array\")\n",
    "output = assembler.transform(train)\n",
    "outputa = assembler.transform(alld).select('array')"
   ]
  },
  {
   "cell_type": "code",
   "execution_count": 9,
   "metadata": {
    "collapsed": false
   },
   "outputs": [
    {
     "name": "stdout",
     "output_type": "stream",
     "text": [
      "time: 23.4 ms\n"
     ]
    }
   ],
   "source": [
    "test = np.genfromtxt('datasets/test.csv', delimiter='\\t')\n",
    "t = test[0][:-1]"
   ]
  },
  {
   "cell_type": "code",
   "execution_count": 10,
   "metadata": {
    "collapsed": false,
    "scrolled": true
   },
   "outputs": [
    {
     "name": "stdout",
     "output_type": "stream",
     "text": [
      "300\n"
     ]
    },
    {
     "data": {
      "text/plain": [
       "[12.151056351417187,\n",
       " 10.453936939773451,\n",
       " 10.086784735556732,\n",
       " 10.999850734222914,\n",
       " 9.7394675912265942,\n",
       " 9.4993224425529927,\n",
       " 11.656924528681955,\n",
       " 11.182484985025257,\n",
       " 9.8733924804416926,\n",
       " 10.664275663625961]"
      ]
     },
     "execution_count": 10,
     "metadata": {},
     "output_type": "execute_result"
    },
    {
     "name": "stdout",
     "output_type": "stream",
     "text": [
      "time: 259 ms\n"
     ]
    }
   ],
   "source": [
    "tout = output.select('array').rdd.map(lambda s: euclid_dist(s, t))\n",
    "print tout.count()\n",
    "tout.take(10)"
   ]
  },
  {
   "cell_type": "code",
   "execution_count": 479,
   "metadata": {
    "collapsed": false,
    "scrolled": false
   },
   "outputs": [
    {
     "name": "stdout",
     "output_type": "stream",
     "text": [
      "300\n"
     ]
    },
    {
     "data": {
      "text/plain": [
       "[5.2911970088692994,\n",
       " 5.3557723186296249,\n",
       " 5.0190014897404325,\n",
       " 5.9517895331420334,\n",
       " 6.7503511949119162,\n",
       " 6.4298381043144257,\n",
       " 6.1803614878149675,\n",
       " 5.3019137634372209,\n",
       " 5.740246450105837,\n",
       " 5.1515622688035343]"
      ]
     },
     "execution_count": 479,
     "metadata": {},
     "output_type": "execute_result"
    },
    {
     "name": "stdout",
     "output_type": "stream",
     "text": [
      "time: 1.12 s\n"
     ]
    }
   ],
   "source": [
    "# one test against all train\n",
    "\n",
    "tout = output.select('array').rdd.map(lambda s: DTWDistance(s.array, t, 5))\n",
    "print tout.count()\n",
    "tout.take(10)"
   ]
  },
  {
   "cell_type": "code",
   "execution_count": 480,
   "metadata": {
    "collapsed": false,
    "scrolled": true
   },
   "outputs": [
    {
     "name": "stdout",
     "output_type": "stream",
     "text": [
      "300\n",
      "time: 1min 46s\n"
     ]
    }
   ],
   "source": [
    "# all test against all train, no broadcast\n",
    "\n",
    "def testdtw(train,test,w):\n",
    "    l=[]\n",
    "    for i in test:\n",
    "        min_dist=float('inf')\n",
    "        dist=DTWDistance(i[:-1],train,w)\n",
    "        l.append(dist)\n",
    "    return l\n",
    "# testBroadcast\n",
    "tout = output.select('array').repartition(8).rdd.map(lambda s: testdtw(s.array, test, 5))\n",
    "print tout.count()\n",
    "# tout.take(1)"
   ]
  },
  {
   "cell_type": "code",
   "execution_count": 7,
   "metadata": {
    "collapsed": true
   },
   "outputs": [],
   "source": [
    "testBroadcast = sc.broadcast(test)"
   ]
  },
  {
   "cell_type": "code",
   "execution_count": 226,
   "metadata": {
    "collapsed": false,
    "scrolled": true
   },
   "outputs": [
    {
     "name": "stdout",
     "output_type": "stream",
     "text": [
      "300\n",
      "time: 1min 39s\n"
     ]
    }
   ],
   "source": [
    "# all test against all train, broadcast\n",
    "\n",
    "def testdtw(train,test,w):\n",
    "    l=[]\n",
    "    for i in test:\n",
    "        min_dist=float('inf')\n",
    "        dist=DTWDistance(i[:-1],train,w)\n",
    "        l.append(dist)\n",
    "    return l\n",
    "\n",
    "tout = output.select('array').repartition(8).rdd.map(lambda s: testdtw(s.array, testBroadcast.value, 5))\n",
    "print tout.count()\n",
    "# tout.take(1)"
   ]
  },
  {
   "cell_type": "code",
   "execution_count": 287,
   "metadata": {
    "collapsed": false
   },
   "outputs": [
    {
     "name": "stdout",
     "output_type": "stream",
     "text": [
      "300\n",
      "time: 1min 31s\n"
     ]
    }
   ],
   "source": [
    "# all test against all train, select best\n",
    "# from sklearn.metrics import classification_report\n",
    "\n",
    "def knn(train,test,w):\n",
    "    preds=[]\n",
    "    dists=[]\n",
    "    for i in test:\n",
    "        min_dist=float('inf')\n",
    "        closest_seq=[]\n",
    "        j = train\n",
    "        if LB_Keogh(i[:-1],j[:-1],5)<min_dist:\n",
    "            dist=DTWDistance(i[:-1],j[:-1],w)\n",
    "            if dist<min_dist:\n",
    "                min_dist=dist\n",
    "                closest_seq=j\n",
    "        preds.append(closest_seq[-1])\n",
    "        dists.append(min_dist)\n",
    "    return preds, dists\n",
    "#     return preds, dists\n",
    "\n",
    "tout = output.select('array').repartition(8).rdd.map(lambda train: knn(train.array, testBroadcast.value, 5))\n",
    "print tout.count()\n",
    "# tout.take(2)"
   ]
  },
  {
   "cell_type": "code",
   "execution_count": null,
   "metadata": {
    "collapsed": true
   },
   "outputs": [],
   "source": [
    "# pick the val with the min_dist\n",
    "def min_dist(v, d):\n",
    "    md = float('inf')\n",
    "    mv = v[0]\n",
    "    for i in range(len(v)):\n",
    "        if d[i] < md:\n",
    "            mv = v[i]\n",
    "#         s = v[i]\n",
    "    return mv\n",
    "tout.map(lambda s: min_dist(s[0], s[1])).take(10)"
   ]
  },
  {
   "cell_type": "markdown",
   "metadata": {},
   "source": [
    "## Classification and Clustering"
   ]
  },
  {
   "cell_type": "code",
   "execution_count": 93,
   "metadata": {
    "collapsed": false,
    "scrolled": false
   },
   "outputs": [
    {
     "data": {
      "text/plain": [
       "[0, 0, 0, 3, 1]"
      ]
     },
     "execution_count": 93,
     "metadata": {},
     "output_type": "execute_result"
    },
    {
     "name": "stdout",
     "output_type": "stream",
     "text": [
      "time: 295 ms\n"
     ]
    }
   ],
   "source": [
    "# find the closest centroid\n",
    "def assign_cluster(row,target,w):\n",
    "    min_dist = float('inf')\n",
    "#     closest_seq = \n",
    "    for ind, t in enumerate(target):\n",
    "        tt = t[0]\n",
    "        if LB_Keogh(row, tt, 5) < min_dist:\n",
    "            dist = DTWDistance(row, tt, w)\n",
    "            if dist < min_dist:\n",
    "                min_dist = dist\n",
    "                closest_seq = ind\n",
    "        \n",
    "    return closest_seq\n",
    "\n",
    "def k_means_clust(data,num_clust,num_iter,w=5):\n",
    "    centroids = data.rdd.takeSample(False,num_clust, 20)\n",
    "    data = data.withColumn('assignment', F.lit(0))\n",
    "    return data.rdd.map(lambda row: assign_cluster(row.array,centroids,w))\n",
    "#     return centroids\n",
    "centroids = k_means_clust(outputa,4,10,4)\n",
    "centroids.take(5)"
   ]
  },
  {
   "cell_type": "code",
   "execution_count": 209,
   "metadata": {
    "collapsed": false,
    "scrolled": false
   },
   "outputs": [
    {
     "name": "stdout",
     "output_type": "stream",
     "text": [
      "1\n",
      "2\n",
      "3\n",
      "4\n",
      "5\n",
      "6\n",
      "7\n",
      "8\n",
      "9\n",
      "10\n"
     ]
    },
    {
     "data": {
      "text/plain": [
       "[DenseVector([1.2201, 1.1526, 1.1703, 1.0669, 1.098, 1.0569, 1.0416, 0.9862, 0.898, 0.9894, 0.91, 0.916, 0.8827, 0.8768, 0.7797, 0.7493, 0.7435, 0.7039, 0.7179, 0.7681, 0.7363, 0.4702, 0.4849, 0.4058, 0.3431, 0.2023, 0.2516, 0.2002, 0.1787, 0.1124, 0.0346, -0.075, -0.1665, -0.2304, -0.4065, -0.3782, -0.5491, -0.5627, -0.6443, -0.6365, -0.604, -0.6871, -0.7075, -0.7392, -0.8173, -0.8561, -0.889, -0.9099, -0.852, -0.8898, -0.9137, -0.9274, -0.9887, -1.0916, -1.0502, -1.0818, -1.0725, -1.1176, -1.1896, -1.1139]),\n",
       " DenseVector([-0.9327, -1.1417, -1.0052, -0.9593, -1.0831, -0.9687, -0.9774, -1.0009, -1.0369, -0.9926, -1.028, -0.935, -1.0734, -0.9192, -1.1266, -1.0083, -1.0249, -0.9998, -1.0568, -1.0423, -0.7946, -0.6769, -0.5499, -0.2253, -0.1365, 0.0565, 0.1291, 0.2323, 0.4263, 0.4854, 0.4594, 0.561, 0.7353, 0.7145, 0.6026, 0.7072, 0.7772, 0.7465, 0.5241, 0.7285, 0.6539, 0.7938, 0.7617, 0.7524, 0.7293, 0.7945, 0.7457, 0.6879, 0.7195, 0.7079, 0.6965, 0.7462, 0.6892, 0.7832, 0.7587, 0.769, 0.7599, 0.7477, 0.7826, 0.7305]),\n",
       " DenseVector([-0.0553, 0.3575, 0.5914, 0.6378, 0.52, 0.2777, 0.0239, -0.2991, -0.4567, -0.5893, -0.6056, -0.3764, -0.0277, 0.1164, 0.2996, 0.3484, 0.3052, 0.2383, 0.0937, -0.084, -0.226, -0.2499, -0.2124, -0.1465, -0.1339, -0.0491, 0.0145, 0.0772, 0.0278, 0.0493, 0.0218, -0.0113, 0.0323, 0.0137, 0.0658, 0.0251, -0.0679, -0.0571, -0.1811, -0.176, -0.1695, -0.0187, -0.0195, -0.0034, 0.0604, 0.1285, 0.1651, 0.0674, 0.0437, -0.0669, -0.0513, -0.1393, -0.1285, -0.1388, -0.0303, 0.0869, 0.0114, 0.0457, -0.0048, 0.0297]),\n",
       " DenseVector([-1.3089, -1.2843, -1.2498, -1.0712, -1.1233, -1.0284, -1.0273, -0.9794, -0.9432, -0.9037, -0.9274, -0.8726, -0.8068, -0.7903, -0.6606, -0.7446, -0.6711, -0.6107, -0.5688, -0.5171, -0.5408, -0.4433, -0.4508, -0.4081, -0.4045, -0.3131, -0.2953, -0.3347, -0.2255, -0.2222, -0.3028, -0.1297, -0.116, 0.0233, 0.1108, 0.2065, 0.3575, 0.3989, 0.573, 0.5819, 0.6393, 0.7066, 0.7667, 0.7767, 0.7144, 0.8948, 0.885, 0.881, 0.9092, 0.9982, 0.9888, 1.0279, 1.0903, 1.1473, 1.2163, 1.245, 1.2679, 1.1974, 1.3389, 1.3324])]"
      ]
     },
     "execution_count": 209,
     "metadata": {},
     "output_type": "execute_result"
    },
    {
     "name": "stdout",
     "output_type": "stream",
     "text": [
      "time: 31.7 s\n"
     ]
    }
   ],
   "source": [
    "# find the closest centroid\n",
    "# then recalculate the centroid\n",
    "from operator import add\n",
    "\n",
    "def assign_cluster(row,target,w):\n",
    "    min_dist = float('inf')\n",
    "    for ind, t in enumerate(target):\n",
    "        tt = t[0]\n",
    "        if LB_Keogh(row, tt, 5) < min_dist:\n",
    "            dist = DTWDistance(row, tt, w)\n",
    "            if dist < min_dist:\n",
    "                min_dist = dist\n",
    "                closest_seq = ind\n",
    "    \n",
    "    return closest_seq, row\n",
    "\n",
    "def assign_cluster1(row,target,w):\n",
    "    min_dist = float('inf')\n",
    "    for ind, t in enumerate(target):\n",
    "        tt = t\n",
    "        if LB_Keogh(row, tt, 5) < min_dist:\n",
    "            dist = DTWDistance(row, tt, w)\n",
    "            if dist < min_dist:\n",
    "                min_dist = dist\n",
    "                closest_seq = ind\n",
    "    \n",
    "    return closest_seq, row\n",
    "\n",
    "def recalc_centroids():\n",
    "    return \n",
    "\n",
    "def k_means_clust(data,num_clust,num_iter,w=5):\n",
    "    centroids = data.takeSample(False,num_clust, 20)\n",
    "    counter=1\n",
    "    print counter\n",
    "    \n",
    "    assignments = data.map(lambda row: assign_cluster(row.array,centroids,w))\n",
    "    s = assignments.reduceByKey(add)\n",
    "    c = assignments.countByKey()\n",
    "    centroids = s.map(lambda r: r[1] / c[r[0]]).collect()\n",
    "    \n",
    "    for n in range(num_iter-1):\n",
    "        counter+=1\n",
    "        print counter\n",
    "        assignments = data.map(lambda row: assign_cluster1(row.array,centroids,w))\n",
    "        s = assignments.reduceByKey(add)\n",
    "        c = assignments.countByKey()\n",
    "        centroids = s.map(lambda r: r[1] / c[r[0]]).collect()\n",
    "    \n",
    "    return centroids\n",
    "centroids = k_means_clust(outputa.repartition(8).rdd,4,10,4)\n",
    "centroids#.take(5)"
   ]
  },
  {
   "cell_type": "code",
   "execution_count": null,
   "metadata": {
    "collapsed": true
   },
   "outputs": [],
   "source": []
  }
 ],
 "metadata": {
  "kernelspec": {
   "display_name": "Python 2",
   "language": "python",
   "name": "python2"
  },
  "language_info": {
   "codemirror_mode": {
    "name": "ipython",
    "version": 2
   },
   "file_extension": ".py",
   "mimetype": "text/x-python",
   "name": "python",
   "nbconvert_exporter": "python",
   "pygments_lexer": "ipython2",
   "version": "2.7.12"
  }
 },
 "nbformat": 4,
 "nbformat_minor": 0
}
