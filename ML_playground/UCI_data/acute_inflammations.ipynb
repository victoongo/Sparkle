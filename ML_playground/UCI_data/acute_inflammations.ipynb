{
 "cells": [
  {
   "cell_type": "code",
   "execution_count": 11,
   "metadata": {
    "collapsed": true
   },
   "outputs": [],
   "source": [
    "import pandas as pd\n",
    "import os\n",
    "\n",
    "dpath = os.path.expanduser('~/Dropbox/Projects/data/')"
   ]
  },
  {
   "cell_type": "code",
   "execution_count": 46,
   "metadata": {
    "collapsed": false
   },
   "outputs": [
    {
     "data": {
      "text/html": [
       "<div>\n",
       "<table border=\"1\" class=\"dataframe\">\n",
       "  <thead>\n",
       "    <tr style=\"text-align: right;\">\n",
       "      <th></th>\n",
       "      <th>tmp</th>\n",
       "      <th>nausea</th>\n",
       "      <th>lumbar_pain</th>\n",
       "      <th>urine_pushing</th>\n",
       "      <th>micturition_pain</th>\n",
       "      <th>burning</th>\n",
       "      <th>inflammation</th>\n",
       "      <th>nephritis</th>\n",
       "    </tr>\n",
       "  </thead>\n",
       "  <tbody>\n",
       "    <tr>\n",
       "      <th>0</th>\n",
       "      <td>35,5</td>\n",
       "      <td>False</td>\n",
       "      <td>True</td>\n",
       "      <td>False</td>\n",
       "      <td>False</td>\n",
       "      <td>False</td>\n",
       "      <td>False</td>\n",
       "      <td>False</td>\n",
       "    </tr>\n",
       "    <tr>\n",
       "      <th>1</th>\n",
       "      <td>35,9</td>\n",
       "      <td>False</td>\n",
       "      <td>False</td>\n",
       "      <td>True</td>\n",
       "      <td>True</td>\n",
       "      <td>True</td>\n",
       "      <td>True</td>\n",
       "      <td>False</td>\n",
       "    </tr>\n",
       "    <tr>\n",
       "      <th>2</th>\n",
       "      <td>35,9</td>\n",
       "      <td>False</td>\n",
       "      <td>True</td>\n",
       "      <td>False</td>\n",
       "      <td>False</td>\n",
       "      <td>False</td>\n",
       "      <td>False</td>\n",
       "      <td>False</td>\n",
       "    </tr>\n",
       "    <tr>\n",
       "      <th>3</th>\n",
       "      <td>36,0</td>\n",
       "      <td>False</td>\n",
       "      <td>False</td>\n",
       "      <td>True</td>\n",
       "      <td>True</td>\n",
       "      <td>True</td>\n",
       "      <td>True</td>\n",
       "      <td>False</td>\n",
       "    </tr>\n",
       "    <tr>\n",
       "      <th>4</th>\n",
       "      <td>36,0</td>\n",
       "      <td>False</td>\n",
       "      <td>True</td>\n",
       "      <td>False</td>\n",
       "      <td>False</td>\n",
       "      <td>False</td>\n",
       "      <td>False</td>\n",
       "      <td>False</td>\n",
       "    </tr>\n",
       "  </tbody>\n",
       "</table>\n",
       "</div>"
      ],
      "text/plain": [
       "    tmp nausea lumbar_pain urine_pushing micturition_pain burning  \\\n",
       "0  35,5  False        True         False            False   False   \n",
       "1  35,9  False       False          True             True    True   \n",
       "2  35,9  False        True         False            False   False   \n",
       "3  36,0  False       False          True             True    True   \n",
       "4  36,0  False        True         False            False   False   \n",
       "\n",
       "  inflammation nephritis  \n",
       "0        False     False  \n",
       "1         True     False  \n",
       "2        False     False  \n",
       "3         True     False  \n",
       "4        False     False  "
      ]
     },
     "execution_count": 46,
     "metadata": {},
     "output_type": "execute_result"
    }
   ],
   "source": [
    "diag = pd.read_csv(os.path.expanduser(dpath + 'acute_inflammations/diagnosis.data'), \n",
    "                   header=None, sep='\\t', skip_blank_lines=True, \n",
    "                  true_values=['yes'], false_values=['no'])\n",
    "diag.columns = ['tmp', 'nausea', 'lumbar_pain', 'urine_pushing', 'micturition_pain', 'burning', 'inflammation', 'nephritis']\n",
    "diag.head()"
   ]
  },
  {
   "cell_type": "code",
   "execution_count": null,
   "metadata": {
    "collapsed": true
   },
   "outputs": [],
   "source": [
    "from sklearn.linear_model import LogisticRegression\n",
    "\n",
    "splits     = cv.train_test_split(iris.data, iris.target, test_size=0.2)\n",
    "X_train, X_test, y_train, y_test = splits\n",
    "\n",
    "model      = LogisticRegression()\n",
    "model.fit(X_train, y_train)\n",
    "\n",
    "expected   = y_test\n",
    "predicted  = model.predict(X_test)\n",
    "\n",
    "print classification_report(expected, predicted)"
   ]
  },
  {
   "cell_type": "raw",
   "metadata": {
    "collapsed": false
   },
   "source": [
    "diag = spark.read.options(header='true', inferSchema='true', delimiter='\\t')\\\n",
    "    .csv(os.path.expanduser(dpath + 'acute_inflammations/diagnosis.data'))\n",
    "diag.show(5)"
   ]
  },
  {
   "cell_type": "code",
   "execution_count": 25,
   "metadata": {
    "collapsed": true
   },
   "outputs": [],
   "source": [
    "import pyspark\n",
    "import pyspark.sql.functions as F\n"
   ]
  },
  {
   "cell_type": "code",
   "execution_count": 55,
   "metadata": {
    "collapsed": false,
    "scrolled": false
   },
   "outputs": [
    {
     "name": "stdout",
     "output_type": "stream",
     "text": [
      "+----+------+-----------+-------------+----------------+-------+------------+---------+\n",
      "| tmp|nausea|lumbar_pain|urine_pushing|micturition_pain|burning|inflammation|nephritis|\n",
      "+----+------+-----------+-------------+----------------+-------+------------+---------+\n",
      "|35.5|     0|          1|            0|               0|      0|           0|        0|\n",
      "|35.9|     0|          0|            1|               1|      1|           1|        0|\n",
      "+----+------+-----------+-------------+----------------+-------+------------+---------+\n",
      "only showing top 2 rows\n",
      "\n",
      "None\n",
      "root\n",
      " |-- tmp: float (nullable = true)\n",
      " |-- nausea: integer (nullable = true)\n",
      " |-- lumbar_pain: integer (nullable = true)\n",
      " |-- urine_pushing: integer (nullable = true)\n",
      " |-- micturition_pain: integer (nullable = true)\n",
      " |-- burning: integer (nullable = true)\n",
      " |-- inflammation: integer (nullable = true)\n",
      " |-- nephritis: integer (nullable = true)\n",
      "\n",
      "None\n"
     ]
    }
   ],
   "source": [
    "diags = spark.createDataFrame(diag)\n",
    "diags = diags.withColumn('tmp', F.regexp_replace(diags.tmp, ',', '.').cast('float'))\\\n",
    "    .withColumn('nausea', diags.nausea.cast('int'))\\\n",
    "    .withColumn('lumbar_pain', diags.lumbar_pain.cast('int'))\\\n",
    "    .withColumn('urine_pushing', diags.urine_pushing.cast('int'))\\\n",
    "    .withColumn('micturition_pain', diags.micturition_pain.cast('int'))\\\n",
    "    .withColumn('burning', diags.burning.cast('int'))\\\n",
    "    .withColumn('inflammation', diags.inflammation.cast('int'))\\\n",
    "    .withColumn('nephritis', diags.nephritis.cast('int'))\n",
    "\n",
    "print diags.show(2)\n",
    "print diags.printSchema()\n",
    "train, test = diags.randomSplit([0.7, 0.3])"
   ]
  },
  {
   "cell_type": "code",
   "execution_count": 59,
   "metadata": {
    "collapsed": false
   },
   "outputs": [
    {
     "name": "stdout",
     "output_type": "stream",
     "text": [
      "+----+------+-----------+-------------+----------------+-------+------------+---------+----------------------------------------+\n",
      "|tmp |nausea|lumbar_pain|urine_pushing|micturition_pain|burning|inflammation|nephritis|features                                |\n",
      "+----+------+-----------+-------------+----------------+-------+------------+---------+----------------------------------------+\n",
      "|35.5|0     |1          |0            |0               |0      |0           |0        |(6,[0,2],[35.5,1.0])                    |\n",
      "|35.9|0     |0          |1            |1               |1      |1           |0        |[35.900001525878906,0.0,0.0,1.0,1.0,1.0]|\n",
      "|35.9|0     |1          |0            |0               |0      |0           |0        |(6,[0,2],[35.900001525878906,1.0])      |\n",
      "+----+------+-----------+-------------+----------------+-------+------------+---------+----------------------------------------+\n",
      "only showing top 3 rows\n",
      "\n"
     ]
    }
   ],
   "source": [
    "from pyspark.ml.feature import VectorAssembler, StringIndexer\n",
    "\n",
    "featuresCols = diags.columns\n",
    "featuresCols.remove('inflammation')\n",
    "featuresCols.remove('nephritis')\n",
    "# featuresCols = 'lumbar_pain'\n",
    "# This concatenates all feature columns into a single feature vector in a new column \"rawFeatures\".\n",
    "# indexer = StringIndexer(inputCol=featuresCols, outputCol='tmp2')\n",
    "# train2 = indexer.fit(train).transform(train)\n",
    "# train2.show()\n",
    "train3 = VectorAssembler(inputCols=featuresCols, outputCol=\"features\").transform(train)\n",
    "train3.show(3, truncate=False)"
   ]
  },
  {
   "cell_type": "code",
   "execution_count": 60,
   "metadata": {
    "collapsed": false
   },
   "outputs": [
    {
     "name": "stdout",
     "output_type": "stream",
     "text": [
      "Coefficients: [-0.0735675831176,1.64218712081,-3.94462071627,4.93030250586,3.18539011674,-1.00491962156]\n",
      "Intercept: 0.284071149325\n"
     ]
    }
   ],
   "source": [
    "# from pyspark.ml.regression import LinearRegression\n",
    "from pyspark.ml.classification import LogisticRegression\n",
    "\n",
    "# lr = LinearRegression(labelCol=\"hba1c\", maxIter=100, regParam=0.3, elasticNetParam=0.8)\n",
    "# lr = LinearRegression(labelCol=\"hba1c\")\n",
    "lr = LogisticRegression(labelCol=\"inflammation\", maxIter=10, regParam=0.01)\n",
    "\n",
    "# Fit the model\n",
    "lrModel = lr.fit(train3)\n",
    "\n",
    "# Print the coefficients and intercept for linear regression\n",
    "print(\"Coefficients: \" + str(lrModel.coefficients))\n",
    "print(\"Intercept: \" + str(lrModel.intercept))"
   ]
  },
  {
   "cell_type": "code",
   "execution_count": null,
   "metadata": {
    "collapsed": true
   },
   "outputs": [],
   "source": []
  },
  {
   "cell_type": "code",
   "execution_count": null,
   "metadata": {
    "collapsed": true
   },
   "outputs": [],
   "source": []
  },
  {
   "cell_type": "code",
   "execution_count": null,
   "metadata": {
    "collapsed": true
   },
   "outputs": [],
   "source": []
  },
  {
   "cell_type": "code",
   "execution_count": null,
   "metadata": {
    "collapsed": true
   },
   "outputs": [],
   "source": []
  }
 ],
 "metadata": {
  "kernelspec": {
   "display_name": "Python 2",
   "language": "python",
   "name": "python2"
  },
  "language_info": {
   "codemirror_mode": {
    "name": "ipython",
    "version": 2
   },
   "file_extension": ".py",
   "mimetype": "text/x-python",
   "name": "python",
   "nbconvert_exporter": "python",
   "pygments_lexer": "ipython2",
   "version": "2.7.12"
  }
 },
 "nbformat": 4,
 "nbformat_minor": 0
}
