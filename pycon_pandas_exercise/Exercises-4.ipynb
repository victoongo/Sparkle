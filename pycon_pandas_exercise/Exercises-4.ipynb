{
 "cells": [
  {
   "cell_type": "code",
   "execution_count": 1,
   "metadata": {
    "collapsed": false
   },
   "outputs": [],
   "source": [
    "%matplotlib inline\n",
    "import pandas as pd"
   ]
  },
  {
   "cell_type": "code",
   "execution_count": 2,
   "metadata": {
    "collapsed": false
   },
   "outputs": [
    {
     "name": "stderr",
     "output_type": "stream",
     "text": [
      "/Users/l744679/Applications/anaconda/lib/python2.7/site-packages/IPython/core/magics/extension.py:47: UserWarning: %install_ext` is deprecated, please distribute your extension as a python package.\n",
      "  \"as a python package.\", UserWarning)\n",
      "/Users/l744679/Applications/anaconda/lib/python2.7/site-packages/matplotlib/__init__.py:1350: UserWarning:  This call to matplotlib.use() has no effect\n",
      "because the backend has already been chosen;\n",
      "matplotlib.use() must be called *before* pylab, matplotlib.pyplot,\n",
      "or matplotlib.backends is imported for the first time.\n",
      "\n",
      "  warnings.warn(_use_error_msg)\n"
     ]
    },
    {
     "name": "stdout",
     "output_type": "stream",
     "text": [
      "Installed autotime.py. To use it, type:\n",
      "  %load_ext autotime\n"
     ]
    }
   ],
   "source": [
    "%install_ext https://raw.github.com/cpcloud/ipython-autotime/master/autotime.py\n",
    "%load_ext autotime\n",
    "from pyspark import SQLContext\n",
    "sqlContext = SQLContext(sc)\n",
    "\n",
    "import pyspark.sql.functions as F\n",
    "import numpy as np\n",
    "\n",
    "%matplotlib inline\n",
    "import matplotlib\n",
    "matplotlib.use('Agg')\n",
    "#import matplotlib.pyplot\n",
    "import matplotlib.pyplot as plt"
   ]
  },
  {
   "cell_type": "code",
   "execution_count": 3,
   "metadata": {
    "collapsed": false
   },
   "outputs": [
    {
     "data": {
      "text/html": [
       "<style>body {\n",
       "    margin: 0;\n",
       "    font-family: Helvetica;\n",
       "}\n",
       "table.dataframe {\n",
       "    border-collapse: collapse;\n",
       "    border: none;\n",
       "}\n",
       "table.dataframe tr {\n",
       "    border: none;\n",
       "}\n",
       "table.dataframe td, table.dataframe th {\n",
       "    margin: 0;\n",
       "    border: 1px solid white;\n",
       "    padding-left: 0.25em;\n",
       "    padding-right: 0.25em;\n",
       "}\n",
       "table.dataframe th:not(:empty) {\n",
       "    background-color: #fec;\n",
       "    text-align: left;\n",
       "    font-weight: normal;\n",
       "}\n",
       "table.dataframe tr:nth-child(2) th:empty {\n",
       "    border-left: none;\n",
       "    border-right: 1px dashed #888;\n",
       "}\n",
       "table.dataframe td {\n",
       "    border: 2px solid #ccf;\n",
       "    background-color: #f4f4ff;\n",
       "}\n",
       "h3 {\n",
       "    color: white;\n",
       "    background-color: black;\n",
       "    padding: 0.5em;\n",
       "}\n",
       "</style>"
      ],
      "text/plain": [
       "<IPython.core.display.HTML object>"
      ]
     },
     "execution_count": 3,
     "metadata": {},
     "output_type": "execute_result"
    },
    {
     "name": "stdout",
     "output_type": "stream",
     "text": [
      "time: 3.51 ms\n"
     ]
    }
   ],
   "source": [
    "from IPython.core.display import HTML\n",
    "css = open('style-table.css').read() + open('style-notebook.css').read()\n",
    "HTML('<style>{}</style>'.format(css))"
   ]
  },
  {
   "cell_type": "code",
   "execution_count": 3,
   "metadata": {
    "collapsed": false
   },
   "outputs": [
    {
     "data": {
      "text/html": [
       "<div style=\"max-height:1000px;max-width:1500px;overflow:auto;\">\n",
       "<table border=\"1\" class=\"dataframe\">\n",
       "  <thead>\n",
       "    <tr style=\"text-align: right;\">\n",
       "      <th></th>\n",
       "      <th>title</th>\n",
       "      <th>year</th>\n",
       "    </tr>\n",
       "  </thead>\n",
       "  <tbody>\n",
       "    <tr>\n",
       "      <th>0</th>\n",
       "      <td>A Lélek órása</td>\n",
       "      <td>1923</td>\n",
       "    </tr>\n",
       "    <tr>\n",
       "      <th>1</th>\n",
       "      <td>Aizaugusa gravi viegli krist</td>\n",
       "      <td>1986</td>\n",
       "    </tr>\n",
       "    <tr>\n",
       "      <th>2</th>\n",
       "      <td>Agliyorum</td>\n",
       "      <td>1988</td>\n",
       "    </tr>\n",
       "    <tr>\n",
       "      <th>3</th>\n",
       "      <td>0_1_0</td>\n",
       "      <td>2008</td>\n",
       "    </tr>\n",
       "    <tr>\n",
       "      <th>4</th>\n",
       "      <td>97 fung lau mung</td>\n",
       "      <td>1994</td>\n",
       "    </tr>\n",
       "  </tbody>\n",
       "</table>\n",
       "</div>"
      ],
      "text/plain": [
       "                          title  year\n",
       "0                 A Lélek órása  1923\n",
       "1  Aizaugusa gravi viegli krist  1986\n",
       "2                     Agliyorum  1988\n",
       "3                         0_1_0  2008\n",
       "4              97 fung lau mung  1994"
      ]
     },
     "execution_count": 3,
     "metadata": {},
     "output_type": "execute_result"
    }
   ],
   "source": [
    "titles = pd.DataFrame.from_csv('data/titles.csv', index_col=None)\n",
    "titles.head()"
   ]
  },
  {
   "cell_type": "code",
   "execution_count": 4,
   "metadata": {
    "collapsed": false
   },
   "outputs": [
    {
     "data": {
      "text/html": [
       "<div style=\"max-height:1000px;max-width:1500px;overflow:auto;\">\n",
       "<table border=\"1\" class=\"dataframe\">\n",
       "  <thead>\n",
       "    <tr style=\"text-align: right;\">\n",
       "      <th></th>\n",
       "      <th>title</th>\n",
       "      <th>year</th>\n",
       "      <th>name</th>\n",
       "      <th>type</th>\n",
       "      <th>character</th>\n",
       "      <th>n</th>\n",
       "    </tr>\n",
       "  </thead>\n",
       "  <tbody>\n",
       "    <tr>\n",
       "      <th>0</th>\n",
       "      <td>The Core</td>\n",
       "      <td>2003</td>\n",
       "      <td>Alejandro Abellan</td>\n",
       "      <td>actor</td>\n",
       "      <td>U.S.S. Soldier</td>\n",
       "      <td>NaN</td>\n",
       "    </tr>\n",
       "    <tr>\n",
       "      <th>1</th>\n",
       "      <td>Il momento di uccidere</td>\n",
       "      <td>1968</td>\n",
       "      <td>Remo De Angelis</td>\n",
       "      <td>actor</td>\n",
       "      <td>Dago</td>\n",
       "      <td>9</td>\n",
       "    </tr>\n",
       "    <tr>\n",
       "      <th>2</th>\n",
       "      <td>Across the Divide</td>\n",
       "      <td>1921</td>\n",
       "      <td>Thomas Delmar</td>\n",
       "      <td>actor</td>\n",
       "      <td>Dago</td>\n",
       "      <td>4</td>\n",
       "    </tr>\n",
       "    <tr>\n",
       "      <th>3</th>\n",
       "      <td>Revan</td>\n",
       "      <td>2012</td>\n",
       "      <td>Diego James</td>\n",
       "      <td>actor</td>\n",
       "      <td>Dago</td>\n",
       "      <td>NaN</td>\n",
       "    </tr>\n",
       "    <tr>\n",
       "      <th>4</th>\n",
       "      <td>Un homme marche dans la ville</td>\n",
       "      <td>1950</td>\n",
       "      <td>Fabien Loris</td>\n",
       "      <td>actor</td>\n",
       "      <td>Dago</td>\n",
       "      <td>12</td>\n",
       "    </tr>\n",
       "  </tbody>\n",
       "</table>\n",
       "</div>"
      ],
      "text/plain": [
       "                           title  year               name   type  \\\n",
       "0                       The Core  2003  Alejandro Abellan  actor   \n",
       "1         Il momento di uccidere  1968    Remo De Angelis  actor   \n",
       "2              Across the Divide  1921      Thomas Delmar  actor   \n",
       "3                          Revan  2012        Diego James  actor   \n",
       "4  Un homme marche dans la ville  1950       Fabien Loris  actor   \n",
       "\n",
       "        character   n  \n",
       "0  U.S.S. Soldier NaN  \n",
       "1            Dago   9  \n",
       "2            Dago   4  \n",
       "3            Dago NaN  \n",
       "4            Dago  12  "
      ]
     },
     "execution_count": 4,
     "metadata": {},
     "output_type": "execute_result"
    }
   ],
   "source": [
    "cast = pd.DataFrame.from_csv('data/cast.csv', index_col=None)\n",
    "cast.head()"
   ]
  },
  {
   "cell_type": "code",
   "execution_count": 4,
   "metadata": {
    "collapsed": false
   },
   "outputs": [
    {
     "data": {
      "text/plain": [
       "DataFrame[title: string, year: int, name: string, type: string, character: string, n: int]"
      ]
     },
     "execution_count": 4,
     "metadata": {},
     "output_type": "execute_result"
    },
    {
     "name": "stdout",
     "output_type": "stream",
     "text": [
      "time: 1.66 s\n"
     ]
    }
   ],
   "source": [
    "titles = sqlContext.read.parquet(os.path.expanduser('~/Dropbox/Projects/data/movielens_p/titles'))\n",
    "titles.cache()\n",
    "cast = sqlContext.read.parquet(os.path.expanduser('~/Dropbox/Projects/data/movielens_p/cast'))\n",
    "cast.cache()"
   ]
  },
  {
   "cell_type": "markdown",
   "metadata": {
    "collapsed": true
   },
   "source": [
    "### Define a year as a \"Superman year\" whose films feature more Superman characters than Batman. How many years in film history have been Superman years?"
   ]
  },
  {
   "cell_type": "code",
   "execution_count": 18,
   "metadata": {
    "collapsed": false,
    "scrolled": false
   },
   "outputs": [
    {
     "name": "stdout",
     "output_type": "stream",
     "text": [
      "time: 8.55 ms\n"
     ]
    }
   ],
   "source": [
    "sb_counts = cast[(cast.character == 'Superman') | (cast.character == 'Batman')]\\\n",
    "    .groupby(['year', 'character']).count()"
   ]
  },
  {
   "cell_type": "code",
   "execution_count": 36,
   "metadata": {
    "collapsed": false
   },
   "outputs": [
    {
     "name": "stdout",
     "output_type": "stream",
     "text": [
      "+----+--------+------+\n",
      "|year|superman|batman|\n",
      "+----+--------+------+\n",
      "|1948|       1|     0|\n",
      "|1950|       1|     0|\n",
      "|1951|       2|     0|\n",
      "|1954|       5|     0|\n",
      "|1955|       1|     0|\n",
      "|1973|       2|     1|\n",
      "|1978|       2|     0|\n",
      "|1980|       2|     0|\n",
      "|1983|       2|     0|\n",
      "|1987|       1|     0|\n",
      "|2006|       1|     0|\n",
      "+----+--------+------+\n",
      "\n",
      "time: 2.09 s\n"
     ]
    }
   ],
   "source": [
    "sb_counts[(sb_counts.character == 'Superman')].select('year', 'count').withColumnRenamed('count', 'superman')\\\n",
    "    .join(sb_counts[(sb_counts.character == 'Batman')].select('year', 'count').withColumnRenamed('count', 'batman'), on='year', how='outer')\\\n",
    "    .fillna(0)\\\n",
    "    .filter('superman > batman')\\\n",
    "    .show()"
   ]
  },
  {
   "cell_type": "markdown",
   "metadata": {
    "collapsed": true
   },
   "source": [
    "### How many years have been \"Batman years\", with more Batman characters than Superman characters?"
   ]
  },
  {
   "cell_type": "code",
   "execution_count": 37,
   "metadata": {
    "collapsed": false
   },
   "outputs": [
    {
     "name": "stdout",
     "output_type": "stream",
     "text": [
      "+----+--------+------+\n",
      "|year|superman|batman|\n",
      "+----+--------+------+\n",
      "|1938|       0|     1|\n",
      "|1940|       0|     1|\n",
      "|1943|       0|     1|\n",
      "|1949|       0|     2|\n",
      "|1953|       0|     2|\n",
      "|1957|       0|     2|\n",
      "|1965|       0|     1|\n",
      "|1966|       0|     1|\n",
      "|1967|       0|     1|\n",
      "|1988|       0|     1|\n",
      "|1989|       0|     1|\n",
      "|1993|       0|     2|\n",
      "|1998|       0|     1|\n",
      "|1999|       0|     1|\n",
      "|2004|       0|     1|\n",
      "|2005|       0|     1|\n",
      "|2009|       1|     3|\n",
      "|2011|       2|     4|\n",
      "|2012|       0|     2|\n",
      "|2013|       0|     4|\n",
      "+----+--------+------+\n",
      "only showing top 20 rows\n",
      "\n",
      "time: 2.15 s\n"
     ]
    }
   ],
   "source": [
    "sb_counts[(sb_counts.character == 'Superman')].select('year', 'count').withColumnRenamed('count', 'superman')\\\n",
    "    .join(sb_counts[(sb_counts.character == 'Batman')].select('year', 'count').withColumnRenamed('count', 'batman'), on='year', how='outer')\\\n",
    "    .fillna(0)\\\n",
    "    .filter('superman < batman')\\\n",
    "    .show()"
   ]
  },
  {
   "cell_type": "code",
   "execution_count": null,
   "metadata": {
    "collapsed": true
   },
   "outputs": [],
   "source": []
  },
  {
   "cell_type": "markdown",
   "metadata": {
    "collapsed": true
   },
   "source": [
    "### Plot the number of actor roles each year and the number of actress roles each year over the history of film."
   ]
  },
  {
   "cell_type": "code",
   "execution_count": 16,
   "metadata": {
    "collapsed": false
   },
   "outputs": [
    {
     "name": "stdout",
     "output_type": "stream",
     "text": [
      "+----+-------+-----+\n",
      "|year|   type|count|\n",
      "+----+-------+-----+\n",
      "|1894|  actor|    2|\n",
      "|1894|actress|    1|\n",
      "|1899|  actor|    6|\n",
      "|1900|  actor|    2|\n",
      "|1905|  actor|    1|\n",
      "|1906|  actor|   14|\n",
      "|1906|actress|    3|\n",
      "|1907|  actor|    5|\n",
      "|1908|  actor|   29|\n",
      "|1908|actress|   13|\n",
      "|1909|  actor|    3|\n",
      "|1910|  actor|   51|\n",
      "|1910|actress|   26|\n",
      "|1911|  actor|  136|\n",
      "|1911|actress|   64|\n",
      "|1912|  actor|  241|\n",
      "|1912|actress|  148|\n",
      "|1913|  actor|  654|\n",
      "|1913|actress|  344|\n",
      "|1914|  actor| 2215|\n",
      "+----+-------+-----+\n",
      "only showing top 20 rows\n",
      "\n",
      "time: 375 ms\n"
     ]
    }
   ],
   "source": [
    "cast.groupby(['year', 'type']).count().sort(['year', 'type']).show()"
   ]
  },
  {
   "cell_type": "code",
   "execution_count": null,
   "metadata": {
    "collapsed": true
   },
   "outputs": [],
   "source": []
  },
  {
   "cell_type": "markdown",
   "metadata": {
    "collapsed": true
   },
   "source": [
    "### Plot the number of actor roles each year and the number of actress roles each year, but this time as a kind='area' plot."
   ]
  },
  {
   "cell_type": "code",
   "execution_count": null,
   "metadata": {
    "collapsed": false
   },
   "outputs": [],
   "source": []
  },
  {
   "cell_type": "code",
   "execution_count": null,
   "metadata": {
    "collapsed": false
   },
   "outputs": [],
   "source": []
  },
  {
   "cell_type": "markdown",
   "metadata": {
    "collapsed": true
   },
   "source": [
    "### Plot the difference between the number of actor roles each year and the number of actress roles each year over the history of film."
   ]
  },
  {
   "cell_type": "code",
   "execution_count": null,
   "metadata": {
    "collapsed": true
   },
   "outputs": [],
   "source": [
    "counts = cast.groupby(['year', 'type']).count()"
   ]
  },
  {
   "cell_type": "code",
   "execution_count": 20,
   "metadata": {
    "collapsed": false
   },
   "outputs": [
    {
     "name": "stdout",
     "output_type": "stream",
     "text": [
      "+----+-----+-------+----+\n",
      "|year|actor|actress|diff|\n",
      "+----+-----+-------+----+\n",
      "|1894|    2|      1|   1|\n",
      "|1899|    6|      0|   6|\n",
      "|1900|    2|      0|   2|\n",
      "|1905|    1|      0|   1|\n",
      "|1906|   14|      3|  11|\n",
      "|1907|    5|      0|   5|\n",
      "|1908|   29|     13|  16|\n",
      "|1909|    3|      0|   3|\n",
      "|1910|   51|     26|  25|\n",
      "|1911|  136|     64|  72|\n",
      "|1912|  241|    148|  93|\n",
      "|1913|  654|    344| 310|\n",
      "|1914| 2215|   1142|1073|\n",
      "|1915| 3404|   2001|1403|\n",
      "|1916| 4839|   2833|2006|\n",
      "|1917| 5201|   3047|2154|\n",
      "|1918| 4924|   2800|2124|\n",
      "|1919| 4915|   2788|2127|\n",
      "|1920| 5264|   2888|2376|\n",
      "|1921| 4276|   2403|1873|\n",
      "+----+-----+-------+----+\n",
      "only showing top 20 rows\n",
      "\n",
      "time: 12.8 s\n"
     ]
    }
   ],
   "source": [
    "unstack(counts, 'year', 'type', 'count').fillna(0).selectExpr('*', 'actor - actress as diff').show()"
   ]
  },
  {
   "cell_type": "markdown",
   "metadata": {
    "collapsed": true
   },
   "source": [
    "### Plot the fraction of roles that have been 'actor' roles each year in the hitsory of film."
   ]
  },
  {
   "cell_type": "code",
   "execution_count": null,
   "metadata": {
    "collapsed": true
   },
   "outputs": [],
   "source": [
    "counts = cast.groupby(['year', 'type']).count()"
   ]
  },
  {
   "cell_type": "code",
   "execution_count": 21,
   "metadata": {
    "collapsed": false
   },
   "outputs": [
    {
     "name": "stdout",
     "output_type": "stream",
     "text": [
      "+----+-----+-------+------------------+\n",
      "|year|actor|actress|         actor_pct|\n",
      "+----+-----+-------+------------------+\n",
      "|1894|    2|      1|0.6666666666666666|\n",
      "|1899|    6|      0|               1.0|\n",
      "|1900|    2|      0|               1.0|\n",
      "|1905|    1|      0|               1.0|\n",
      "|1906|   14|      3|0.8235294117647058|\n",
      "|1907|    5|      0|               1.0|\n",
      "|1908|   29|     13|0.6904761904761905|\n",
      "|1909|    3|      0|               1.0|\n",
      "|1910|   51|     26|0.6623376623376623|\n",
      "|1911|  136|     64|              0.68|\n",
      "|1912|  241|    148|0.6195372750642674|\n",
      "|1913|  654|    344| 0.655310621242485|\n",
      "|1914| 2215|   1142|0.6598153112898422|\n",
      "|1915| 3404|   2001|0.6297872340425532|\n",
      "|1916| 4839|   2833|0.6307351407716372|\n",
      "|1917| 5201|   3047|0.6305771096023278|\n",
      "|1918| 4924|   2800|0.6374935266701192|\n",
      "|1919| 4915|   2788|0.6380630923017007|\n",
      "|1920| 5264|   2888|0.6457311089303238|\n",
      "|1921| 4276|   2403|0.6402156011378949|\n",
      "+----+-----+-------+------------------+\n",
      "only showing top 20 rows\n",
      "\n",
      "time: 12.5 s\n"
     ]
    }
   ],
   "source": [
    "unstack(counts, 'year', 'type', 'count').fillna(0).selectExpr('*', 'actor / (actor + actress) as actor_pct').show()"
   ]
  },
  {
   "cell_type": "markdown",
   "metadata": {
    "collapsed": true
   },
   "source": [
    "### Plot the fraction of supporting (n=2) roles that have been 'actor' roles each year in the history of film."
   ]
  },
  {
   "cell_type": "code",
   "execution_count": 5,
   "metadata": {
    "collapsed": false
   },
   "outputs": [
    {
     "name": "stdout",
     "output_type": "stream",
     "text": [
      "+----+-------+-----+\n",
      "|year|   type|count|\n",
      "+----+-------+-----+\n",
      "|1987|  actor|  693|\n",
      "|1960|  actor|  458|\n",
      "|1933|  actor|  395|\n",
      "|1906|  actor|    2|\n",
      "|2002|actress|  911|\n",
      "|1975|actress|  429|\n",
      "|1948|actress|  358|\n",
      "|1921|actress|  348|\n",
      "|1998|  actor|  893|\n",
      "|1971|  actor|  625|\n",
      "|1944|  actor|  345|\n",
      "|1917|  actor|  604|\n",
      "|2013|actress| 1604|\n",
      "|1986|actress|  502|\n",
      "|1959|actress|  452|\n",
      "|1932|actress|  456|\n",
      "|2009|  actor| 1859|\n",
      "|1982|  actor|  528|\n",
      "|1955|  actor|  395|\n",
      "|1928|  actor|  378|\n",
      "+----+-------+-----+\n",
      "only showing top 20 rows\n",
      "\n",
      "time: 4.85 s\n"
     ]
    }
   ],
   "source": [
    "sb_counts = cast[cast.n == 2].groupby(['year', 'type']).count()\n",
    "sb_counts.show()"
   ]
  },
  {
   "cell_type": "code",
   "execution_count": 13,
   "metadata": {
    "collapsed": false
   },
   "outputs": [
    {
     "name": "stdout",
     "output_type": "stream",
     "text": [
      "+----+-----+---+-------------------+\n",
      "|year|actor|sum|          actor_pct|\n",
      "+----+-----+---+-------------------+\n",
      "|1899|    2|  2|                1.0|\n",
      "|1906|    2|  3| 0.6666666666666666|\n",
      "|1907|    1|  1|                1.0|\n",
      "|1908|    2|  2|                1.0|\n",
      "|1910|    1|  3| 0.3333333333333333|\n",
      "|1911|   14| 20|                0.7|\n",
      "|1912|    9| 24|              0.375|\n",
      "|1913|   64|115| 0.5565217391304348|\n",
      "|1914|  171|325| 0.5261538461538462|\n",
      "|1915|  334|629| 0.5310015898251192|\n",
      "|1916|  518|905| 0.5723756906077349|\n",
      "|1917|  604|998| 0.6052104208416834|\n",
      "|1918|  563|912| 0.6173245614035088|\n",
      "|1919|  537|915| 0.5868852459016394|\n",
      "|1920|  509|895| 0.5687150837988827|\n",
      "|1921|  390|738| 0.5284552845528455|\n",
      "|1922|  372|712| 0.5224719101123596|\n",
      "|1923|  297|577| 0.5147313691507799|\n",
      "|1924|  320|654| 0.4892966360856269|\n",
      "|1925|  337|716|0.47067039106145253|\n",
      "+----+-----+---+-------------------+\n",
      "only showing top 20 rows\n",
      "\n",
      "time: 8.25 s\n"
     ]
    }
   ],
   "source": [
    "sb_counts[sb_counts.type == 'actor'].selectExpr('year', 'count as actor')\\\n",
    "    .join(sb_counts.groupby('year').sum('count').withColumnRenamed('sum(count)', 'sum'), on='year', how='outer')\\\n",
    "    .selectExpr('*', 'actor / sum as actor_pct')\\\n",
    "    .show()"
   ]
  },
  {
   "cell_type": "code",
   "execution_count": 7,
   "metadata": {
    "collapsed": false
   },
   "outputs": [
    {
     "name": "stdout",
     "output_type": "stream",
     "text": [
      "+----+-----+-------+\n",
      "|year|actor|actress|\n",
      "+----+-----+-------+\n",
      "|1899|    2|      0|\n",
      "|1906|    2|      1|\n",
      "|1907|    1|      0|\n",
      "|1908|    2|      0|\n",
      "|1910|    1|      2|\n",
      "|1911|   14|      6|\n",
      "|1912|    9|     15|\n",
      "|1913|   64|     51|\n",
      "|1914|  171|    154|\n",
      "|1915|  334|    295|\n",
      "|1916|  518|    387|\n",
      "|1917|  604|    394|\n",
      "|1918|  563|    349|\n",
      "|1919|  537|    378|\n",
      "|1920|  509|    386|\n",
      "|1921|  390|    348|\n",
      "|1922|  372|    340|\n",
      "|1923|  297|    280|\n",
      "|1924|  320|    334|\n",
      "|1925|  337|    379|\n",
      "+----+-----+-------+\n",
      "only showing top 20 rows\n",
      "\n",
      "time: 11.6 s\n"
     ]
    }
   ],
   "source": [
    "def unstack(df, i_col, p_col, v_col):\n",
    "    cats = df.select(p_col).distinct().sort(p_col).toPandas()[p_col].tolist()\n",
    "    for i in range(len(cats)):\n",
    "        if i == 0:\n",
    "            wide = df[(df[p_col] == cats[i])].select(i_col, v_col).withColumnRenamed(v_col, cats[i])\n",
    "        else:\n",
    "            wide = wide.join(df[(df[p_col] == cats[i])].select(i_col, v_col).withColumnRenamed(v_col, cats[i]), on=i_col, how='outer')\n",
    "    return wide\n",
    "\n",
    "sb_counts_w = unstack(sb_counts, 'year', 'type', 'count').fillna(0)\n",
    "sb_counts_w.show()"
   ]
  },
  {
   "cell_type": "code",
   "execution_count": 8,
   "metadata": {
    "collapsed": false
   },
   "outputs": [
    {
     "name": "stdout",
     "output_type": "stream",
     "text": [
      "+----+-----+-------+-------------------+\n",
      "|year|actor|actress|          actor_pct|\n",
      "+----+-----+-------+-------------------+\n",
      "|1899|    2|      0|                1.0|\n",
      "|1906|    2|      1| 0.6666666666666666|\n",
      "|1907|    1|      0|                1.0|\n",
      "|1908|    2|      0|                1.0|\n",
      "|1910|    1|      2| 0.3333333333333333|\n",
      "|1911|   14|      6|                0.7|\n",
      "|1912|    9|     15|              0.375|\n",
      "|1913|   64|     51| 0.5565217391304348|\n",
      "|1914|  171|    154| 0.5261538461538462|\n",
      "|1915|  334|    295| 0.5310015898251192|\n",
      "|1916|  518|    387| 0.5723756906077349|\n",
      "|1917|  604|    394| 0.6052104208416834|\n",
      "|1918|  563|    349| 0.6173245614035088|\n",
      "|1919|  537|    378| 0.5868852459016394|\n",
      "|1920|  509|    386| 0.5687150837988827|\n",
      "|1921|  390|    348| 0.5284552845528455|\n",
      "|1922|  372|    340| 0.5224719101123596|\n",
      "|1923|  297|    280| 0.5147313691507799|\n",
      "|1924|  320|    334| 0.4892966360856269|\n",
      "|1925|  337|    379|0.47067039106145253|\n",
      "+----+-----+-------+-------------------+\n",
      "only showing top 20 rows\n",
      "\n",
      "time: 6.46 s\n"
     ]
    }
   ],
   "source": [
    "sb_counts_w.withColumn('actor_pct', sb_counts_w.actor / (sb_counts_w.actor + sb_counts_w.actress)).show()"
   ]
  },
  {
   "cell_type": "markdown",
   "metadata": {
    "collapsed": true
   },
   "source": [
    "### Build a plot with a line for each rank n=1 through n=3, where the line shows what fraction of that rank's roles were 'actor' roles for each year in the history of film."
   ]
  },
  {
   "cell_type": "code",
   "execution_count": 25,
   "metadata": {
    "collapsed": false
   },
   "outputs": [
    {
     "name": "stdout",
     "output_type": "stream",
     "text": [
      "+----+---+-------+-----+\n",
      "|year|  n|   type|count|\n",
      "+----+---+-------+-----+\n",
      "|1899|  1|  actor|    2|\n",
      "|1899|  2|  actor|    2|\n",
      "|1906|  1|  actor|    2|\n",
      "|1906|  1|actress|    1|\n",
      "|1906|  2|  actor|    2|\n",
      "|1906|  2|actress|    1|\n",
      "|1906|  3|actress|    1|\n",
      "|1907|  1|  actor|    1|\n",
      "|1907|  2|  actor|    1|\n",
      "|1907|  3|  actor|    1|\n",
      "|1908|  1|  actor|    1|\n",
      "|1908|  2|  actor|    2|\n",
      "|1908|  3|  actor|    2|\n",
      "|1909|  1|  actor|    1|\n",
      "|1910|  1|  actor|    2|\n",
      "|1910|  1|actress|    3|\n",
      "|1910|  2|  actor|    1|\n",
      "|1910|  2|actress|    2|\n",
      "|1910|  3|  actor|    2|\n",
      "|1911|  1|  actor|   17|\n",
      "+----+---+-------+-----+\n",
      "only showing top 20 rows\n",
      "\n",
      "time: 344 ms\n"
     ]
    }
   ],
   "source": [
    "sb_counts = cast[cast.n.between(1, 3)].groupby(['year', 'n', 'type']).count().sort(['year', 'n', 'type'])\n",
    "sb_counts.show()"
   ]
  },
  {
   "cell_type": "code",
   "execution_count": 27,
   "metadata": {
    "collapsed": false
   },
   "outputs": [
    {
     "name": "stdout",
     "output_type": "stream",
     "text": [
      "+----+---+-----+-------+\n",
      "|year|  n|actor|actress|\n",
      "+----+---+-----+-------+\n",
      "|1912|  3|   14|      5|\n",
      "|2004|  1| 1642|    651|\n",
      "|1977|  1|  761|    286|\n",
      "|2004|  2| 1152|    996|\n",
      "|1950|  1|  604|    268|\n",
      "|1977|  2|  558|    415|\n",
      "|2004|  3| 1211|    784|\n",
      "|1923|  1|  360|    245|\n",
      "|1950|  2|  416|    401|\n",
      "|1977|  3|  567|    343|\n",
      "|1923|  2|  297|    280|\n",
      "|1950|  3|  488|    304|\n",
      "|1923|  3|  395|    167|\n",
      "|2015|  1| 2751|   1269|\n",
      "|1988|  1| 1021|    382|\n",
      "|2015|  2| 2145|   1529|\n",
      "|1961|  1|  714|    297|\n",
      "|1988|  2|  720|    543|\n",
      "|2015|  3| 2106|   1325|\n",
      "|1934|  1|  572|    311|\n",
      "+----+---+-----+-------+\n",
      "only showing top 20 rows\n",
      "\n",
      "time: 47.3 s\n"
     ]
    }
   ],
   "source": [
    "def unstack(df, i_col, p_col, v_col):\n",
    "    cats = df.select(p_col).distinct().sort(p_col).toPandas()[p_col].tolist()\n",
    "    for i in range(len(cats)):\n",
    "        if i == 0:\n",
    "            wide = df[(df[p_col] == cats[i])].drop(p_col).withColumnRenamed(v_col, cats[i])\n",
    "        else:\n",
    "            wide = wide.join(df[(df[p_col] == cats[i])].drop(p_col).withColumnRenamed(v_col, cats[i]), on=i_col, how='outer')\n",
    "    return wide\n",
    "\n",
    "sb_counts_w = unstack(sb_counts, ['year', 'n'], 'type', 'count').fillna(0)\n",
    "sb_counts_w.show()"
   ]
  },
  {
   "cell_type": "code",
   "execution_count": 29,
   "metadata": {
    "collapsed": false
   },
   "outputs": [
    {
     "name": "stdout",
     "output_type": "stream",
     "text": [
      "+----+---+-----+-------+------------------+\n",
      "|year|  n|actor|actress|         actor_pct|\n",
      "+----+---+-----+-------+------------------+\n",
      "|1899|  1|    2|      0|               1.0|\n",
      "|1899|  2|    2|      0|               1.0|\n",
      "|1906|  1|    2|      1|0.6666666666666666|\n",
      "|1906|  2|    2|      1|0.6666666666666666|\n",
      "|1906|  3|    0|      1|               0.0|\n",
      "|1907|  1|    1|      0|               1.0|\n",
      "|1907|  2|    1|      0|               1.0|\n",
      "|1907|  3|    1|      0|               1.0|\n",
      "|1908|  1|    1|      0|               1.0|\n",
      "|1908|  2|    2|      0|               1.0|\n",
      "|1908|  3|    2|      0|               1.0|\n",
      "|1909|  1|    1|      0|               1.0|\n",
      "|1910|  1|    2|      3|               0.4|\n",
      "|1910|  2|    1|      2|0.3333333333333333|\n",
      "|1910|  3|    2|      0|               1.0|\n",
      "|1911|  1|   17|      9|0.6538461538461539|\n",
      "|1911|  2|   14|      6|               0.7|\n",
      "|1911|  3|   15|      3|0.8333333333333334|\n",
      "|1912|  1|   15|     12|0.5555555555555556|\n",
      "|1912|  2|    9|     15|             0.375|\n",
      "+----+---+-----+-------+------------------+\n",
      "only showing top 20 rows\n",
      "\n",
      "time: 29.2 s\n"
     ]
    }
   ],
   "source": [
    "sb_counts_w.sort(['year', 'n']).selectExpr('*', 'actor / (actor + actress) as actor_pct').show()"
   ]
  },
  {
   "cell_type": "code",
   "execution_count": null,
   "metadata": {
    "collapsed": true
   },
   "outputs": [],
   "source": []
  }
 ],
 "metadata": {
  "kernelspec": {
   "display_name": "Python 2",
   "language": "python",
   "name": "python2"
  },
  "language_info": {
   "codemirror_mode": {
    "name": "ipython",
    "version": 2
   },
   "file_extension": ".py",
   "mimetype": "text/x-python",
   "name": "python",
   "nbconvert_exporter": "python",
   "pygments_lexer": "ipython2",
   "version": "2.7.11"
  }
 },
 "nbformat": 4,
 "nbformat_minor": 0
}
