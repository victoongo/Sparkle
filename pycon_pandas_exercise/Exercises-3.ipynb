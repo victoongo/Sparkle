{
 "cells": [
  {
   "cell_type": "code",
   "execution_count": 1,
   "metadata": {
    "collapsed": false
   },
   "outputs": [],
   "source": [
    "%matplotlib inline\n",
    "import pandas as pd"
   ]
  },
  {
   "cell_type": "code",
   "execution_count": 2,
   "metadata": {
    "collapsed": false
   },
   "outputs": [
    {
     "name": "stderr",
     "output_type": "stream",
     "text": [
      "/Users/l744679/Applications/anaconda/lib/python2.7/site-packages/IPython/core/magics/extension.py:47: UserWarning: %install_ext` is deprecated, please distribute your extension as a python package.\n",
      "  \"as a python package.\", UserWarning)\n",
      "/Users/l744679/Applications/anaconda/lib/python2.7/site-packages/matplotlib/__init__.py:1350: UserWarning:  This call to matplotlib.use() has no effect\n",
      "because the backend has already been chosen;\n",
      "matplotlib.use() must be called *before* pylab, matplotlib.pyplot,\n",
      "or matplotlib.backends is imported for the first time.\n",
      "\n",
      "  warnings.warn(_use_error_msg)\n"
     ]
    },
    {
     "name": "stdout",
     "output_type": "stream",
     "text": [
      "Installed autotime.py. To use it, type:\n",
      "  %load_ext autotime\n"
     ]
    }
   ],
   "source": [
    "%install_ext https://raw.github.com/cpcloud/ipython-autotime/master/autotime.py\n",
    "%load_ext autotime\n",
    "from pyspark import SQLContext\n",
    "sqlContext = SQLContext(sc)\n",
    "\n",
    "import pyspark.sql.functions as F\n",
    "import numpy as np\n",
    "\n",
    "%matplotlib inline\n",
    "import matplotlib\n",
    "matplotlib.use('Agg')\n",
    "#import matplotlib.pyplot\n",
    "import matplotlib.pyplot as plt"
   ]
  },
  {
   "cell_type": "code",
   "execution_count": 2,
   "metadata": {
    "collapsed": false
   },
   "outputs": [
    {
     "data": {
      "text/html": [
       "<style>body {\n",
       "    margin: 0;\n",
       "    font-family: Helvetica;\n",
       "}\n",
       "table.dataframe {\n",
       "    border-collapse: collapse;\n",
       "    border: none;\n",
       "}\n",
       "table.dataframe tr {\n",
       "    border: none;\n",
       "}\n",
       "table.dataframe td, table.dataframe th {\n",
       "    margin: 0;\n",
       "    border: 1px solid white;\n",
       "    padding-left: 0.25em;\n",
       "    padding-right: 0.25em;\n",
       "}\n",
       "table.dataframe th:not(:empty) {\n",
       "    background-color: #fec;\n",
       "    text-align: left;\n",
       "    font-weight: normal;\n",
       "}\n",
       "table.dataframe tr:nth-child(2) th:empty {\n",
       "    border-left: none;\n",
       "    border-right: 1px dashed #888;\n",
       "}\n",
       "table.dataframe td {\n",
       "    border: 2px solid #ccf;\n",
       "    background-color: #f4f4ff;\n",
       "}\n",
       "h3 {\n",
       "    color: white;\n",
       "    background-color: black;\n",
       "    padding: 0.5em;\n",
       "}\n",
       "</style>"
      ],
      "text/plain": [
       "<IPython.core.display.HTML object>"
      ]
     },
     "execution_count": 2,
     "metadata": {},
     "output_type": "execute_result"
    }
   ],
   "source": [
    "from IPython.core.display import HTML\n",
    "css = open('style-table.css').read() + open('style-notebook.css').read()\n",
    "HTML('<style>{}</style>'.format(css))"
   ]
  },
  {
   "cell_type": "code",
   "execution_count": 3,
   "metadata": {
    "collapsed": false
   },
   "outputs": [
    {
     "data": {
      "text/html": [
       "<div style=\"max-height:1000px;max-width:1500px;overflow:auto;\">\n",
       "<table border=\"1\" class=\"dataframe\">\n",
       "  <thead>\n",
       "    <tr style=\"text-align: right;\">\n",
       "      <th></th>\n",
       "      <th>title</th>\n",
       "      <th>year</th>\n",
       "    </tr>\n",
       "  </thead>\n",
       "  <tbody>\n",
       "    <tr>\n",
       "      <th>0</th>\n",
       "      <td>A Lélek órása</td>\n",
       "      <td>1923</td>\n",
       "    </tr>\n",
       "    <tr>\n",
       "      <th>1</th>\n",
       "      <td>Aizaugusa gravi viegli krist</td>\n",
       "      <td>1986</td>\n",
       "    </tr>\n",
       "    <tr>\n",
       "      <th>2</th>\n",
       "      <td>Agliyorum</td>\n",
       "      <td>1988</td>\n",
       "    </tr>\n",
       "    <tr>\n",
       "      <th>3</th>\n",
       "      <td>0_1_0</td>\n",
       "      <td>2008</td>\n",
       "    </tr>\n",
       "    <tr>\n",
       "      <th>4</th>\n",
       "      <td>97 fung lau mung</td>\n",
       "      <td>1994</td>\n",
       "    </tr>\n",
       "  </tbody>\n",
       "</table>\n",
       "</div>"
      ],
      "text/plain": [
       "                          title  year\n",
       "0                 A Lélek órása  1923\n",
       "1  Aizaugusa gravi viegli krist  1986\n",
       "2                     Agliyorum  1988\n",
       "3                         0_1_0  2008\n",
       "4              97 fung lau mung  1994"
      ]
     },
     "execution_count": 3,
     "metadata": {},
     "output_type": "execute_result"
    }
   ],
   "source": [
    "titles = pd.DataFrame.from_csv('data/titles.csv', index_col=None)\n",
    "titles.head()"
   ]
  },
  {
   "cell_type": "code",
   "execution_count": 4,
   "metadata": {
    "collapsed": false
   },
   "outputs": [
    {
     "data": {
      "text/html": [
       "<div style=\"max-height:1000px;max-width:1500px;overflow:auto;\">\n",
       "<table border=\"1\" class=\"dataframe\">\n",
       "  <thead>\n",
       "    <tr style=\"text-align: right;\">\n",
       "      <th></th>\n",
       "      <th>title</th>\n",
       "      <th>year</th>\n",
       "      <th>name</th>\n",
       "      <th>type</th>\n",
       "      <th>character</th>\n",
       "      <th>n</th>\n",
       "    </tr>\n",
       "  </thead>\n",
       "  <tbody>\n",
       "    <tr>\n",
       "      <th>0</th>\n",
       "      <td>The Core</td>\n",
       "      <td>2003</td>\n",
       "      <td>Alejandro Abellan</td>\n",
       "      <td>actor</td>\n",
       "      <td>U.S.S. Soldier</td>\n",
       "      <td>NaN</td>\n",
       "    </tr>\n",
       "    <tr>\n",
       "      <th>1</th>\n",
       "      <td>Il momento di uccidere</td>\n",
       "      <td>1968</td>\n",
       "      <td>Remo De Angelis</td>\n",
       "      <td>actor</td>\n",
       "      <td>Dago</td>\n",
       "      <td>9</td>\n",
       "    </tr>\n",
       "    <tr>\n",
       "      <th>2</th>\n",
       "      <td>Across the Divide</td>\n",
       "      <td>1921</td>\n",
       "      <td>Thomas Delmar</td>\n",
       "      <td>actor</td>\n",
       "      <td>Dago</td>\n",
       "      <td>4</td>\n",
       "    </tr>\n",
       "    <tr>\n",
       "      <th>3</th>\n",
       "      <td>Revan</td>\n",
       "      <td>2012</td>\n",
       "      <td>Diego James</td>\n",
       "      <td>actor</td>\n",
       "      <td>Dago</td>\n",
       "      <td>NaN</td>\n",
       "    </tr>\n",
       "    <tr>\n",
       "      <th>4</th>\n",
       "      <td>Un homme marche dans la ville</td>\n",
       "      <td>1950</td>\n",
       "      <td>Fabien Loris</td>\n",
       "      <td>actor</td>\n",
       "      <td>Dago</td>\n",
       "      <td>12</td>\n",
       "    </tr>\n",
       "  </tbody>\n",
       "</table>\n",
       "</div>"
      ],
      "text/plain": [
       "                           title  year               name   type  \\\n",
       "0                       The Core  2003  Alejandro Abellan  actor   \n",
       "1         Il momento di uccidere  1968    Remo De Angelis  actor   \n",
       "2              Across the Divide  1921      Thomas Delmar  actor   \n",
       "3                          Revan  2012        Diego James  actor   \n",
       "4  Un homme marche dans la ville  1950       Fabien Loris  actor   \n",
       "\n",
       "        character   n  \n",
       "0  U.S.S. Soldier NaN  \n",
       "1            Dago   9  \n",
       "2            Dago   4  \n",
       "3            Dago NaN  \n",
       "4            Dago  12  "
      ]
     },
     "execution_count": 4,
     "metadata": {},
     "output_type": "execute_result"
    }
   ],
   "source": [
    "cast = pd.DataFrame.from_csv('data/cast.csv', index_col=None)\n",
    "cast.head()"
   ]
  },
  {
   "cell_type": "code",
   "execution_count": 6,
   "metadata": {
    "collapsed": false
   },
   "outputs": [
    {
     "data": {
      "text/plain": [
       "DataFrame[title: string, year: int, name: string, type: string, character: string, n: int]"
      ]
     },
     "execution_count": 6,
     "metadata": {},
     "output_type": "execute_result"
    },
    {
     "name": "stdout",
     "output_type": "stream",
     "text": [
      "time: 276 ms\n"
     ]
    }
   ],
   "source": [
    "titles = sqlContext.read.parquet(os.path.expanduser('~/Dropbox/Projects/data/movielens_p/titles'))\n",
    "titles.cache()\n",
    "cast = sqlContext.read.parquet(os.path.expanduser('~/Dropbox/Projects/data/movielens_p/cast'))\n",
    "cast.cache()"
   ]
  },
  {
   "cell_type": "markdown",
   "metadata": {
    "collapsed": true
   },
   "source": [
    "### Using groupby(), plot the number of films that have been released each decade in the history of cinema."
   ]
  },
  {
   "cell_type": "code",
   "execution_count": 9,
   "metadata": {
    "collapsed": false
   },
   "outputs": [
    {
     "name": "stdout",
     "output_type": "stream",
     "text": [
      "+------+-----+\n",
      "|decade|count|\n",
      "+------+-----+\n",
      "|  1890|    6|\n",
      "|  1900|   35|\n",
      "|  1910| 6337|\n",
      "|  1920| 8648|\n",
      "|  1930| 9954|\n",
      "|  1940| 8301|\n",
      "|  1950|12051|\n",
      "|  1960|16421|\n",
      "|  1970|17704|\n",
      "|  1980|19257|\n",
      "|  1990|21251|\n",
      "|  2000|37659|\n",
      "|  2010|55129|\n",
      "|  2020|   37|\n",
      "+------+-----+\n",
      "\n",
      "time: 467 ms\n"
     ]
    }
   ],
   "source": [
    "titles.withColumn('decade', F.floor(titles.year / 10) * 10).groupby('decade').count().sort('decade').show()"
   ]
  },
  {
   "cell_type": "code",
   "execution_count": null,
   "metadata": {
    "collapsed": true
   },
   "outputs": [],
   "source": []
  },
  {
   "cell_type": "markdown",
   "metadata": {
    "collapsed": true
   },
   "source": [
    "### Use groupby() to plot the number of \"Hamlet\" films made each decade."
   ]
  },
  {
   "cell_type": "code",
   "execution_count": 10,
   "metadata": {
    "collapsed": false
   },
   "outputs": [
    {
     "name": "stdout",
     "output_type": "stream",
     "text": [
      "+------+-----+\n",
      "|decade|count|\n",
      "+------+-----+\n",
      "|  1910|    3|\n",
      "|  1920|    1|\n",
      "|  1940|    1|\n",
      "|  1950|    1|\n",
      "|  1960|    2|\n",
      "|  1970|    2|\n",
      "|  1980|    1|\n",
      "|  1990|    2|\n",
      "|  2000|    2|\n",
      "|  2010|    4|\n",
      "+------+-----+\n",
      "\n",
      "time: 416 ms\n"
     ]
    }
   ],
   "source": [
    "titles[titles.title == 'Hamlet'].withColumn('decade', F.floor(titles.year / 10) * 10).groupby('decade').count().sort('decade').show()"
   ]
  },
  {
   "cell_type": "code",
   "execution_count": null,
   "metadata": {
    "collapsed": true
   },
   "outputs": [],
   "source": []
  },
  {
   "cell_type": "markdown",
   "metadata": {
    "collapsed": true
   },
   "source": [
    "### How many leading (n=1) roles were available to actors, and how many to actresses, in each year of the 1950s?"
   ]
  },
  {
   "cell_type": "code",
   "execution_count": 13,
   "metadata": {
    "collapsed": false
   },
   "outputs": [
    {
     "name": "stdout",
     "output_type": "stream",
     "text": [
      "+----+-------+-----+\n",
      "|year|   type|count|\n",
      "+----+-------+-----+\n",
      "|1950|  actor|  604|\n",
      "|1950|actress|  268|\n",
      "|1951|  actor|  632|\n",
      "|1951|actress|  272|\n",
      "|1952|  actor|  589|\n",
      "|1952|actress|  285|\n",
      "|1953|  actor|  632|\n",
      "|1953|actress|  289|\n",
      "|1954|  actor|  623|\n",
      "|1954|actress|  297|\n",
      "|1955|  actor|  606|\n",
      "|1955|actress|  264|\n",
      "|1956|  actor|  608|\n",
      "|1956|actress|  288|\n",
      "|1957|  actor|  706|\n",
      "|1957|actress|  283|\n",
      "|1958|  actor|  691|\n",
      "|1958|actress|  275|\n",
      "|1959|  actor|  676|\n",
      "|1959|actress|  285|\n",
      "+----+-------+-----+\n",
      "\n",
      "time: 718 ms\n"
     ]
    }
   ],
   "source": [
    "cast[(F.floor(cast.year / 10) == 195) & (cast.n == 1)].groupby(['year', 'type']).count().sort(['year', 'type']).show()"
   ]
  },
  {
   "cell_type": "code",
   "execution_count": null,
   "metadata": {
    "collapsed": true
   },
   "outputs": [],
   "source": []
  },
  {
   "cell_type": "markdown",
   "metadata": {
    "collapsed": true
   },
   "source": [
    "### In the 1950s decade taken as a whole, how many total roles were available to actors, and how many to actresses, for each \"n\" number 1 through 5?"
   ]
  },
  {
   "cell_type": "code",
   "execution_count": 15,
   "metadata": {
    "collapsed": false
   },
   "outputs": [
    {
     "name": "stdout",
     "output_type": "stream",
     "text": [
      "+---+-------+-----+\n",
      "|  n|   type|count|\n",
      "+---+-------+-----+\n",
      "|  1|  actor| 6367|\n",
      "|  1|actress| 2806|\n",
      "|  2|  actor| 4371|\n",
      "|  2|actress| 4391|\n",
      "|  3|  actor| 5394|\n",
      "|  3|actress| 3011|\n",
      "|  4|  actor| 5391|\n",
      "|  4|actress| 2740|\n",
      "|  5|  actor| 5420|\n",
      "|  5|actress| 2439|\n",
      "+---+-------+-----+\n",
      "\n",
      "time: 559 ms\n"
     ]
    }
   ],
   "source": [
    "cast[(F.floor(cast.year / 10) == 195) & (cast.n.cast('int') < 6)].groupby(['n', 'type']).count().sort(['n', 'type']).show()"
   ]
  },
  {
   "cell_type": "code",
   "execution_count": null,
   "metadata": {
    "collapsed": true
   },
   "outputs": [],
   "source": []
  },
  {
   "cell_type": "markdown",
   "metadata": {
    "collapsed": true
   },
   "source": [
    "### Use groupby() to determine how many roles are listed for each of the Pink Panther movies."
   ]
  },
  {
   "cell_type": "code",
   "execution_count": 21,
   "metadata": {
    "collapsed": false
   },
   "outputs": [
    {
     "name": "stdout",
     "output_type": "stream",
     "text": [
      "+----------------+----+--------------------+-----+--------------------+----+\n",
      "|           title|year|                name| type|           character|   n|\n",
      "+----------------+----+--------------------+-----+--------------------+----+\n",
      "|The Pink Panther|2006|      William Abadie|actor|                Bizu|  11|\n",
      "|The Pink Panther|2006|   Scott (II) Adkins|actor|            Jacquard|  20|\n",
      "|The Pink Panther|2006|Patrick (III) And...|actor|     NYC Firefighter|null|\n",
      "|The Pink Panther|2006|      Michael Arthur|actor|          Officer #1|null|\n",
      "|The Pink Panther|1963|         John Bartha|actor|           Policeman|null|\n",
      "|The Pink Panther|2006|         Dexter Bell|actor|   Terry Ahkee-Sauce|  33|\n",
      "|The Pink Panther|1963|      Riccardo Billi|actor|   Aristotle Sarajos|  11|\n",
      "|The Pink Panther|2006| Antoine Blanquefort|actor|   Ballroom Reporter|  44|\n",
      "|The Pink Panther|2006|      Davide Borella|actor|     Gas-Mask Bandit|  50|\n",
      "|The Pink Panther|2006|   David (IV) Boston|actor|    Blackjack Dealer|null|\n",
      "|The Pink Panther|2006|    St?phane Boucher|actor|      Security Agent|  18|\n",
      "|The Pink Panther|1963|      William Bryant|actor|           Policeman|null|\n",
      "|The Pink Panther|2006|  Stewart Castledine|actor|       French Goalie|  49|\n",
      "|The Pink Panther|2006|     John Cenatiempo|actor|       Thug in Alley|  29|\n",
      "|The Pink Panther|2006|      Dominick Cicco|actor|          Pedestrian|null|\n",
      "|The Pink Panther|2006|          Ty Copeman|actor|       Airline Pilot|null|\n",
      "|The Pink Panther|2006|        Henry Czerny|actor|                Yuri|   5|\n",
      "|The Pink Panther|2006|Howard Kevin Daniels|actor|       Casino Dealer|null|\n",
      "|The Pink Panther|2006|        Amir Darvish|actor|                Arab|null|\n",
      "|The Pink Panther|2006|           Jean Dell|actor|Justice Minister ...|  13|\n",
      "+----------------+----+--------------------+-----+--------------------+----+\n",
      "only showing top 20 rows\n",
      "\n",
      "time: 123 ms\n"
     ]
    }
   ],
   "source": [
    "cast[cast.title == 'The Pink Panther'].show()"
   ]
  },
  {
   "cell_type": "code",
   "execution_count": 20,
   "metadata": {
    "collapsed": false
   },
   "outputs": [
    {
     "name": "stdout",
     "output_type": "stream",
     "text": [
      "+----+------+\n",
      "|year|max(n)|\n",
      "+----+------+\n",
      "|1963|    15|\n",
      "|2006|    50|\n",
      "+----+------+\n",
      "\n",
      "time: 515 ms\n"
     ]
    }
   ],
   "source": [
    "cast[cast.title == 'The Pink Panther'].groupby('year').max('n').show()"
   ]
  },
  {
   "cell_type": "markdown",
   "metadata": {
    "collapsed": true
   },
   "source": [
    "### Use groupby() to determine how many roles are listed for each of movies with Pink Panther as a character."
   ]
  },
  {
   "cell_type": "code",
   "execution_count": 17,
   "metadata": {
    "collapsed": false
   },
   "outputs": [
    {
     "name": "stdout",
     "output_type": "stream",
     "text": [
      "+----------------+----+-----------+-----+------------+----+\n",
      "|           title|year|       name| type|   character|   n|\n",
      "+----------------+----+-----------+-----+------------+----+\n",
      "|Long teng hu yue|1983|Li-Peng Wan|actor|Pink Panther|null|\n",
      "| Xin tiao yi bai|1987| Ching Wong|actor|Pink Panther|null|\n",
      "+----------------+----+-----------+-----+------------+----+\n",
      "\n",
      "time: 279 ms\n"
     ]
    }
   ],
   "source": [
    "cast[cast.character == 'Pink Panther'].show()"
   ]
  },
  {
   "cell_type": "code",
   "execution_count": 24,
   "metadata": {
    "collapsed": false
   },
   "outputs": [
    {
     "name": "stdout",
     "output_type": "stream",
     "text": [
      "+----------------+----+--------------+-------+--------------------+----+\n",
      "|           title|year|          name|   type|           character|   n|\n",
      "+----------------+----+--------------+-------+--------------------+----+\n",
      "| Xin tiao yi bai|1987|    Kent Cheng|  actor|            Sgt. Chu|null|\n",
      "| Xin tiao yi bai|1987|    Mark Cheng|  actor|          Weeny Eyes|null|\n",
      "| Xin tiao yi bai|1987|      Fong Liu|  actor|              To Nam|null|\n",
      "| Xin tiao yi bai|1987|  Fui-On Shing|  actor|                 Hai|null|\n",
      "| Xin tiao yi bai|1987|    Ching Wong|  actor|        Pink Panther|null|\n",
      "| Xin tiao yi bai|1987|      Fung Woo|  actor|           Uncle Yam|null|\n",
      "| Xin tiao yi bai|1987| Maggie Cheung|actress|              Maggie|null|\n",
      "| Xin tiao yi bai|1987|    Bonnie Law|actress|           Chu Chung|null|\n",
      "|Long teng hu yue|1983|   Jackie Chan|  actor|           Chan Lung|   1|\n",
      "|Long teng hu yue|1983|  Hui Lou Chen|  actor|        Chan Chi-Pei|   8|\n",
      "|Long teng hu yue|1983|Yeong-Mun Kwon|  actor|         Earth Devil|   6|\n",
      "|Long teng hu yue|1983|      Chang Ma|  actor|           Beggar Su|null|\n",
      "|Long teng hu yue|1983|     Kang Peng|  actor|       Chu Chang-Fen|null|\n",
      "|Long teng hu yue|1983|     Dean Shek|  actor|           Jaws Four|   2|\n",
      "|Long teng hu yue|1983|    James Tien|  actor|            Old Chen|   3|\n",
      "|Long teng hu yue|1983|    Austin Wai|  actor|             Ah Tung|   4|\n",
      "|Long teng hu yue|1983|   Li-Peng Wan|  actor|        Pink Panther|null|\n",
      "|Long teng hu yue|1983|  Shi-Kwan Yen|  actor|Heaven and Earth ...|   5|\n",
      "|Long teng hu yue|1983|     Eun-ju Im|actress|           Hsia Ling|   7|\n",
      "+----------------+----+--------------+-------+--------------------+----+\n",
      "\n",
      "time: 2.89 s\n"
     ]
    }
   ],
   "source": [
    "cast.join(cast[cast.character == 'Pink Panther'].select('title', 'year').distinct(), ['title', 'year']).show()"
   ]
  },
  {
   "cell_type": "code",
   "execution_count": 25,
   "metadata": {
    "collapsed": false
   },
   "outputs": [
    {
     "name": "stdout",
     "output_type": "stream",
     "text": [
      "+----+------+\n",
      "|year|max(n)|\n",
      "+----+------+\n",
      "|1983|     8|\n",
      "|1987|  null|\n",
      "+----+------+\n",
      "\n",
      "time: 2.28 s\n"
     ]
    }
   ],
   "source": [
    "cast.join(cast[cast.character == 'Pink Panther'].select('title', 'year').distinct(), ['title', 'year']).groupby('year').max('n').show()"
   ]
  },
  {
   "cell_type": "markdown",
   "metadata": {
    "collapsed": true
   },
   "source": [
    "### List, in order by year, each of the films in which Frank Oz has played more than 1 role."
   ]
  },
  {
   "cell_type": "code",
   "execution_count": 26,
   "metadata": {
    "collapsed": false
   },
   "outputs": [
    {
     "name": "stdout",
     "output_type": "stream",
     "text": [
      "+--------------------+----+--------+-----+--------------------+---+\n",
      "|               title|year|    name| type|           character|  n|\n",
      "+--------------------+----+--------+-----+--------------------+---+\n",
      "|An American Werew...|1981|Frank Oz|actor|         Mr. Collins| 13|\n",
      "|An American Werew...|1981|Frank Oz|actor|          Miss Piggy| 13|\n",
      "| Blues Brothers 2000|1998|Frank Oz|actor|              Warden|  4|\n",
      "|      Innocent Blood|1992|Frank Oz|actor|         Pathologist| 21|\n",
      "|          Inside Out|2015|Frank Oz|actor|Subconscious Guar...| 14|\n",
      "|           Labyrinth|1986|Frank Oz|actor|         The Wiseman| 17|\n",
      "|      Monsters, Inc.|2001|Frank Oz|actor|              Fungus|  9|\n",
      "|Muppet Treasure I...|1996|Frank Oz|actor|          Miss Piggy| 14|\n",
      "|Muppet Treasure I...|1996|Frank Oz|actor|         Fozzie Bear| 14|\n",
      "|Muppet Treasure I...|1996|Frank Oz|actor|       Sam the Eagle| 14|\n",
      "|Muppet Treasure I...|1996|Frank Oz|actor|              Animal| 14|\n",
      "|  Muppets from Space|1999|Frank Oz|actor|          Miss Piggy|  7|\n",
      "|  Muppets from Space|1999|Frank Oz|actor|         Fozzie Bear|  7|\n",
      "|  Muppets from Space|1999|Frank Oz|actor|              Animal|  7|\n",
      "|  Muppets from Space|1999|Frank Oz|actor|       Sam the Eagle|  7|\n",
      "|Sesame Street Pre...|1985|Frank Oz|actor|      Cookie Monster|  3|\n",
      "|Sesame Street Pre...|1985|Frank Oz|actor|                Bert|  3|\n",
      "|Sesame Street Pre...|1985|Frank Oz|actor|              Grover|  3|\n",
      "|       Spies Like Us|1985|Frank Oz|actor|        Test Monitor|  9|\n",
      "|Star Wars: Episod...|1999|Frank Oz|actor|                Yoda| 12|\n",
      "+--------------------+----+--------+-----+--------------------+---+\n",
      "only showing top 20 rows\n",
      "\n",
      "time: 328 ms\n"
     ]
    }
   ],
   "source": [
    "cast[cast.name == 'Frank Oz'].show()"
   ]
  },
  {
   "cell_type": "code",
   "execution_count": 30,
   "metadata": {
    "collapsed": false
   },
   "outputs": [
    {
     "name": "stdout",
     "output_type": "stream",
     "text": [
      "+----------------------------------------+----+-----+\n",
      "|title                                   |year|count|\n",
      "+----------------------------------------+----+-----+\n",
      "|The Muppet Movie                        |1979|8    |\n",
      "|The Great Muppet Caper                  |1981|6    |\n",
      "|An American Werewolf in London          |1981|2    |\n",
      "|The Dark Crystal                        |1982|2    |\n",
      "|The Muppets Take Manhattan              |1984|7    |\n",
      "|Sesame Street Presents: Follow that Bird|1985|3    |\n",
      "|The Muppet Christmas Carol              |1992|7    |\n",
      "|Muppet Treasure Island                  |1996|4    |\n",
      "|Muppets from Space                      |1999|4    |\n",
      "|The Adventures of Elmo in Grouchland    |1999|3    |\n",
      "+----------------------------------------+----+-----+\n",
      "\n",
      "time: 488 ms\n"
     ]
    }
   ],
   "source": [
    "cast[cast.name == 'Frank Oz'].groupby(['title', 'year']).count().filter('count > 1').sort('year').show(truncate=False)"
   ]
  },
  {
   "cell_type": "markdown",
   "metadata": {
    "collapsed": true
   },
   "source": [
    "### List each of the characters that Frank Oz has portrayed at least twice."
   ]
  },
  {
   "cell_type": "code",
   "execution_count": 33,
   "metadata": {
    "collapsed": false
   },
   "outputs": [
    {
     "name": "stdout",
     "output_type": "stream",
     "text": [
      "+--------------+-----+\n",
      "|character     |count|\n",
      "+--------------+-----+\n",
      "|Miss Piggy    |6    |\n",
      "|Animal        |6    |\n",
      "|Sam the Eagle |5    |\n",
      "|Yoda          |5    |\n",
      "|Fozzie Bear   |4    |\n",
      "|Bert          |3    |\n",
      "|Cookie Monster|3    |\n",
      "+--------------+-----+\n",
      "\n",
      "time: 371 ms\n"
     ]
    }
   ],
   "source": [
    "cast[cast.name == 'Frank Oz'].groupby(['character']).count().filter('count > 2').sort('count', ascending=False).show(truncate=False)"
   ]
  },
  {
   "cell_type": "code",
   "execution_count": null,
   "metadata": {
    "collapsed": true
   },
   "outputs": [],
   "source": []
  }
 ],
 "metadata": {
  "kernelspec": {
   "display_name": "Python 2",
   "language": "python",
   "name": "python2"
  },
  "language_info": {
   "codemirror_mode": {
    "name": "ipython",
    "version": 2
   },
   "file_extension": ".py",
   "mimetype": "text/x-python",
   "name": "python",
   "nbconvert_exporter": "python",
   "pygments_lexer": "ipython2",
   "version": "2.7.11"
  }
 },
 "nbformat": 4,
 "nbformat_minor": 0
}
