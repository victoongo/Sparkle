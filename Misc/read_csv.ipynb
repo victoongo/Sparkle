{
 "cells": [
  {
   "cell_type": "raw",
   "metadata": {},
   "source": [
    "from pyspark import SparkContext\n",
    "sc = SparkContext(appName=\"test\")"
   ]
  },
  {
   "cell_type": "code",
   "execution_count": 9,
   "metadata": {
    "collapsed": false
   },
   "outputs": [
    {
     "name": "stdout",
     "output_type": "stream",
     "text": [
      "Installed autotime.py. To use it, type:\n",
      "  %load_ext autotime\n"
     ]
    },
    {
     "name": "stderr",
     "output_type": "stream",
     "text": [
      "/home/victor/miniconda/lib/python2.7/site-packages/IPython/core/magics/extension.py:47: UserWarning: %install_ext` is deprecated, please distribute your extension as a python package.\n",
      "  \"as a python package.\", UserWarning)\n"
     ]
    }
   ],
   "source": [
    "%install_ext https://raw.github.com/cpcloud/ipython-autotime/master/autotime.py\n",
    "%load_ext autotime"
   ]
  },
  {
   "cell_type": "code",
   "execution_count": 1,
   "metadata": {
    "collapsed": true
   },
   "outputs": [],
   "source": [
    "from pyspark import SQLContext\n",
    "sqlContext = SQLContext(sc)"
   ]
  },
  {
   "cell_type": "code",
   "execution_count": 3,
   "metadata": {
    "collapsed": false
   },
   "outputs": [],
   "source": [
    "# Read csv data as DataFrame using spark-csv package\n",
    "df = sqlContext.read.format('com.databricks.spark.csv').options(header='true', inferSchema='true').load('/home/victor/Dropbox/Projects/TreeBoa/pandas/pycon/data/cast.csv')"
   ]
  },
  {
   "cell_type": "code",
   "execution_count": 4,
   "metadata": {
    "collapsed": false
   },
   "outputs": [
    {
     "data": {
      "text/plain": [
       "[Row(title=u'Suuri illusioni', year=1985, name=u'Homo $', type=u'actor', character=u'Guests', n=22),\n",
       " Row(title=u'Gangsta Rap: The Glockumentary', year=2007, name=u'Too $hort', type=u'actor', character=u'Himself', n=None),\n",
       " Row(title=u'Menace II Society', year=1993, name=u'Too $hort', type=u'actor', character=u'Lew-Loc', n=27),\n",
       " Row(title=u'Porndogs: The Adventures of Sadie', year=2009, name=u'Too $hort', type=u'actor', character=u'Bosco', n=3),\n",
       " Row(title=u'Stop Pepper Palmer', year=2014, name=u'Too $hort', type=u'actor', character=u'Himself', n=None)]"
      ]
     },
     "execution_count": 4,
     "metadata": {},
     "output_type": "execute_result"
    }
   ],
   "source": [
    "df.take(5)"
   ]
  },
  {
   "cell_type": "code",
   "execution_count": 5,
   "metadata": {
    "collapsed": false
   },
   "outputs": [
    {
     "name": "stdout",
     "output_type": "stream",
     "text": [
      "root\n",
      " |-- title: string (nullable = true)\n",
      " |-- year: integer (nullable = true)\n",
      " |-- name: string (nullable = true)\n",
      " |-- type: string (nullable = true)\n",
      " |-- character: string (nullable = true)\n",
      " |-- n: integer (nullable = true)\n",
      "\n"
     ]
    }
   ],
   "source": [
    "df.printSchema()"
   ]
  },
  {
   "cell_type": "code",
   "execution_count": 6,
   "metadata": {
    "collapsed": false
   },
   "outputs": [
    {
     "data": {
      "text/plain": [
       "3289235"
      ]
     },
     "execution_count": 6,
     "metadata": {},
     "output_type": "execute_result"
    }
   ],
   "source": [
    "df.count()"
   ]
  },
  {
   "cell_type": "code",
   "execution_count": 8,
   "metadata": {
    "collapsed": false,
    "scrolled": true
   },
   "outputs": [
    {
     "name": "stdout",
     "output_type": "stream",
     "text": [
      "+----+\n",
      "|year|\n",
      "+----+\n",
      "|1894|\n",
      "|1899|\n",
      "|1900|\n",
      "|1905|\n",
      "|1906|\n",
      "|1907|\n",
      "|1908|\n",
      "|1909|\n",
      "|1910|\n",
      "|1911|\n",
      "|1912|\n",
      "|1913|\n",
      "|1914|\n",
      "|1915|\n",
      "|1916|\n",
      "|1917|\n",
      "|1918|\n",
      "|1919|\n",
      "|1920|\n",
      "|1921|\n",
      "|1922|\n",
      "|1923|\n",
      "|1924|\n",
      "|1925|\n",
      "|1926|\n",
      "|1927|\n",
      "|1928|\n",
      "|1929|\n",
      "|1930|\n",
      "|1931|\n",
      "|1932|\n",
      "|1933|\n",
      "|1934|\n",
      "|1935|\n",
      "|1936|\n",
      "|1937|\n",
      "|1938|\n",
      "|1939|\n",
      "|1940|\n",
      "|1941|\n",
      "|1942|\n",
      "|1943|\n",
      "|1944|\n",
      "|1945|\n",
      "|1946|\n",
      "|1947|\n",
      "|1948|\n",
      "|1949|\n",
      "|1950|\n",
      "|1951|\n",
      "+----+\n",
      "only showing top 50 rows\n",
      "\n"
     ]
    }
   ],
   "source": [
    "df.select('year').distinct().show(50)"
   ]
  },
  {
   "cell_type": "code",
   "execution_count": 11,
   "metadata": {
    "collapsed": false
   },
   "outputs": [
    {
     "name": "stdout",
     "output_type": "stream",
     "text": [
      "time: 19 s\n"
     ]
    }
   ],
   "source": [
    "df.write.parquet('/home/victor/Dropbox/Projects/data/movielens_p/cast')"
   ]
  },
  {
   "cell_type": "code",
   "execution_count": 12,
   "metadata": {
    "collapsed": false
   },
   "outputs": [
    {
     "name": "stdout",
     "output_type": "stream",
     "text": [
      "time: 45.9 s\n"
     ]
    }
   ],
   "source": [
    "pdf = df.toPandas()"
   ]
  },
  {
   "cell_type": "code",
   "execution_count": 13,
   "metadata": {
    "collapsed": false,
    "scrolled": true
   },
   "outputs": [
    {
     "name": "stdout",
     "output_type": "stream",
     "text": [
      "+--------------------+\n",
      "|               title|\n",
      "+--------------------+\n",
      "|   The Indie Pendant|\n",
      "|        Noite Escura|\n",
      "|            El verso|\n",
      "|            Schemata|\n",
      "|        Nee Premakai|\n",
      "|             Il boom|\n",
      "|        The Impostor|\n",
      "|Sukeban: Tamatsuk...|\n",
      "|          Noah's Arc|\n",
      "|          Ambush Bay|\n",
      "| Desperate Endeavors|\n",
      "|            Ya kukla|\n",
      "|               Money|\n",
      "|            Sommaren|\n",
      "|   The Eleventh Hour|\n",
      "|I Walked with a Z...|\n",
      "|       A Simple Plan|\n",
      "|Batad: Sa paang p...|\n",
      "|The End of Our Lives|\n",
      "|            LA Sucks|\n",
      "|  The Heartbreak Kid|\n",
      "|5 Seasons: The Movie|\n",
      "|      One Night Only|\n",
      "|      Lauf der Dinge|\n",
      "|   Einfach nur Liebe|\n",
      "| The Call of Courage|\n",
      "|   El rey del tomate|\n",
      "|            Chlorine|\n",
      "|             Impasse|\n",
      "|   Collateral Damage|\n",
      "|    Madri pericolose|\n",
      "|            Stargirl|\n",
      "|   The Invisible Man|\n",
      "|       The Road Back|\n",
      "|  Assignment Redhead|\n",
      "|           Neverlost|\n",
      "|        Desert Blues|\n",
      "|           Curly Sue|\n",
      "|      Silent Witness|\n",
      "|             Re-Kill|\n",
      "|In the Valley of ...|\n",
      "|        Race the Sun|\n",
      "|  Prick Up Your Ears|\n",
      "|    Science Friction|\n",
      "|Goal II: Living t...|\n",
      "|Paduka Pattabhish...|\n",
      "|       Peau d'espion|\n",
      "|       Kawin kontrak|\n",
      "|  SMS - Suka ma suka|\n",
      "|The Brasher Doubloon|\n",
      "+--------------------+\n",
      "only showing top 50 rows\n",
      "\n",
      "time: 9.74 s\n"
     ]
    }
   ],
   "source": [
    "df.select('title').distinct().show(50)"
   ]
  },
  {
   "cell_type": "code",
   "execution_count": 17,
   "metadata": {
    "collapsed": false
   },
   "outputs": [
    {
     "data": {
      "text/plain": [
       "DataFrame[title: string, year: int, name: string, type: string, character: string, n: int]"
      ]
     },
     "execution_count": 17,
     "metadata": {},
     "output_type": "execute_result"
    },
    {
     "name": "stdout",
     "output_type": "stream",
     "text": [
      "time: 76.3 ms\n"
     ]
    }
   ],
   "source": [
    "df.cache()"
   ]
  },
  {
   "cell_type": "code",
   "execution_count": 18,
   "metadata": {
    "collapsed": false,
    "scrolled": true
   },
   "outputs": [
    {
     "name": "stdout",
     "output_type": "stream",
     "text": [
      "+--------------------+\n",
      "|               title|\n",
      "+--------------------+\n",
      "|   The Indie Pendant|\n",
      "|        Noite Escura|\n",
      "|            El verso|\n",
      "|            Schemata|\n",
      "|        Nee Premakai|\n",
      "|             Il boom|\n",
      "|        The Impostor|\n",
      "|Sukeban: Tamatsuk...|\n",
      "|          Noah's Arc|\n",
      "|          Ambush Bay|\n",
      "| Desperate Endeavors|\n",
      "|            Ya kukla|\n",
      "|               Money|\n",
      "|            Sommaren|\n",
      "|   The Eleventh Hour|\n",
      "|I Walked with a Z...|\n",
      "|       A Simple Plan|\n",
      "|Batad: Sa paang p...|\n",
      "|The End of Our Lives|\n",
      "|            LA Sucks|\n",
      "|  The Heartbreak Kid|\n",
      "|5 Seasons: The Movie|\n",
      "|      One Night Only|\n",
      "|      Lauf der Dinge|\n",
      "|   Einfach nur Liebe|\n",
      "| The Call of Courage|\n",
      "|   El rey del tomate|\n",
      "|            Chlorine|\n",
      "|             Impasse|\n",
      "|   Collateral Damage|\n",
      "|    Madri pericolose|\n",
      "|            Stargirl|\n",
      "|   The Invisible Man|\n",
      "|       The Road Back|\n",
      "|  Assignment Redhead|\n",
      "|           Neverlost|\n",
      "|        Desert Blues|\n",
      "|           Curly Sue|\n",
      "|      Silent Witness|\n",
      "|             Re-Kill|\n",
      "|In the Valley of ...|\n",
      "|        Race the Sun|\n",
      "|  Prick Up Your Ears|\n",
      "|    Science Friction|\n",
      "|Goal II: Living t...|\n",
      "|Paduka Pattabhish...|\n",
      "|       Peau d'espion|\n",
      "|       Kawin kontrak|\n",
      "|  SMS - Suka ma suka|\n",
      "|The Brasher Doubloon|\n",
      "+--------------------+\n",
      "only showing top 50 rows\n",
      "\n",
      "time: 17.6 s\n"
     ]
    }
   ],
   "source": [
    "df.select('title').distinct().show(50)"
   ]
  },
  {
   "cell_type": "code",
   "execution_count": 20,
   "metadata": {
    "collapsed": false,
    "scrolled": true
   },
   "outputs": [
    {
     "name": "stdout",
     "output_type": "stream",
     "text": [
      "+--------------------+\n",
      "|               title|\n",
      "+--------------------+\n",
      "|   The Indie Pendant|\n",
      "|        Noite Escura|\n",
      "|            El verso|\n",
      "|            Schemata|\n",
      "|        Nee Premakai|\n",
      "|             Il boom|\n",
      "|        The Impostor|\n",
      "|Sukeban: Tamatsuk...|\n",
      "|          Noah's Arc|\n",
      "|          Ambush Bay|\n",
      "| Desperate Endeavors|\n",
      "|            Ya kukla|\n",
      "|               Money|\n",
      "|            Sommaren|\n",
      "|   The Eleventh Hour|\n",
      "|I Walked with a Z...|\n",
      "|       A Simple Plan|\n",
      "|Batad: Sa paang p...|\n",
      "|The End of Our Lives|\n",
      "|            LA Sucks|\n",
      "|  The Heartbreak Kid|\n",
      "|5 Seasons: The Movie|\n",
      "|      One Night Only|\n",
      "|      Lauf der Dinge|\n",
      "|   Einfach nur Liebe|\n",
      "| The Call of Courage|\n",
      "|   El rey del tomate|\n",
      "|            Chlorine|\n",
      "|             Impasse|\n",
      "|   Collateral Damage|\n",
      "|    Madri pericolose|\n",
      "|            Stargirl|\n",
      "|   The Invisible Man|\n",
      "|       The Road Back|\n",
      "|  Assignment Redhead|\n",
      "|           Neverlost|\n",
      "|        Desert Blues|\n",
      "|           Curly Sue|\n",
      "|      Silent Witness|\n",
      "|             Re-Kill|\n",
      "|In the Valley of ...|\n",
      "|        Race the Sun|\n",
      "|  Prick Up Your Ears|\n",
      "|    Science Friction|\n",
      "|Goal II: Living t...|\n",
      "|Paduka Pattabhish...|\n",
      "|       Peau d'espion|\n",
      "|       Kawin kontrak|\n",
      "|  SMS - Suka ma suka|\n",
      "|The Brasher Doubloon|\n",
      "+--------------------+\n",
      "only showing top 50 rows\n",
      "\n",
      "time: 870 ms\n"
     ]
    }
   ],
   "source": [
    "df.select('title').distinct().show(50)"
   ]
  },
  {
   "cell_type": "code",
   "execution_count": null,
   "metadata": {
    "collapsed": true
   },
   "outputs": [],
   "source": []
  },
  {
   "cell_type": "code",
   "execution_count": 21,
   "metadata": {
    "collapsed": false,
    "scrolled": true
   },
   "outputs": [
    {
     "data": {
      "text/plain": [
       "0                                       Suuri illusioni\n",
       "1                        Gangsta Rap: The Glockumentary\n",
       "2                                     Menace II Society\n",
       "3                     Porndogs: The Adventures of Sadie\n",
       "4                                    Stop Pepper Palmer\n",
       "5                                               Townbiz\n",
       "6                                        For Thy Love 2\n",
       "7                                          Desire (III)\n",
       "8                               When the Man Went South\n",
       "9                               Little Angel (Angelita)\n",
       "10                                           Mixing Nia\n",
       "11                                     The Replacements\n",
       "12                                          Dysfunktion\n",
       "13                                      My Song for You\n",
       "15                                               B-Girl\n",
       "16                                   Battle of the Year\n",
       "17                                 Kickin' It Old Skool\n",
       "18                                       Step Up All In\n",
       "19                       The LXD: The Secrets of the Ra\n",
       "20                                          Todo x Sara\n",
       "21                                     Barrio Gangsters\n",
       "22    Cornmeal, Gunpowder, Ham Hocks and Guitar Strings\n",
       "24                                    Pelotazo nacional\n",
       "25                                         Los tarantos\n",
       "26                                          De la calle\n",
       "29                              They Want Dick Dickster\n",
       "30                                     Mahogany Sunrise\n",
       "31                                              Wakolda\n",
       "32                                       Killing Device\n",
       "33         Troop 491: the Adventures of the Muddy Lions\n",
       "34                                        Heron's Story\n",
       "35             Been Down So Long It Looks Like Up to Me\n",
       "36                               I Wanna Hold Your Hand\n",
       "37                          That's the Way of the World\n",
       "38                                     Violencia urbana\n",
       "39                            Nothing Like the Holidays\n",
       "40                                         Ransum Games\n",
       "41                                     Subtle Seduction\n",
       "42                           The Godfather of Green Bay\n",
       "43                                                Using\n",
       "44                        El secuestro de un periodista\n",
       "45                               Violencia en la sierra\n",
       "46                                     Rebecca's Window\n",
       "47                                            Zeroville\n",
       "48                      In the Land of the Head Hunters\n",
       "51                                  Reflections of Evil\n",
       "53                                    Subprime Children\n",
       "54                                       Candie's Harem\n",
       "55                                            Step Fast\n",
       "57                                        Josephine Doe\n",
       "Name: title, dtype: object"
      ]
     },
     "execution_count": 21,
     "metadata": {},
     "output_type": "execute_result"
    },
    {
     "name": "stdout",
     "output_type": "stream",
     "text": [
      "time: 1.32 s\n"
     ]
    }
   ],
   "source": [
    "pdf.title.drop_duplicates().head(50)"
   ]
  },
  {
   "cell_type": "code",
   "execution_count": null,
   "metadata": {
    "collapsed": true
   },
   "outputs": [],
   "source": [
    "dp = sqlContext.read.parquet('/home/victor/Dropbox/Projects/data/movielens_p/cast')  \n",
    "dp.registerTempTable(\"dpt\")"
   ]
  },
  {
   "cell_type": "code",
   "execution_count": null,
   "metadata": {
    "collapsed": true
   },
   "outputs": [],
   "source": [
    "dp.take(5)"
   ]
  },
  {
   "cell_type": "code",
   "execution_count": null,
   "metadata": {
    "collapsed": false
   },
   "outputs": [],
   "source": [
    "dp.count()"
   ]
  },
  {
   "cell_type": "code",
   "execution_count": null,
   "metadata": {
    "collapsed": false
   },
   "outputs": [],
   "source": [
    "dp.select('organisation_id').distinct().collect()"
   ]
  },
  {
   "cell_type": "code",
   "execution_count": null,
   "metadata": {
    "collapsed": true
   },
   "outputs": [],
   "source": []
  }
 ],
 "metadata": {
  "kernelspec": {
   "display_name": "Python 2",
   "language": "python",
   "name": "python2"
  },
  "language_info": {
   "codemirror_mode": {
    "name": "ipython",
    "version": 2
   },
   "file_extension": ".py",
   "mimetype": "text/x-python",
   "name": "python",
   "nbconvert_exporter": "python",
   "pygments_lexer": "ipython2",
   "version": "2.7.11"
  }
 },
 "nbformat": 4,
 "nbformat_minor": 0
}
