{
 "cells": [
  {
   "cell_type": "raw",
   "metadata": {},
   "source": [
    "from pyspark import SparkContext\n",
    "sc = SparkContext(appName=\"test\")"
   ]
  },
  {
   "cell_type": "code",
   "execution_count": null,
   "metadata": {
    "collapsed": false
   },
   "outputs": [],
   "source": [
    "%install_ext https://raw.github.com/cpcloud/ipython-autotime/master/autotime.py\n",
    "%load_ext autotime"
   ]
  },
  {
   "cell_type": "code",
   "execution_count": null,
   "metadata": {
    "collapsed": false
   },
   "outputs": [],
   "source": [
    "from pyspark import SQLContext\n",
    "sqlContext = SQLContext(sc)"
   ]
  },
  {
   "cell_type": "code",
   "execution_count": null,
   "metadata": {
    "collapsed": false
   },
   "outputs": [],
   "source": [
    "sqlContext.read.format('com.databricks.spark.csv').options(header='true', inferSchema='true')\\\n",
    "    .load('/home/victor/Dropbox/Projects/data/bd/ts.csv')\\\n",
    "    .write.mode('overwrite').parquet('/home/victor/Dropbox/Projects/data/bd/ts.parquet')"
   ]
  },
  {
   "cell_type": "code",
   "execution_count": null,
   "metadata": {
    "collapsed": false
   },
   "outputs": [],
   "source": [
    "df = sqlContext.read.parquet('/home/victor/Dropbox/Projects/data/bd/ts.parquet')\n",
    "df.cache()"
   ]
  },
  {
   "cell_type": "code",
   "execution_count": null,
   "metadata": {
    "collapsed": false
   },
   "outputs": [],
   "source": [
    "df.show(5)"
   ]
  },
  {
   "cell_type": "code",
   "execution_count": 9,
   "metadata": {
    "collapsed": false
   },
   "outputs": [
    {
     "name": "stdout",
     "output_type": "stream",
     "text": [
      "root\n",
      " |-- id: integer (nullable = true)\n",
      " |-- organisation_id: integer (nullable = true)\n",
      " |-- location_id: integer (nullable = true)\n",
      " |-- import_id: integer (nullable = true)\n",
      " |-- merchant_id: integer (nullable = true)\n",
      " |-- period: string (nullable = true)\n",
      " |-- terminal_id: long (nullable = true)\n",
      " |-- date: timestamp (nullable = true)\n",
      " |-- mask_number: string (nullable = true)\n",
      " |-- reference: integer (nullable = true)\n",
      " |-- logo: string (nullable = true)\n",
      " |-- action: string (nullable = true)\n",
      " |-- approved: double (nullable = true)\n",
      " |-- declined: double (nullable = true)\n",
      " |-- cash: double (nullable = true)\n",
      " |-- purchase: double (nullable = true)\n",
      " |-- settled: string (nullable = true)\n",
      " |-- financial: string (nullable = true)\n",
      " |-- repeat_customer: integer (nullable = true)\n",
      " |-- new_location: integer (nullable = true)\n",
      " |-- approved_purchase: double (nullable = true)\n",
      " |-- approved_cash: double (nullable = true)\n",
      " |-- matched_to_members: string (nullable = true)\n",
      " |-- points_value: integer (nullable = true)\n",
      " |-- token: string (nullable = true)\n",
      " |-- customer_reference: string (nullable = true)\n",
      " |-- purchase_order_number: integer (nullable = true)\n",
      "\n",
      "time: 8.33 ms\n"
     ]
    }
   ],
   "source": [
    "df.printSchema()"
   ]
  },
  {
   "cell_type": "code",
   "execution_count": null,
   "metadata": {
    "collapsed": false
   },
   "outputs": [],
   "source": [
    "df.count()"
   ]
  },
  {
   "cell_type": "code",
   "execution_count": null,
   "metadata": {
    "collapsed": false
   },
   "outputs": [],
   "source": [
    "df.select('organisation_id').distinct().collect()"
   ]
  },
  {
   "cell_type": "code",
   "execution_count": null,
   "metadata": {
    "collapsed": false
   },
   "outputs": [],
   "source": [
    "pdf = df.toPandas()"
   ]
  },
  {
   "cell_type": "code",
   "execution_count": null,
   "metadata": {
    "collapsed": true
   },
   "outputs": [],
   "source": []
  }
 ],
 "metadata": {
  "kernelspec": {
   "display_name": "Python 2",
   "language": "python",
   "name": "python2"
  },
  "language_info": {
   "codemirror_mode": {
    "name": "ipython",
    "version": 2
   },
   "file_extension": ".py",
   "mimetype": "text/x-python",
   "name": "python",
   "nbconvert_exporter": "python",
   "pygments_lexer": "ipython2",
   "version": "2.7.11"
  }
 },
 "nbformat": 4,
 "nbformat_minor": 0
}
